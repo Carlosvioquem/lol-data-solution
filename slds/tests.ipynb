{
 "cells": [
  {
   "cell_type": "code",
   "execution_count": 1,
   "metadata": {
    "collapsed": true
   },
   "outputs": [],
   "source": [
    "from riotwatcher import RiotWatcher\n",
    "import pandas as pd\n",
    "from converters.data2frames import game_to_dataframe as g2df\n",
    "from converters.data2frames import game_teams_to_dataframe as gt2df\n",
    "from converters.data2frames import champs_to_dataframe as ch2df\n",
    "from converters.data2files import read_json\n",
    "from config.constants import API_KEY, SLO_GAMES_DIR, SLO_DATASET_CSV, SLO_MATCHES_FILE_PATH, SCRIMS_POSITIONS_COLS\n",
    "from config.constants import DATA_DRAGON_URL, DD_RUNES_REFORGED, DD_LANGUAGE, DD_RUNES_REFORGED, STATIC_DATA_DIR\n",
    "from config.constants import LCK_MATCHES_FILE_PATH, LEAGUES_DATA_DICT\n",
    "import numpy as np\n",
    "from slds import Slds\n"
   ]
  },
  {
   "cell_type": "code",
   "execution_count": 2,
   "metadata": {
    "collapsed": true
   },
   "outputs": [],
   "source": [
    "slds = Slds(region='EUW1', league='SOLOQ')"
   ]
  },
  {
   "cell_type": "code",
   "execution_count": 3,
   "metadata": {
    "collapsed": true
   },
   "outputs": [],
   "source": [
    "rw = slds.rw"
   ]
  },
  {
   "cell_type": "code",
   "execution_count": 29,
   "metadata": {
    "collapsed": true
   },
   "outputs": [],
   "source": [
    "m = rw.match.by_id(match_id=3366842667, region='EUW1')"
   ]
  },
  {
   "cell_type": "code",
   "execution_count": 31,
   "metadata": {},
   "outputs": [
    {
     "data": {
      "text/plain": [
       "False"
      ]
     },
     "execution_count": 31,
     "metadata": {},
     "output_type": "execute_result"
    }
   ],
   "source": [
    "'masteries' in m['participants'][0]"
   ]
  },
  {
   "cell_type": "code",
   "execution_count": 28,
   "metadata": {},
   "outputs": [
    {
     "data": {
      "text/plain": [
       "{'championId': 18,\n",
       " 'highestAchievedSeasonTier': 'GOLD',\n",
       " 'participantId': 1,\n",
       " 'spell1Id': 7,\n",
       " 'spell2Id': 4,\n",
       " 'teamId': 100}"
      ]
     },
     "execution_count": 28,
     "metadata": {},
     "output_type": "execute_result"
    }
   ],
   "source": [
    "m['participants'][0]"
   ]
  },
  {
   "cell_type": "code",
   "execution_count": 17,
   "metadata": {
    "collapsed": true
   },
   "outputs": [],
   "source": [
    "accs = [23787352,\n",
    "227994782,\n",
    "203396130,\n",
    "231898666,\n",
    "22654093,\n",
    "36549969,\n",
    "33328489,\n",
    "218694983,\n",
    "35306044,\n",
    "36623216,\n",
    "26609836]"
   ]
  },
  {
   "cell_type": "code",
   "execution_count": 19,
   "metadata": {},
   "outputs": [
    {
     "data": {
      "text/plain": [
       "[23787352,\n",
       " 227994782,\n",
       " 203396130,\n",
       " 231898666,\n",
       " 22654093,\n",
       " 36549969,\n",
       " 33328489,\n",
       " 218694983,\n",
       " 35306044,\n",
       " 36623216,\n",
       " 26609836]"
      ]
     },
     "execution_count": 19,
     "metadata": {},
     "output_type": "execute_result"
    }
   ],
   "source": [
    "accs"
   ]
  },
  {
   "cell_type": "code",
   "execution_count": 38,
   "metadata": {
    "collapsed": true
   },
   "outputs": [],
   "source": [
    "from itertools import chain"
   ]
  },
  {
   "cell_type": "code",
   "execution_count": 41,
   "metadata": {
    "collapsed": true
   },
   "outputs": [],
   "source": [
    "matches = list(chain.from_iterable([rw.match.matchlist_by_account(account_id=acc, end_index=20, region=slds.region, queue=420)['matches'] for acc in accs]))"
   ]
  },
  {
   "cell_type": "code",
   "execution_count": 49,
   "metadata": {
    "collapsed": true
   },
   "outputs": [],
   "source": [
    "gids = list(set([m['gameId'] for m in mls]))"
   ]
  },
  {
   "cell_type": "code",
   "execution_count": null,
   "metadata": {
    "collapsed": true
   },
   "outputs": [],
   "source": []
  },
  {
   "cell_type": "code",
   "execution_count": 19,
   "metadata": {
    "collapsed": true
   },
   "outputs": [],
   "source": [
    "df1 = pd.read_csv(LEAGUES_DATA_DICT['LCK']['matches_file_path'], dtype=LEAGUES_DATA_DICT['LCK']['dtypes'])"
   ]
  },
  {
   "cell_type": "code",
   "execution_count": 28,
   "metadata": {},
   "outputs": [
    {
     "data": {
      "text/plain": [
       "['610102ESPORTSTMNT064c4b4d8125f38efd',\n",
       " '610109ESPORTSTMNT062d3121f88a2c511e',\n",
       " '610136ESPORTSTMNT0626a09c54925361c7',\n",
       " '610146ESPORTSTMNT0650dfe66cd797a18c',\n",
       " '610193ESPORTSTMNT061498e65fb001db0a',\n",
       " '610218ESPORTSTMNT06f3e609a28a705351',\n",
       " '610224ESPORTSTMNT060da0973b8a849589',\n",
       " '610265ESPORTSTMNT0637560d50e4b2f84a',\n",
       " '600331ESPORTSTMNT06b8dbd0493f9eb0c5',\n",
       " '600340ESPORTSTMNT06fe6437733795ba5e',\n",
       " '600353ESPORTSTMNT065be43bbca0d47260',\n",
       " '600383ESPORTSTMNT0635ceec6b7c14b8ba',\n",
       " '610520ESPORTSTMNT061f79180fd04a61b3',\n",
       " '610551ESPORTSTMNT0618d48860c75f5d62',\n",
       " '610554ESPORTSTMNT066573d07a09e1e11c',\n",
       " '610569ESPORTSTMNT0656a821331243562e',\n",
       " '610588ESPORTSTMNT063be30c8d91d118d0',\n",
       " '610592ESPORTSTMNT069f556a228a768584']"
      ]
     },
     "execution_count": 28,
     "metadata": {},
     "output_type": "execute_result"
    }
   ],
   "source": [
    "list(df1.game_id.map(str) + df1.tournament + df1.hash)"
   ]
  },
  {
   "cell_type": "code",
   "execution_count": 29,
   "metadata": {
    "collapsed": true
   },
   "outputs": [],
   "source": [
    "def something(asd, **kwargs):\n",
    "    print(kwargs['b'])"
   ]
  },
  {
   "cell_type": "code",
   "execution_count": 30,
   "metadata": {},
   "outputs": [
    {
     "name": "stdout",
     "output_type": "stream",
     "text": [
      "shit\n"
     ]
    }
   ],
   "source": [
    "something('asd', b='shit')"
   ]
  },
  {
   "cell_type": "code",
   "execution_count": 31,
   "metadata": {
    "collapsed": true
   },
   "outputs": [],
   "source": [
    "pids = {\"participantId\":1,\"player\":{\"summonerName\":\"SKT Untara\",\"profileIcon\":4}},{\"participantId\":2,\"player\":{\"summonerName\":\"SKT Blossom\",\"profileIcon\":7}},{\"participantId\":3,\"player\":{\"summonerName\":\"SKT Faker\",\"profileIcon\":7}},{\"participantId\":4,\"player\":{\"summonerName\":\"SKT Bang\",\"profileIcon\":20}},{\"participantId\":5,\"player\":{\"summonerName\":\"SKT Wolf\",\"profileIcon\":7}},{\"participantId\":6,\"player\":{\"summonerName\":\"KZ Khan\",\"profileIcon\":6}},{\"participantId\":7,\"player\":{\"summonerName\":\"KZ Peanut\",\"profileIcon\":6}},{\"participantId\":8,\"player\":{\"summonerName\":\"KZ Bdd\",\"profileIcon\":6}},{\"participantId\":9,\"player\":{\"summonerName\":\"KZ PraY\",\"profileIcon\":6}},{\"participantId\":10,\"player\":{\"summonerName\":\"KZ GorillA\",\"profileIcon\":6}}"
   ]
  },
  {
   "cell_type": "code",
   "execution_count": 34,
   "metadata": {},
   "outputs": [
    {
     "name": "stdout",
     "output_type": "stream",
     "text": [
      "{'participantId': 1, 'player': {'summonerName': 'SKT Untara', 'profileIcon': 4}}\n",
      "{'participantId': 2, 'player': {'summonerName': 'SKT Blossom', 'profileIcon': 7}}\n",
      "{'participantId': 3, 'player': {'summonerName': 'SKT Faker', 'profileIcon': 7}}\n",
      "{'participantId': 4, 'player': {'summonerName': 'SKT Bang', 'profileIcon': 20}}\n",
      "{'participantId': 5, 'player': {'summonerName': 'SKT Wolf', 'profileIcon': 7}}\n",
      "{'participantId': 6, 'player': {'summonerName': 'KZ Khan', 'profileIcon': 6}}\n",
      "{'participantId': 7, 'player': {'summonerName': 'KZ Peanut', 'profileIcon': 6}}\n",
      "{'participantId': 8, 'player': {'summonerName': 'KZ Bdd', 'profileIcon': 6}}\n",
      "{'participantId': 9, 'player': {'summonerName': 'KZ PraY', 'profileIcon': 6}}\n",
      "{'participantId': 10, 'player': {'summonerName': 'KZ GorillA', 'profileIcon': 6}}\n"
     ]
    }
   ],
   "source": [
    "for x in pids:\n",
    "    print(x)"
   ]
  },
  {
   "cell_type": "code",
   "execution_count": null,
   "metadata": {
    "collapsed": true
   },
   "outputs": [],
   "source": []
  }
 ],
 "metadata": {
  "kernelspec": {
   "display_name": "Python 3",
   "language": "python",
   "name": "python3"
  },
  "language_info": {
   "codemirror_mode": {
    "name": "ipython",
    "version": 3
   },
   "file_extension": ".py",
   "mimetype": "text/x-python",
   "name": "python",
   "nbconvert_exporter": "python",
   "pygments_lexer": "ipython3",
   "version": "3.6.1"
  }
 },
 "nbformat": 4,
 "nbformat_minor": 2
}
