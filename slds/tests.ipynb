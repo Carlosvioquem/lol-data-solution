{
 "cells": [
  {
   "cell_type": "code",
   "execution_count": 1,
   "metadata": {
    "collapsed": true
   },
   "outputs": [],
   "source": [
    "from riotwatcher import RiotWatcher\n",
    "import pandas as pd\n",
    "from converters.data2frames import game_to_dataframe as g2df\n",
    "from converters.data2frames import game_teams_to_dataframe as gt2df\n",
    "from converters.data2frames import champs_to_dataframe as ch2df\n",
    "from converters.data2files import read_json\n",
    "from config.constants import API_KEY, SLO_GAMES_DIR, SLO_DATASET_CSV, SLO_MATCHES_FILE_PATH, SCRIMS_POSITIONS_COLS\n",
    "from config.constants import DATA_DRAGON_URL, DD_RUNES_REFORGED, DD_LANGUAGE, DD_RUNES_REFORGED, STATIC_DATA_DIR, CSV_EXPORT_PATH_MERGED\n",
    "from config.constants import LCK_MATCHES_FILE_PATH, LEAGUES_DATA_DICT, CSV_EXPORT_PATH, EXCEL_EXPORT_PATH, IDS_FILE_PATH, EXPORTS_DIR\n",
    "import numpy as np\n",
    "from slds import Slds\n",
    "import py_gg as cgg\n"
   ]
  },
  {
   "cell_type": "code",
   "execution_count": 2,
   "metadata": {
    "collapsed": true
   },
   "outputs": [],
   "source": [
    "slds = Slds(region='EUW1', league='SOLOQ')"
   ]
  },
  {
   "cell_type": "code",
   "execution_count": 3,
   "metadata": {
    "collapsed": true
   },
   "outputs": [],
   "source": [
    "rw = slds.rw"
   ]
  },
  {
   "cell_type": "code",
   "execution_count": 4,
   "metadata": {
    "collapsed": true
   },
   "outputs": [],
   "source": [
    "cgg.init('abab11f3c536f617e5ecbeea49aadfc8')"
   ]
  },
  {
   "cell_type": "code",
   "execution_count": 6,
   "metadata": {},
   "outputs": [],
   "source": [
    "champs = cgg.champions.all()"
   ]
  },
  {
   "cell_type": "code",
   "execution_count": 8,
   "metadata": {},
   "outputs": [],
   "source": [
    "stats_overall = cgg.statistics.overall()"
   ]
  },
  {
   "cell_type": "code",
   "execution_count": 10,
   "metadata": {},
   "outputs": [],
   "source": [
    "stats_general = cgg.statistics.general()"
   ]
  },
  {
   "cell_type": "code",
   "execution_count": 36,
   "metadata": {},
   "outputs": [],
   "source": [
    "champ_40 = cgg.champions.specific(id=40, options={'champData': 'damage'})"
   ]
  },
  {
   "cell_type": "code",
   "execution_count": 54,
   "metadata": {},
   "outputs": [
    {
     "data": {
      "text/plain": [
       "{'percentMagical': 0.8188064464955549,\n",
       " 'percentPhysical': 0.102042692617938,\n",
       " 'percentTrue': 0.07905633434429414,\n",
       " 'total': 8015.690826796649,\n",
       " 'totalMagical': 6563.299322096381,\n",
       " 'totalPhysical': 817.9426751592357,\n",
       " 'totalTrue': 633.6911340037275}"
      ]
     },
     "execution_count": 54,
     "metadata": {},
     "output_type": "execute_result"
    }
   ],
   "source": [
    "champ_40[0]['damageComposition']"
   ]
  },
  {
   "cell_type": "code",
   "execution_count": 40,
   "metadata": {},
   "outputs": [],
   "source": [
    "champs = ch2df(read_json(save_dir=STATIC_DATA_DIR, file_name='champions'))"
   ]
  },
  {
   "cell_type": "code",
   "execution_count": 56,
   "metadata": {},
   "outputs": [],
   "source": [
    "champs_damage_percents = {champ[1]['name']:  cgg.champions.specific(id=champ[1]['id'], options={'champData': 'damage'})[0]['damageComposition'] for champ in champs.iterrows()}"
   ]
  },
  {
   "cell_type": "code",
   "execution_count": 62,
   "metadata": {},
   "outputs": [],
   "source": [
    "pd.DataFrame(champs_damage_percents).T.reset_index().rename(columns={'index': 'champ_name'}).to_excel('champs_dmg_percent.xlsx')"
   ]
  },
  {
   "cell_type": "code",
   "execution_count": null,
   "metadata": {
    "collapsed": true
   },
   "outputs": [],
   "source": [
    "ml = rw.match.matchlist_by_account(a)"
   ]
  },
  {
   "cell_type": "code",
   "execution_count": null,
   "metadata": {
    "collapsed": true
   },
   "outputs": [],
   "source": [
    "tl = rw.match.timeline_by_match(match_id=3567214874, region='EUW1')"
   ]
  },
  {
   "cell_type": "code",
   "execution_count": null,
   "metadata": {
    "collapsed": true
   },
   "outputs": [],
   "source": [
    "fs = tl['frames']"
   ]
  },
  {
   "cell_type": "code",
   "execution_count": null,
   "metadata": {
    "collapsed": true
   },
   "outputs": [],
   "source": [
    "fs[1]['timestamp'] / 60000"
   ]
  },
  {
   "cell_type": "code",
   "execution_count": null,
   "metadata": {
    "collapsed": true
   },
   "outputs": [],
   "source": []
  },
  {
   "cell_type": "code",
   "execution_count": null,
   "metadata": {
    "collapsed": true
   },
   "outputs": [],
   "source": [
    "m = rw.match.by_id(match_id=3366842667, region='EUW1')"
   ]
  },
  {
   "cell_type": "code",
   "execution_count": 17,
   "metadata": {},
   "outputs": [
    {
     "name": "stderr",
     "output_type": "stream",
     "text": [
      "C:\\Users\\david\\Anaconda3\\lib\\site-packages\\IPython\\core\\interactiveshell.py:2717: DtypeWarning: Columns (47,48) have mixed types. Specify dtype option on import or set low_memory=False.\n",
      "  interactivity=interactivity, compiler=compiler, result=result)\n"
     ]
    }
   ],
   "source": [
    "df2 = pd.read_csv(LEAGUES_DATA_DICT['SOLOQ'][CSV_EXPORT_PATH_MERGED], index_col=0, encoding='ISO-8859-1')"
   ]
  },
  {
   "cell_type": "code",
   "execution_count": 18,
   "metadata": {
    "collapsed": true
   },
   "outputs": [],
   "source": [
    "df2['lanerole'] = df2['lane'] + '_'  + df2['role']"
   ]
  },
  {
   "cell_type": "code",
   "execution_count": 19,
   "metadata": {
    "collapsed": true
   },
   "outputs": [],
   "source": [
    "def position(lanerole):\n",
    "    if lanerole == 'JUNGLE_NONE':\n",
    "        return 'JUNG'\n",
    "    elif lanerole == 'BOTTOM_DUO_SUPPORT':\n",
    "        return 'SUPP'\n",
    "    elif lanerole == 'BOTTOM_DUO_CARRY':\n",
    "        return 'ADC'\n",
    "    elif lanerole == 'TOP_SOLO':\n",
    "        return 'TOP'\n",
    "    elif lanerole == 'MIDDLE_SOLO':\n",
    "        return 'MID'"
   ]
  },
  {
   "cell_type": "code",
   "execution_count": 20,
   "metadata": {
    "collapsed": true
   },
   "outputs": [],
   "source": [
    "df2['position'] = df2.lanerole.apply(position)"
   ]
  },
  {
   "cell_type": "code",
   "execution_count": 21,
   "metadata": {
    "collapsed": true
   },
   "outputs": [],
   "source": [
    "df3 = df2[pd.notnull(df2.main_role)]"
   ]
  },
  {
   "cell_type": "code",
   "execution_count": 23,
   "metadata": {
    "collapsed": true
   },
   "outputs": [],
   "source": [
    "df4 = df3[df3.position == df3.main_role]"
   ]
  },
  {
   "cell_type": "code",
   "execution_count": 34,
   "metadata": {
    "scrolled": true
   },
   "outputs": [
    {
     "data": {
      "text/html": [
       "<div>\n",
       "<style>\n",
       "    .dataframe thead tr:only-child th {\n",
       "        text-align: right;\n",
       "    }\n",
       "\n",
       "    .dataframe thead th {\n",
       "        text-align: left;\n",
       "    }\n",
       "\n",
       "    .dataframe tbody tr th {\n",
       "        vertical-align: top;\n",
       "    }\n",
       "</style>\n",
       "<table border=\"1\" class=\"dataframe\">\n",
       "  <thead>\n",
       "    <tr style=\"text-align: right;\">\n",
       "      <th></th>\n",
       "      <th>gameId</th>\n",
       "      <th>teamId</th>\n",
       "      <th>position</th>\n",
       "    </tr>\n",
       "  </thead>\n",
       "  <tbody>\n",
       "    <tr>\n",
       "      <th>21359</th>\n",
       "      <td>2735302151</td>\n",
       "      <td>200.0</td>\n",
       "      <td>TOP</td>\n",
       "    </tr>\n",
       "    <tr>\n",
       "      <th>21357</th>\n",
       "      <td>2735302151</td>\n",
       "      <td>200.0</td>\n",
       "      <td>SUPP</td>\n",
       "    </tr>\n",
       "    <tr>\n",
       "      <th>21358</th>\n",
       "      <td>2735302151</td>\n",
       "      <td>200.0</td>\n",
       "      <td>JUNG</td>\n",
       "    </tr>\n",
       "    <tr>\n",
       "      <th>21353</th>\n",
       "      <td>2735302151</td>\n",
       "      <td>100.0</td>\n",
       "      <td>None</td>\n",
       "    </tr>\n",
       "    <tr>\n",
       "      <th>21352</th>\n",
       "      <td>2735302151</td>\n",
       "      <td>100.0</td>\n",
       "      <td>MID</td>\n",
       "    </tr>\n",
       "    <tr>\n",
       "      <th>21350</th>\n",
       "      <td>2735302151</td>\n",
       "      <td>100.0</td>\n",
       "      <td>JUNG</td>\n",
       "    </tr>\n",
       "    <tr>\n",
       "      <th>21356</th>\n",
       "      <td>2735302151</td>\n",
       "      <td>200.0</td>\n",
       "      <td>MID</td>\n",
       "    </tr>\n",
       "    <tr>\n",
       "      <th>21355</th>\n",
       "      <td>2735302151</td>\n",
       "      <td>200.0</td>\n",
       "      <td>ADC</td>\n",
       "    </tr>\n",
       "    <tr>\n",
       "      <th>21354</th>\n",
       "      <td>2735302151</td>\n",
       "      <td>100.0</td>\n",
       "      <td>None</td>\n",
       "    </tr>\n",
       "    <tr>\n",
       "      <th>21351</th>\n",
       "      <td>2735302151</td>\n",
       "      <td>100.0</td>\n",
       "      <td>TOP</td>\n",
       "    </tr>\n",
       "    <tr>\n",
       "      <th>17958</th>\n",
       "      <td>2737214918</td>\n",
       "      <td>200.0</td>\n",
       "      <td>ADC</td>\n",
       "    </tr>\n",
       "    <tr>\n",
       "      <th>17956</th>\n",
       "      <td>2737214918</td>\n",
       "      <td>200.0</td>\n",
       "      <td>TOP</td>\n",
       "    </tr>\n",
       "    <tr>\n",
       "      <th>17952</th>\n",
       "      <td>2737214918</td>\n",
       "      <td>100.0</td>\n",
       "      <td>MID</td>\n",
       "    </tr>\n",
       "    <tr>\n",
       "      <th>17955</th>\n",
       "      <td>2737214918</td>\n",
       "      <td>200.0</td>\n",
       "      <td>MID</td>\n",
       "    </tr>\n",
       "    <tr>\n",
       "      <th>17959</th>\n",
       "      <td>2737214918</td>\n",
       "      <td>200.0</td>\n",
       "      <td>SUPP</td>\n",
       "    </tr>\n",
       "    <tr>\n",
       "      <th>17951</th>\n",
       "      <td>2737214918</td>\n",
       "      <td>100.0</td>\n",
       "      <td>SUPP</td>\n",
       "    </tr>\n",
       "    <tr>\n",
       "      <th>17954</th>\n",
       "      <td>2737214918</td>\n",
       "      <td>100.0</td>\n",
       "      <td>TOP</td>\n",
       "    </tr>\n",
       "    <tr>\n",
       "      <th>17950</th>\n",
       "      <td>2737214918</td>\n",
       "      <td>100.0</td>\n",
       "      <td>ADC</td>\n",
       "    </tr>\n",
       "    <tr>\n",
       "      <th>17957</th>\n",
       "      <td>2737214918</td>\n",
       "      <td>200.0</td>\n",
       "      <td>JUNG</td>\n",
       "    </tr>\n",
       "    <tr>\n",
       "      <th>17953</th>\n",
       "      <td>2737214918</td>\n",
       "      <td>100.0</td>\n",
       "      <td>JUNG</td>\n",
       "    </tr>\n",
       "    <tr>\n",
       "      <th>16016</th>\n",
       "      <td>2737661744</td>\n",
       "      <td>200.0</td>\n",
       "      <td>JUNG</td>\n",
       "    </tr>\n",
       "    <tr>\n",
       "      <th>16011</th>\n",
       "      <td>2737661744</td>\n",
       "      <td>100.0</td>\n",
       "      <td>TOP</td>\n",
       "    </tr>\n",
       "    <tr>\n",
       "      <th>16013</th>\n",
       "      <td>2737661744</td>\n",
       "      <td>100.0</td>\n",
       "      <td>SUPP</td>\n",
       "    </tr>\n",
       "    <tr>\n",
       "      <th>16019</th>\n",
       "      <td>2737661744</td>\n",
       "      <td>200.0</td>\n",
       "      <td>SUPP</td>\n",
       "    </tr>\n",
       "    <tr>\n",
       "      <th>16010</th>\n",
       "      <td>2737661744</td>\n",
       "      <td>100.0</td>\n",
       "      <td>ADC</td>\n",
       "    </tr>\n",
       "    <tr>\n",
       "      <th>16017</th>\n",
       "      <td>2737661744</td>\n",
       "      <td>200.0</td>\n",
       "      <td>ADC</td>\n",
       "    </tr>\n",
       "    <tr>\n",
       "      <th>16012</th>\n",
       "      <td>2737661744</td>\n",
       "      <td>100.0</td>\n",
       "      <td>JUNG</td>\n",
       "    </tr>\n",
       "    <tr>\n",
       "      <th>16015</th>\n",
       "      <td>2737661744</td>\n",
       "      <td>200.0</td>\n",
       "      <td>MID</td>\n",
       "    </tr>\n",
       "    <tr>\n",
       "      <th>16014</th>\n",
       "      <td>2737661744</td>\n",
       "      <td>100.0</td>\n",
       "      <td>MID</td>\n",
       "    </tr>\n",
       "    <tr>\n",
       "      <th>16018</th>\n",
       "      <td>2737661744</td>\n",
       "      <td>200.0</td>\n",
       "      <td>TOP</td>\n",
       "    </tr>\n",
       "    <tr>\n",
       "      <th>...</th>\n",
       "      <td>...</td>\n",
       "      <td>...</td>\n",
       "      <td>...</td>\n",
       "    </tr>\n",
       "    <tr>\n",
       "      <th>38804</th>\n",
       "      <td>3567451406</td>\n",
       "      <td>100.0</td>\n",
       "      <td>TOP</td>\n",
       "    </tr>\n",
       "    <tr>\n",
       "      <th>38801</th>\n",
       "      <td>3567451406</td>\n",
       "      <td>100.0</td>\n",
       "      <td>ADC</td>\n",
       "    </tr>\n",
       "    <tr>\n",
       "      <th>38808</th>\n",
       "      <td>3567451406</td>\n",
       "      <td>200.0</td>\n",
       "      <td>JUNG</td>\n",
       "    </tr>\n",
       "    <tr>\n",
       "      <th>38806</th>\n",
       "      <td>3567451406</td>\n",
       "      <td>200.0</td>\n",
       "      <td>ADC</td>\n",
       "    </tr>\n",
       "    <tr>\n",
       "      <th>38807</th>\n",
       "      <td>3567451406</td>\n",
       "      <td>200.0</td>\n",
       "      <td>JUNG</td>\n",
       "    </tr>\n",
       "    <tr>\n",
       "      <th>38803</th>\n",
       "      <td>3567451406</td>\n",
       "      <td>100.0</td>\n",
       "      <td>MID</td>\n",
       "    </tr>\n",
       "    <tr>\n",
       "      <th>38809</th>\n",
       "      <td>3567451406</td>\n",
       "      <td>200.0</td>\n",
       "      <td>MID</td>\n",
       "    </tr>\n",
       "    <tr>\n",
       "      <th>38802</th>\n",
       "      <td>3567451406</td>\n",
       "      <td>100.0</td>\n",
       "      <td>JUNG</td>\n",
       "    </tr>\n",
       "    <tr>\n",
       "      <th>38805</th>\n",
       "      <td>3567451406</td>\n",
       "      <td>200.0</td>\n",
       "      <td>SUPP</td>\n",
       "    </tr>\n",
       "    <tr>\n",
       "      <th>38800</th>\n",
       "      <td>3567451406</td>\n",
       "      <td>100.0</td>\n",
       "      <td>SUPP</td>\n",
       "    </tr>\n",
       "    <tr>\n",
       "      <th>38912</th>\n",
       "      <td>3567452351</td>\n",
       "      <td>100.0</td>\n",
       "      <td>SUPP</td>\n",
       "    </tr>\n",
       "    <tr>\n",
       "      <th>38919</th>\n",
       "      <td>3567452351</td>\n",
       "      <td>200.0</td>\n",
       "      <td>MID</td>\n",
       "    </tr>\n",
       "    <tr>\n",
       "      <th>38918</th>\n",
       "      <td>3567452351</td>\n",
       "      <td>200.0</td>\n",
       "      <td>SUPP</td>\n",
       "    </tr>\n",
       "    <tr>\n",
       "      <th>38915</th>\n",
       "      <td>3567452351</td>\n",
       "      <td>200.0</td>\n",
       "      <td>JUNG</td>\n",
       "    </tr>\n",
       "    <tr>\n",
       "      <th>38914</th>\n",
       "      <td>3567452351</td>\n",
       "      <td>100.0</td>\n",
       "      <td>JUNG</td>\n",
       "    </tr>\n",
       "    <tr>\n",
       "      <th>38910</th>\n",
       "      <td>3567452351</td>\n",
       "      <td>100.0</td>\n",
       "      <td>ADC</td>\n",
       "    </tr>\n",
       "    <tr>\n",
       "      <th>38916</th>\n",
       "      <td>3567452351</td>\n",
       "      <td>200.0</td>\n",
       "      <td>ADC</td>\n",
       "    </tr>\n",
       "    <tr>\n",
       "      <th>38911</th>\n",
       "      <td>3567452351</td>\n",
       "      <td>100.0</td>\n",
       "      <td>TOP</td>\n",
       "    </tr>\n",
       "    <tr>\n",
       "      <th>38913</th>\n",
       "      <td>3567452351</td>\n",
       "      <td>100.0</td>\n",
       "      <td>MID</td>\n",
       "    </tr>\n",
       "    <tr>\n",
       "      <th>38917</th>\n",
       "      <td>3567452351</td>\n",
       "      <td>200.0</td>\n",
       "      <td>JUNG</td>\n",
       "    </tr>\n",
       "    <tr>\n",
       "      <th>39030</th>\n",
       "      <td>3567458040</td>\n",
       "      <td>100.0</td>\n",
       "      <td>None</td>\n",
       "    </tr>\n",
       "    <tr>\n",
       "      <th>39031</th>\n",
       "      <td>3567458040</td>\n",
       "      <td>100.0</td>\n",
       "      <td>None</td>\n",
       "    </tr>\n",
       "    <tr>\n",
       "      <th>39032</th>\n",
       "      <td>3567458040</td>\n",
       "      <td>100.0</td>\n",
       "      <td>None</td>\n",
       "    </tr>\n",
       "    <tr>\n",
       "      <th>39034</th>\n",
       "      <td>3567458040</td>\n",
       "      <td>100.0</td>\n",
       "      <td>None</td>\n",
       "    </tr>\n",
       "    <tr>\n",
       "      <th>39035</th>\n",
       "      <td>3567458040</td>\n",
       "      <td>200.0</td>\n",
       "      <td>None</td>\n",
       "    </tr>\n",
       "    <tr>\n",
       "      <th>39036</th>\n",
       "      <td>3567458040</td>\n",
       "      <td>200.0</td>\n",
       "      <td>None</td>\n",
       "    </tr>\n",
       "    <tr>\n",
       "      <th>39037</th>\n",
       "      <td>3567458040</td>\n",
       "      <td>200.0</td>\n",
       "      <td>None</td>\n",
       "    </tr>\n",
       "    <tr>\n",
       "      <th>39038</th>\n",
       "      <td>3567458040</td>\n",
       "      <td>200.0</td>\n",
       "      <td>None</td>\n",
       "    </tr>\n",
       "    <tr>\n",
       "      <th>39039</th>\n",
       "      <td>3567458040</td>\n",
       "      <td>200.0</td>\n",
       "      <td>None</td>\n",
       "    </tr>\n",
       "    <tr>\n",
       "      <th>39033</th>\n",
       "      <td>3567458040</td>\n",
       "      <td>100.0</td>\n",
       "      <td>None</td>\n",
       "    </tr>\n",
       "  </tbody>\n",
       "</table>\n",
       "<p>39060 rows × 3 columns</p>\n",
       "</div>"
      ],
      "text/plain": [
       "           gameId  teamId position\n",
       "21359  2735302151   200.0      TOP\n",
       "21357  2735302151   200.0     SUPP\n",
       "21358  2735302151   200.0     JUNG\n",
       "21353  2735302151   100.0     None\n",
       "21352  2735302151   100.0      MID\n",
       "21350  2735302151   100.0     JUNG\n",
       "21356  2735302151   200.0      MID\n",
       "21355  2735302151   200.0      ADC\n",
       "21354  2735302151   100.0     None\n",
       "21351  2735302151   100.0      TOP\n",
       "17958  2737214918   200.0      ADC\n",
       "17956  2737214918   200.0      TOP\n",
       "17952  2737214918   100.0      MID\n",
       "17955  2737214918   200.0      MID\n",
       "17959  2737214918   200.0     SUPP\n",
       "17951  2737214918   100.0     SUPP\n",
       "17954  2737214918   100.0      TOP\n",
       "17950  2737214918   100.0      ADC\n",
       "17957  2737214918   200.0     JUNG\n",
       "17953  2737214918   100.0     JUNG\n",
       "16016  2737661744   200.0     JUNG\n",
       "16011  2737661744   100.0      TOP\n",
       "16013  2737661744   100.0     SUPP\n",
       "16019  2737661744   200.0     SUPP\n",
       "16010  2737661744   100.0      ADC\n",
       "16017  2737661744   200.0      ADC\n",
       "16012  2737661744   100.0     JUNG\n",
       "16015  2737661744   200.0      MID\n",
       "16014  2737661744   100.0      MID\n",
       "16018  2737661744   200.0      TOP\n",
       "...           ...     ...      ...\n",
       "38804  3567451406   100.0      TOP\n",
       "38801  3567451406   100.0      ADC\n",
       "38808  3567451406   200.0     JUNG\n",
       "38806  3567451406   200.0      ADC\n",
       "38807  3567451406   200.0     JUNG\n",
       "38803  3567451406   100.0      MID\n",
       "38809  3567451406   200.0      MID\n",
       "38802  3567451406   100.0     JUNG\n",
       "38805  3567451406   200.0     SUPP\n",
       "38800  3567451406   100.0     SUPP\n",
       "38912  3567452351   100.0     SUPP\n",
       "38919  3567452351   200.0      MID\n",
       "38918  3567452351   200.0     SUPP\n",
       "38915  3567452351   200.0     JUNG\n",
       "38914  3567452351   100.0     JUNG\n",
       "38910  3567452351   100.0      ADC\n",
       "38916  3567452351   200.0      ADC\n",
       "38911  3567452351   100.0      TOP\n",
       "38913  3567452351   100.0      MID\n",
       "38917  3567452351   200.0     JUNG\n",
       "39030  3567458040   100.0     None\n",
       "39031  3567458040   100.0     None\n",
       "39032  3567458040   100.0     None\n",
       "39034  3567458040   100.0     None\n",
       "39035  3567458040   200.0     None\n",
       "39036  3567458040   200.0     None\n",
       "39037  3567458040   200.0     None\n",
       "39038  3567458040   200.0     None\n",
       "39039  3567458040   200.0     None\n",
       "39033  3567458040   100.0     None\n",
       "\n",
       "[39060 rows x 3 columns]"
      ]
     },
     "execution_count": 34,
     "metadata": {},
     "output_type": "execute_result"
    }
   ],
   "source": [
    "df2.sort_values('position').sort_values('gameId')[['gameId', 'teamId', 'position']]"
   ]
  },
  {
   "cell_type": "code",
   "execution_count": null,
   "metadata": {
    "collapsed": true
   },
   "outputs": [],
   "source": [
    "df2[df2.lanerole == 'NONE_DUO_SUPPORT'].champ_name"
   ]
  },
  {
   "cell_type": "code",
   "execution_count": null,
   "metadata": {
    "collapsed": true
   },
   "outputs": [],
   "source": [
    "accs = [23787352, 227994782, 203396130, 231898666, 22654093, 36549969, 33328489, 218694983, 35306044, 36623216, 26609836]"
   ]
  },
  {
   "cell_type": "code",
   "execution_count": null,
   "metadata": {
    "collapsed": true
   },
   "outputs": [],
   "source": [
    "accs"
   ]
  },
  {
   "cell_type": "code",
   "execution_count": null,
   "metadata": {
    "collapsed": true
   },
   "outputs": [],
   "source": [
    "pd.DataFrame({'game_id': accs})"
   ]
  },
  {
   "cell_type": "code",
   "execution_count": null,
   "metadata": {
    "collapsed": true
   },
   "outputs": [],
   "source": []
  },
  {
   "cell_type": "code",
   "execution_count": null,
   "metadata": {
    "collapsed": true
   },
   "outputs": [],
   "source": []
  },
  {
   "cell_type": "code",
   "execution_count": null,
   "metadata": {
    "collapsed": true
   },
   "outputs": [],
   "source": [
    "from itertools import chain"
   ]
  },
  {
   "cell_type": "code",
   "execution_count": null,
   "metadata": {
    "collapsed": true
   },
   "outputs": [],
   "source": [
    "matches = list(chain.from_iterable([rw.match.matchlist_by_account(account_id=acc, end_index=20, region=slds.region, queue=420)['matches'] for acc in accs]))"
   ]
  },
  {
   "cell_type": "code",
   "execution_count": null,
   "metadata": {
    "collapsed": true
   },
   "outputs": [],
   "source": [
    "gids = list(set([m['gameId'] for m in mls]))"
   ]
  },
  {
   "cell_type": "code",
   "execution_count": null,
   "metadata": {
    "collapsed": true
   },
   "outputs": [],
   "source": []
  },
  {
   "cell_type": "code",
   "execution_count": null,
   "metadata": {
    "collapsed": true
   },
   "outputs": [],
   "source": [
    "df1 = pd.read_csv(LEAGUES_DATA_DICT['LCK'][IDS_FILE_PATH], dtype=LEAGUES_DATA_DICT['LCK']['dtypes'])"
   ]
  },
  {
   "cell_type": "code",
   "execution_count": null,
   "metadata": {
    "collapsed": true
   },
   "outputs": [],
   "source": [
    "list(df1.game_id.map(str) + df1.tournament + df1.hash)"
   ]
  },
  {
   "cell_type": "code",
   "execution_count": null,
   "metadata": {
    "collapsed": true
   },
   "outputs": [],
   "source": [
    "def something(asd, **kwargs):\n",
    "    print(kwargs['b'])"
   ]
  },
  {
   "cell_type": "code",
   "execution_count": null,
   "metadata": {
    "collapsed": true
   },
   "outputs": [],
   "source": [
    "something('asd', b='shit')"
   ]
  },
  {
   "cell_type": "code",
   "execution_count": null,
   "metadata": {
    "collapsed": true
   },
   "outputs": [],
   "source": [
    "pids = {\"participantId\":1,\"player\":{\"summonerName\":\"SKT Untara\",\"profileIcon\":4}},{\"participantId\":2,\"player\":{\"summonerName\":\"SKT Blossom\",\"profileIcon\":7}},{\"participantId\":3,\"player\":{\"summonerName\":\"SKT Faker\",\"profileIcon\":7}},{\"participantId\":4,\"player\":{\"summonerName\":\"SKT Bang\",\"profileIcon\":20}},{\"participantId\":5,\"player\":{\"summonerName\":\"SKT Wolf\",\"profileIcon\":7}},{\"participantId\":6,\"player\":{\"summonerName\":\"KZ Khan\",\"profileIcon\":6}},{\"participantId\":7,\"player\":{\"summonerName\":\"KZ Peanut\",\"profileIcon\":6}},{\"participantId\":8,\"player\":{\"summonerName\":\"KZ Bdd\",\"profileIcon\":6}},{\"participantId\":9,\"player\":{\"summonerName\":\"KZ PraY\",\"profileIcon\":6}},{\"participantId\":10,\"player\":{\"summonerName\":\"KZ GorillA\",\"profileIcon\":6}}"
   ]
  },
  {
   "cell_type": "code",
   "execution_count": null,
   "metadata": {
    "collapsed": true
   },
   "outputs": [],
   "source": [
    "for x in pids:\n",
    "    print(x)"
   ]
  },
  {
   "cell_type": "code",
   "execution_count": null,
   "metadata": {
    "collapsed": true
   },
   "outputs": [],
   "source": []
  }
 ],
 "metadata": {
  "kernelspec": {
   "display_name": "Python 3",
   "language": "python",
   "name": "python3"
  },
  "language_info": {
   "codemirror_mode": {
    "name": "ipython",
    "version": 3
   },
   "file_extension": ".py",
   "mimetype": "text/x-python",
   "name": "python",
   "nbconvert_exporter": "python",
   "pygments_lexer": "ipython3",
   "version": "3.6.1"
  }
 },
 "nbformat": 4,
 "nbformat_minor": 2
}
