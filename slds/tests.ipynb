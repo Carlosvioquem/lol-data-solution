{
 "cells": [
  {
   "cell_type": "code",
   "execution_count": 166,
   "metadata": {},
   "outputs": [],
   "source": [
    "from riotwatcher import RiotWatcher\n",
    "import pandas as pd\n",
    "from converters.data2frames import game_to_dataframe as g2df\n",
    "from converters.data2frames import game_teams_to_dataframe as gt2df\n",
    "from converters.data2files import read_json\n",
    "from config.constants import API_KEY, SLO_GAMES_DIR, SLO_DATASETS_DIR\n",
    "import numpy as np\n"
   ]
  },
  {
   "cell_type": "code",
   "execution_count": 171,
   "metadata": {},
   "outputs": [],
   "source": [
    "df = pd.read_csv('{}{}'.format(SLO_DATASETS_DIR, 'dataset_test.csv'), index_col=0)"
   ]
  },
  {
   "cell_type": "code",
   "execution_count": 173,
   "metadata": {
    "collapsed": true
   },
   "outputs": [],
   "source": [
    "import datetime\n",
    "from time import strftime"
   ]
  },
  {
   "cell_type": "code",
   "execution_count": 175,
   "metadata": {},
   "outputs": [],
   "source": [
    "df.gameCreation = df.gameCreation.apply(lambda x: datetime.datetime.fromtimestamp(x / 1e3).strftime('%Y-%m-%d %H:%M:%S'))"
   ]
  },
  {
   "cell_type": "code",
   "execution_count": 179,
   "metadata": {},
   "outputs": [],
   "source": [
    "def get_readable_timestamp(seconds):\n",
    "    m, s = divmod(seconds, 60)\n",
    "    h, m = divmod(m, 60)\n",
    "\n",
    "    return \"{h}:{m}:{s}\".format(h=int(h), m=int(m), s=int(s))"
   ]
  },
  {
   "cell_type": "code",
   "execution_count": 180,
   "metadata": {},
   "outputs": [
    {
     "data": {
      "text/plain": [
       "0      0:36:29\n",
       "1      0:36:29\n",
       "2      0:36:29\n",
       "3      0:36:29\n",
       "4      0:36:29\n",
       "5      0:36:29\n",
       "6      0:36:29\n",
       "7      0:36:29\n",
       "8      0:36:29\n",
       "9      0:36:29\n",
       "10     0:22:29\n",
       "11     0:22:29\n",
       "12     0:22:29\n",
       "13     0:22:29\n",
       "14     0:22:29\n",
       "15     0:22:29\n",
       "16     0:22:29\n",
       "17     0:22:29\n",
       "18     0:22:29\n",
       "19     0:22:29\n",
       "20      0:31:6\n",
       "21      0:31:6\n",
       "22      0:31:6\n",
       "23      0:31:6\n",
       "24      0:31:6\n",
       "25      0:31:6\n",
       "26      0:31:6\n",
       "27      0:31:6\n",
       "28      0:31:6\n",
       "29      0:31:6\n",
       "        ...   \n",
       "290    0:53:12\n",
       "291    0:53:12\n",
       "292    0:53:12\n",
       "293    0:53:12\n",
       "294    0:53:12\n",
       "295    0:53:12\n",
       "296    0:53:12\n",
       "297    0:53:12\n",
       "298    0:53:12\n",
       "299    0:53:12\n",
       "300     0:36:6\n",
       "301     0:36:6\n",
       "302     0:36:6\n",
       "303     0:36:6\n",
       "304     0:36:6\n",
       "305     0:36:6\n",
       "306     0:36:6\n",
       "307     0:36:6\n",
       "308     0:36:6\n",
       "309     0:36:6\n",
       "310    0:31:50\n",
       "311    0:31:50\n",
       "312    0:31:50\n",
       "313    0:31:50\n",
       "314    0:31:50\n",
       "315    0:31:50\n",
       "316    0:31:50\n",
       "317    0:31:50\n",
       "318    0:31:50\n",
       "319    0:31:50\n",
       "Name: gameDuration, Length: 320, dtype: object"
      ]
     },
     "execution_count": 180,
     "metadata": {},
     "output_type": "execute_result"
    }
   ],
   "source": [
    "df.gameDuration.apply(get_readable_timestamp)"
   ]
  }
 ],
 "metadata": {
  "kernelspec": {
   "display_name": "Python 3",
   "language": "python",
   "name": "python3"
  },
  "language_info": {
   "codemirror_mode": {
    "name": "ipython",
    "version": 3
   },
   "file_extension": ".py",
   "mimetype": "text/x-python",
   "name": "python",
   "nbconvert_exporter": "python",
   "pygments_lexer": "ipython3",
   "version": "3.6.1"
  }
 },
 "nbformat": 4,
 "nbformat_minor": 2
}
