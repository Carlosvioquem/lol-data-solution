{
 "cells": [
  {
   "cell_type": "code",
   "execution_count": 1,
   "metadata": {},
   "outputs": [],
   "source": [
    "from riotwatcher import RiotWatcher\n",
    "import pandas as pd\n",
    "from converters.data2frames import game_to_dataframe as g2df\n",
    "from converters.data2frames import game_teams_to_dataframe as gt2df\n",
    "from converters.data2frames import champs_to_dataframe as ch2df\n",
    "from converters.data2files import read_json\n",
    "from config.constants import API_KEY, SLO_GAMES_DIR, SLO_DATASET_CSV, SLO_MATCHES_FILE_PATH, SCRIMS_POSITIONS_COLS, SCRIMS_COLS\n",
    "from config.constants import DATA_DRAGON_URL, DD_RUNES_REFORGED, DD_LANGUAGE, DD_RUNES_REFORGED, STATIC_DATA_DIR\n",
    "from config.constants import SLO_MATCHES_DATA_P_COLS, SLO_CUSTOM_POSITIONS, LCK_MATCHES_FILE_PATH, LEAGUES_DATA_DICT\n",
    "import numpy as np\n"
   ]
  },
  {
   "cell_type": "code",
   "execution_count": 2,
   "metadata": {},
   "outputs": [],
   "source": [
    "df1 = pd.read_csv(LEAGUES_DATA_DICT['SCRIMS']['matches_file_path'], dtype=LEAGUES_DATA_DICT['SCRIMS']['dtypes'])"
   ]
  },
  {
   "cell_type": "code",
   "execution_count": 3,
   "metadata": {},
   "outputs": [],
   "source": [
    "for r in df1.iloc[:5].iterrows():\n",
    "    gid = r[1]['game_id']\n",
    "    pos = r[1][SCRIMS_POSITIONS_COLS]"
   ]
  },
  {
   "cell_type": "code",
   "execution_count": 4,
   "metadata": {},
   "outputs": [],
   "source": [
    "import os"
   ]
  },
  {
   "cell_type": "code",
   "execution_count": 5,
   "metadata": {},
   "outputs": [],
   "source": [
    "def __get_file_names_from_match_id(m_id, save_dir):\n",
    "    file_names = os.listdir(save_dir)\n",
    "    match_filename = [val for val in file_names if str(m_id) in val and 'tl' not in val][0]\n",
    "    tl_filename = [val for val in file_names if str(m_id) in val and 'tl' in val][0]\n",
    "    return {'match_filename': match_filename.split('.')[0], 'tl_filename': tl_filename.split('.')[0]}"
   ]
  },
  {
   "cell_type": "code",
   "execution_count": 8,
   "metadata": {},
   "outputs": [],
   "source": [
    "g1 = g2df(match=read_json(save_dir=LEAGUES_DATA_DICT['SCRIMS']['games_path'], \n",
    "     file_name=__get_file_names_from_match_id(m_id=gid, save_dir=LEAGUES_DATA_DICT['SCRIMS']['games_path'])['match_filename']),\n",
    "    timeline=read_json(save_dir=LEAGUES_DATA_DICT['SCRIMS']['games_path'], \n",
    "     file_name=__get_file_names_from_match_id(m_id=gid, save_dir=LEAGUES_DATA_DICT['SCRIMS']['games_path'])['tl_filename']),\n",
    "         custom_positions=list(pos))"
   ]
  },
  {
   "cell_type": "code",
   "execution_count": null,
   "metadata": {},
   "outputs": [],
   "source": [
    "g2 = g2df(match=read_json(save_dir=LEAGUES_DATA_DICT['SCRIMS']['games_path'], \n",
    "     file_name=__get_file_names_from_match_id(m_id=gid, save_dir=LEAGUES_DATA_DICT['SCRIMS']['games_path'])['match_filename']),\n",
    "    timeline=read_json(save_dir=LEAGUES_DATA_DICT['SCRIMS']['games_path'], \n",
    "     file_name=__get_file_names_from_match_id(m_id=gid, save_dir=LEAGUES_DATA_DICT['SCRIMS']['games_path'])['tl_filename']))"
   ]
  },
  {
   "cell_type": "code",
   "execution_count": null,
   "metadata": {},
   "outputs": [],
   "source": [
    "g3 = g2df(match=read_json(save_dir=LEAGUES_DATA_DICT['SCRIMS']['games_path'], \n",
    "     file_name=__get_file_names_from_match_id(m_id=gid, save_dir=LEAGUES_DATA_DICT['SCRIMS']['games_path'])['match_filename']),\n",
    "    timeline=read_json(save_dir=LEAGUES_DATA_DICT['SCRIMS']['games_path'], \n",
    "     file_name=__get_file_names_from_match_id(m_id=gid, save_dir=LEAGUES_DATA_DICT['SCRIMS']['games_path'])['tl_filename']))"
   ]
  },
  {
   "cell_type": "code",
   "execution_count": null,
   "metadata": {},
   "outputs": [],
   "source": [
    "g4 = g2df(match=read_json(save_dir=LEAGUES_DATA_DICT['SCRIMS']['games_path'], \n",
    "     file_name=__get_file_names_from_match_id(m_id=gid, save_dir=LEAGUES_DATA_DICT['SCRIMS']['games_path'])['match_filename']),\n",
    "    timeline=read_json(save_dir=LEAGUES_DATA_DICT['SCRIMS']['games_path'], \n",
    "     file_name=__get_file_names_from_match_id(m_id=gid, save_dir=LEAGUES_DATA_DICT['SCRIMS']['games_path'])['tl_filename']))"
   ]
  },
  {
   "cell_type": "code",
   "execution_count": null,
   "metadata": {},
   "outputs": [],
   "source": [
    "g5 = g2df(match=read_json(save_dir=LEAGUES_DATA_DICT['SCRIMS']['games_path'], \n",
    "     file_name=__get_file_names_from_match_id(m_id=gid, save_dir=LEAGUES_DATA_DICT['SCRIMS']['games_path'])['match_filename']),\n",
    "    timeline=read_json(save_dir=LEAGUES_DATA_DICT['SCRIMS']['games_path'], \n",
    "     file_name=__get_file_names_from_match_id(m_id=gid, save_dir=LEAGUES_DATA_DICT['SCRIMS']['games_path'])['tl_filename']))"
   ]
  },
  {
   "cell_type": "code",
   "execution_count": null,
   "metadata": {},
   "outputs": [],
   "source": [
    "np.setdiff1d(list(g1.columns),list(g2.columns))"
   ]
  },
  {
   "cell_type": "code",
   "execution_count": 16,
   "metadata": {},
   "outputs": [
    {
     "data": {
      "text/html": [
       "<div>\n",
       "<style scoped>\n",
       "    .dataframe tbody tr th:only-of-type {\n",
       "        vertical-align: middle;\n",
       "    }\n",
       "\n",
       "    .dataframe tbody tr th {\n",
       "        vertical-align: top;\n",
       "    }\n",
       "\n",
       "    .dataframe thead th {\n",
       "        text-align: right;\n",
       "    }\n",
       "</style>\n",
       "<table border=\"1\" class=\"dataframe\">\n",
       "  <thead>\n",
       "    <tr style=\"text-align: right;\">\n",
       "      <th></th>\n",
       "      <th>participantId</th>\n",
       "      <th>participantId</th>\n",
       "      <th>participantId</th>\n",
       "    </tr>\n",
       "  </thead>\n",
       "  <tbody>\n",
       "    <tr>\n",
       "      <th>0</th>\n",
       "      <td>1</td>\n",
       "      <td>1</td>\n",
       "      <td>1</td>\n",
       "    </tr>\n",
       "    <tr>\n",
       "      <th>1</th>\n",
       "      <td>2</td>\n",
       "      <td>2</td>\n",
       "      <td>2</td>\n",
       "    </tr>\n",
       "    <tr>\n",
       "      <th>2</th>\n",
       "      <td>3</td>\n",
       "      <td>3</td>\n",
       "      <td>3</td>\n",
       "    </tr>\n",
       "    <tr>\n",
       "      <th>3</th>\n",
       "      <td>4</td>\n",
       "      <td>4</td>\n",
       "      <td>4</td>\n",
       "    </tr>\n",
       "    <tr>\n",
       "      <th>4</th>\n",
       "      <td>5</td>\n",
       "      <td>5</td>\n",
       "      <td>5</td>\n",
       "    </tr>\n",
       "    <tr>\n",
       "      <th>5</th>\n",
       "      <td>6</td>\n",
       "      <td>6</td>\n",
       "      <td>6</td>\n",
       "    </tr>\n",
       "    <tr>\n",
       "      <th>6</th>\n",
       "      <td>7</td>\n",
       "      <td>7</td>\n",
       "      <td>7</td>\n",
       "    </tr>\n",
       "    <tr>\n",
       "      <th>7</th>\n",
       "      <td>8</td>\n",
       "      <td>8</td>\n",
       "      <td>8</td>\n",
       "    </tr>\n",
       "    <tr>\n",
       "      <th>8</th>\n",
       "      <td>9</td>\n",
       "      <td>9</td>\n",
       "      <td>9</td>\n",
       "    </tr>\n",
       "    <tr>\n",
       "      <th>9</th>\n",
       "      <td>10</td>\n",
       "      <td>10</td>\n",
       "      <td>10</td>\n",
       "    </tr>\n",
       "  </tbody>\n",
       "</table>\n",
       "</div>"
      ],
      "text/plain": [
       "   participantId  participantId  participantId\n",
       "0              1              1              1\n",
       "1              2              2              2\n",
       "2              3              3              3\n",
       "3              4              4              4\n",
       "4              5              5              5\n",
       "5              6              6              6\n",
       "6              7              7              7\n",
       "7              8              8              8\n",
       "8              9              9              9\n",
       "9             10             10             10"
      ]
     },
     "execution_count": 16,
     "metadata": {},
     "output_type": "execute_result"
    }
   ],
   "source": [
    "g1.ix[:,g1.columns.duplicated()]"
   ]
  },
  {
   "cell_type": "code",
   "execution_count": null,
   "metadata": {},
   "outputs": [],
   "source": [
    "df2 = pd.read_csv(LEAGUES_DATA_DICT['SLO']['file_path'], index_col=0)"
   ]
  },
  {
   "cell_type": "code",
   "execution_count": null,
   "metadata": {},
   "outputs": [],
   "source": [
    "np.setdiff1d(list(g2.columns),list(g1.columns))"
   ]
  },
  {
   "cell_type": "code",
   "execution_count": null,
   "metadata": {},
   "outputs": [],
   "source": [
    "list(g4.columns)"
   ]
  },
  {
   "cell_type": "code",
   "execution_count": null,
   "metadata": {},
   "outputs": [],
   "source": []
  }
 ],
 "metadata": {
  "kernelspec": {
   "display_name": "Python 3",
   "language": "python",
   "name": "python3"
  },
  "language_info": {
   "codemirror_mode": {
    "name": "ipython",
    "version": 3
   },
   "file_extension": ".py",
   "mimetype": "text/x-python",
   "name": "python",
   "nbconvert_exporter": "python",
   "pygments_lexer": "ipython3",
   "version": "3.6.4"
  }
 },
 "nbformat": 4,
 "nbformat_minor": 2
}
