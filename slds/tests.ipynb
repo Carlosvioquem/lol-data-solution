{
 "cells": [
  {
   "cell_type": "code",
   "execution_count": 1,
   "metadata": {},
   "outputs": [],
   "source": [
    "import os\n",
    "import urllib.request\n",
    "import json\n",
    "import pymysql.cursors\n",
    "import pandas as pd\n",
    "from pymongo import MongoClient\n",
    "from itertools import chain\n",
    "from riotwatcher import RiotWatcher\n",
    "from tqdm import tqdm\n",
    "from requests.exceptions import HTTPError\n",
    "from converters.data2files import get_runes_reforged_json\n",
    "from converters.data2frames import game_to_dataframe as g2df\n",
    "from sqlalchemy import create_engine\n",
    "from datetime import datetime as dt, timedelta\n",
    "import pickle\n",
    "from config.constants import LEAGUES_DATA_DICT, SQL_LEAGUES_CONN, MONGODB_CREDENTIALS, \\\n",
    "    API_KEY, SOLOQ, REGIONS, CUSTOM_PARTICIPANT_COLS, STANDARD_POSITIONS, SCRIMS_POSITIONS_COLS, \\\n",
    "    TOURNAMENT_GAME_ENDPOINT, SQL_LEAGUES_ENGINE, EXCEL_EXPORT_PATH_MERGED, EXPORTS_DIR, EXCEL_EXPORT_PATH, \\\n",
    "    RIFT_GAMES_QUEUES, SLO, TOURNAMENT_TL_ENDPOINT, SQL_EXPORTS_ENGINE, API_KEY"
   ]
  },
  {
   "cell_type": "code",
   "execution_count": 2,
   "metadata": {},
   "outputs": [],
   "source": [
    "rw = RiotWatcher(API_KEY)"
   ]
  },
  {
   "cell_type": "code",
   "execution_count": 4,
   "metadata": {},
   "outputs": [],
   "source": [
    "tl = rw.match.timeline_by_match(match_id=3634493462, region='EUW1')"
   ]
  },
  {
   "cell_type": "code",
   "execution_count": 12,
   "metadata": {},
   "outputs": [],
   "source": [
    "events = list(chain.from_iterable([f['events'] for f in tl['frames']]))"
   ]
  },
  {
   "cell_type": "code",
   "execution_count": 223,
   "metadata": {},
   "outputs": [],
   "source": [
    "placed_ward_events = [event for event in events if event['type'] == 'WARD_PLACED']\n",
    "killed_ward_events = [event for event in events if event['type'] == 'WARD_PLACED']"
   ]
  },
  {
   "cell_type": "code",
   "execution_count": 224,
   "metadata": {},
   "outputs": [],
   "source": [
    "df_placed = pd.DataFrame([(event['creatorId'], event['wardType'], event['timestamp']) for event in placed_ward_events]).groupby([0, 1], as_index=False).count()\n",
    "df_killed = pd.DataFrame([(event['creatorId'], event['wardType'], event['timestamp']) for event in killed_ward_events]).groupby([0, 1], as_index=False).count()"
   ]
  },
  {
   "cell_type": "code",
   "execution_count": 225,
   "metadata": {},
   "outputs": [],
   "source": [
    "df_placed.rename(columns={0: 'participant_id', 1: 'ward_type', 2: 'count'}, inplace=True)\n",
    "df_killed.rename(columns={0: 'participant_id', 1: 'ward_type', 2: 'count'}, inplace=True)"
   ]
  },
  {
   "cell_type": "code",
   "execution_count": 226,
   "metadata": {},
   "outputs": [],
   "source": [
    "df_placed.set_index('participant_id', inplace=True)\n",
    "df_killed.set_index('participant_id', inplace=True)"
   ]
  },
  {
   "cell_type": "code",
   "execution_count": 227,
   "metadata": {},
   "outputs": [],
   "source": [
    "yt_p, cw_p, un_p, sw_p = df_placed.loc[df['ward_type'] == 'YELLOW_TRINKET'], df_placed.loc[df['ward_type'] == 'CONTROL_WARD'], df_placed.loc[df['ward_type'] == 'UNDEFINED'], df_placed.loc[df['ward_type'] == 'YELLOW_TRINKET']\n",
    "yt_k, cw_k, un_k, sw_k = df_killed.loc[df['ward_type'] == 'YELLOW_TRINKET'], df_killed.loc[df['ward_type'] == 'CONTROL_WARD'], df_killed.loc[df['ward_type'] == 'UNDEFINED'], df_killed.loc[df['ward_type'] == 'YELLOW_TRINKET']"
   ]
  },
  {
   "cell_type": "code",
   "execution_count": 228,
   "metadata": {},
   "outputs": [],
   "source": [
    "df1 = pd.concat([yt_p, cw_p, un_p, sw_p], axis=1).drop('ward_type', axis=1)\n",
    "df2 = pd.concat([yt_k, cw_k, un_k, sw_k], axis=1).drop('ward_type', axis=1)"
   ]
  },
  {
   "cell_type": "code",
   "execution_count": 229,
   "metadata": {},
   "outputs": [],
   "source": [
    "ward_cols = ['yellow_trinkets', 'control_wards', 'undefined', 'sight_wards']\n",
    "placed_cols = [col + '_placed' for col in ward_cols]\n",
    "killed_cols = [col + '_killed' for col in ward_cols]"
   ]
  },
  {
   "cell_type": "code",
   "execution_count": 230,
   "metadata": {},
   "outputs": [],
   "source": [
    "df1.columns = placed_cols\n",
    "df2.columns = killed_cols"
   ]
  },
  {
   "cell_type": "code",
   "execution_count": 231,
   "metadata": {},
   "outputs": [],
   "source": [
    "df1.reset_index(inplace=True)\n",
    "df2.reset_index(inplace=True)"
   ]
  },
  {
   "cell_type": "code",
   "execution_count": 232,
   "metadata": {},
   "outputs": [],
   "source": [
    "df1.participant_id = df1.participant_id - 1\n",
    "df2.participant_id = df2.participant_id - 1"
   ]
  },
  {
   "cell_type": "code",
   "execution_count": 233,
   "metadata": {},
   "outputs": [],
   "source": [
    "df1.set_index('participant_id', inplace=True)\n",
    "df2.set_index('participant_id', inplace=True)"
   ]
  },
  {
   "cell_type": "code",
   "execution_count": 234,
   "metadata": {},
   "outputs": [],
   "source": [
    "df_result = pd.concat([df1, df2], axis=1).fillna(0)"
   ]
  },
  {
   "cell_type": "code",
   "execution_count": 236,
   "metadata": {},
   "outputs": [
    {
     "data": {
      "text/html": [
       "<div>\n",
       "<style scoped>\n",
       "    .dataframe tbody tr th:only-of-type {\n",
       "        vertical-align: middle;\n",
       "    }\n",
       "\n",
       "    .dataframe tbody tr th {\n",
       "        vertical-align: top;\n",
       "    }\n",
       "\n",
       "    .dataframe thead th {\n",
       "        text-align: right;\n",
       "    }\n",
       "</style>\n",
       "<table border=\"1\" class=\"dataframe\">\n",
       "  <thead>\n",
       "    <tr style=\"text-align: right;\">\n",
       "      <th></th>\n",
       "      <th>yellow_trinkets_placed</th>\n",
       "      <th>control_wards_placed</th>\n",
       "      <th>undefined_placed</th>\n",
       "      <th>sight_wards_placed</th>\n",
       "      <th>yellow_trinkets_killed</th>\n",
       "      <th>control_wards_killed</th>\n",
       "      <th>undefined_killed</th>\n",
       "      <th>sight_wards_killed</th>\n",
       "    </tr>\n",
       "    <tr>\n",
       "      <th>participant_id</th>\n",
       "      <th></th>\n",
       "      <th></th>\n",
       "      <th></th>\n",
       "      <th></th>\n",
       "      <th></th>\n",
       "      <th></th>\n",
       "      <th></th>\n",
       "      <th></th>\n",
       "    </tr>\n",
       "  </thead>\n",
       "  <tbody>\n",
       "    <tr>\n",
       "      <th>0</th>\n",
       "      <td>2</td>\n",
       "      <td>0</td>\n",
       "      <td>0</td>\n",
       "      <td>2</td>\n",
       "      <td>2</td>\n",
       "      <td>0</td>\n",
       "      <td>0</td>\n",
       "      <td>2</td>\n",
       "    </tr>\n",
       "    <tr>\n",
       "      <th>1</th>\n",
       "      <td>4</td>\n",
       "      <td>0</td>\n",
       "      <td>0</td>\n",
       "      <td>4</td>\n",
       "      <td>4</td>\n",
       "      <td>0</td>\n",
       "      <td>0</td>\n",
       "      <td>4</td>\n",
       "    </tr>\n",
       "    <tr>\n",
       "      <th>2</th>\n",
       "      <td>2</td>\n",
       "      <td>0</td>\n",
       "      <td>3</td>\n",
       "      <td>2</td>\n",
       "      <td>2</td>\n",
       "      <td>0</td>\n",
       "      <td>3</td>\n",
       "      <td>2</td>\n",
       "    </tr>\n",
       "    <tr>\n",
       "      <th>3</th>\n",
       "      <td>2</td>\n",
       "      <td>1</td>\n",
       "      <td>2</td>\n",
       "      <td>2</td>\n",
       "      <td>2</td>\n",
       "      <td>1</td>\n",
       "      <td>2</td>\n",
       "      <td>2</td>\n",
       "    </tr>\n",
       "    <tr>\n",
       "      <th>4</th>\n",
       "      <td>3</td>\n",
       "      <td>2</td>\n",
       "      <td>0</td>\n",
       "      <td>3</td>\n",
       "      <td>3</td>\n",
       "      <td>2</td>\n",
       "      <td>0</td>\n",
       "      <td>3</td>\n",
       "    </tr>\n",
       "    <tr>\n",
       "      <th>5</th>\n",
       "      <td>3</td>\n",
       "      <td>1</td>\n",
       "      <td>0</td>\n",
       "      <td>3</td>\n",
       "      <td>3</td>\n",
       "      <td>1</td>\n",
       "      <td>0</td>\n",
       "      <td>3</td>\n",
       "    </tr>\n",
       "    <tr>\n",
       "      <th>6</th>\n",
       "      <td>3</td>\n",
       "      <td>3</td>\n",
       "      <td>0</td>\n",
       "      <td>3</td>\n",
       "      <td>3</td>\n",
       "      <td>3</td>\n",
       "      <td>0</td>\n",
       "      <td>3</td>\n",
       "    </tr>\n",
       "    <tr>\n",
       "      <th>8</th>\n",
       "      <td>3</td>\n",
       "      <td>0</td>\n",
       "      <td>3</td>\n",
       "      <td>3</td>\n",
       "      <td>3</td>\n",
       "      <td>0</td>\n",
       "      <td>3</td>\n",
       "      <td>3</td>\n",
       "    </tr>\n",
       "    <tr>\n",
       "      <th>9</th>\n",
       "      <td>2</td>\n",
       "      <td>2</td>\n",
       "      <td>14</td>\n",
       "      <td>2</td>\n",
       "      <td>2</td>\n",
       "      <td>2</td>\n",
       "      <td>14</td>\n",
       "      <td>2</td>\n",
       "    </tr>\n",
       "  </tbody>\n",
       "</table>\n",
       "</div>"
      ],
      "text/plain": [
       "                yellow_trinkets_placed  control_wards_placed  \\\n",
       "participant_id                                                 \n",
       "0                                    2                     0   \n",
       "1                                    4                     0   \n",
       "2                                    2                     0   \n",
       "3                                    2                     1   \n",
       "4                                    3                     2   \n",
       "5                                    3                     1   \n",
       "6                                    3                     3   \n",
       "8                                    3                     0   \n",
       "9                                    2                     2   \n",
       "\n",
       "                undefined_placed  sight_wards_placed  yellow_trinkets_killed  \\\n",
       "participant_id                                                                 \n",
       "0                              0                   2                       2   \n",
       "1                              0                   4                       4   \n",
       "2                              3                   2                       2   \n",
       "3                              2                   2                       2   \n",
       "4                              0                   3                       3   \n",
       "5                              0                   3                       3   \n",
       "6                              0                   3                       3   \n",
       "8                              3                   3                       3   \n",
       "9                             14                   2                       2   \n",
       "\n",
       "                control_wards_killed  undefined_killed  sight_wards_killed  \n",
       "participant_id                                                              \n",
       "0                                  0                 0                   2  \n",
       "1                                  0                 0                   4  \n",
       "2                                  0                 3                   2  \n",
       "3                                  1                 2                   2  \n",
       "4                                  2                 0                   3  \n",
       "5                                  1                 0                   3  \n",
       "6                                  3                 0                   3  \n",
       "8                                  0                 3                   3  \n",
       "9                                  2                14                   2  "
      ]
     },
     "execution_count": 236,
     "metadata": {},
     "output_type": "execute_result"
    }
   ],
   "source": []
  },
  {
   "cell_type": "code",
   "execution_count": null,
   "metadata": {},
   "outputs": [],
   "source": []
  }
 ],
 "metadata": {
  "kernelspec": {
   "display_name": "Python 3",
   "language": "python",
   "name": "python3"
  },
  "language_info": {
   "codemirror_mode": {
    "name": "ipython",
    "version": 3
   },
   "file_extension": ".py",
   "mimetype": "text/x-python",
   "name": "python",
   "nbconvert_exporter": "python",
   "pygments_lexer": "ipython3",
   "version": "3.6.4"
  }
 },
 "nbformat": 4,
 "nbformat_minor": 2
}
