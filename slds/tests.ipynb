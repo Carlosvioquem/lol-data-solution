{
 "cells": [
  {
   "cell_type": "code",
   "execution_count": 7,
   "metadata": {
    "collapsed": true
   },
   "outputs": [],
   "source": [
    "from riotwatcher import RiotWatcher\n",
    "import pandas as pd\n",
    "from converters.data2frames import game_to_dataframe as g2df\n",
    "from converters.data2frames import game_teams_to_dataframe as gt2df\n",
    "from converters.data2frames import champs_to_dataframe as ch2df\n",
    "from converters.data2files import read_json, get_runes_reforged_json\n",
    "from config.constants import API_KEY, SLO_GAMES_DIR, SLO_DATASETS_DIR, SLO_DATASET_CSV, SLO_MATCHES_FILE_PATH, SLO_DATA_DTYPES\n",
    "from config.constants import DATA_DRAGON_URL, DD_RUNES_REFORGED, DD_LANGUAGE, DD_RUNES_REFORGED, STATIC_DATA_DIR\n",
    "import numpy as np\n"
   ]
  },
  {
   "cell_type": "code",
   "execution_count": 6,
   "metadata": {
    "collapsed": true
   },
   "outputs": [],
   "source": [
    "runes = read_json(STATIC_DATA_DIR, file_name='runes_reforged')"
   ]
  },
  {
   "cell_type": "code",
   "execution_count": 8,
   "metadata": {
    "collapsed": true
   },
   "outputs": [],
   "source": [
    "get_runes_reforged_json()"
   ]
  },
  {
   "cell_type": "code",
   "execution_count": null,
   "metadata": {
    "collapsed": true
   },
   "outputs": [],
   "source": []
  }
 ],
 "metadata": {
  "kernelspec": {
   "display_name": "Python 3",
   "language": "python",
   "name": "python3"
  },
  "language_info": {
   "codemirror_mode": {
    "name": "ipython",
    "version": 3
   },
   "file_extension": ".py",
   "mimetype": "text/x-python",
   "name": "python",
   "nbconvert_exporter": "python",
   "pygments_lexer": "ipython3",
   "version": "3.6.1"
  }
 },
 "nbformat": 4,
 "nbformat_minor": 2
}
