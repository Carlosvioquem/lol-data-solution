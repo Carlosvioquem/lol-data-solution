{
 "cells": [
  {
   "cell_type": "code",
   "execution_count": 35,
   "metadata": {
    "collapsed": true
   },
   "outputs": [],
   "source": [
    "from riotwatcher import RiotWatcher\n",
    "import pandas as pd\n",
    "from converters.data2frames import game_to_dataframe as g2df\n",
    "from converters.data2frames import game_teams_to_dataframe as gt2df\n",
    "from converters.data2frames import champs_to_dataframe as ch2df\n",
    "from converters.data2files import read_json\n",
    "from config.constants import API_KEY, SLO_GAMES_DIR, SLO_DATASET_CSV, SLO_MATCHES_FILE_PATH, SCRIMS_POSITIONS_COLS\n",
    "from config.constants import DATA_DRAGON_URL, DD_RUNES_REFORGED, DD_LANGUAGE, DD_RUNES_REFORGED, STATIC_DATA_DIR\n",
    "from config.constants import LCK_MATCHES_FILE_PATH, LEAGUES_DATA_DICT, CSV_EXPORT_PATH, EXCEL_EXPORT_PATH, IDS_FILE_PATH, EXPORTS_DIR\n",
    "import numpy as np\n",
    "from slds import Slds\n"
   ]
  },
  {
   "cell_type": "code",
   "execution_count": 46,
   "metadata": {
    "collapsed": true
   },
   "outputs": [],
   "source": [
    "slds = Slds(region='EUW1', league='SOLOQ')"
   ]
  },
  {
   "cell_type": "code",
   "execution_count": 47,
   "metadata": {
    "collapsed": true
   },
   "outputs": [],
   "source": [
    "rw = slds.rw"
   ]
  },
  {
   "cell_type": "code",
   "execution_count": 50,
   "metadata": {},
   "outputs": [],
   "source": [
    "tl = rw.match.timeline_by_match(match_id=3567214874, region='EUW1')"
   ]
  },
  {
   "cell_type": "code",
   "execution_count": 53,
   "metadata": {},
   "outputs": [],
   "source": [
    "fs = tl['frames']"
   ]
  },
  {
   "cell_type": "code",
   "execution_count": 63,
   "metadata": {},
   "outputs": [
    {
     "data": {
      "text/plain": [
       "1.0038333333333334"
      ]
     },
     "execution_count": 63,
     "metadata": {},
     "output_type": "execute_result"
    }
   ],
   "source": [
    "fs[1]['timestamp'] / 60000"
   ]
  },
  {
   "cell_type": "code",
   "execution_count": null,
   "metadata": {
    "collapsed": true
   },
   "outputs": [],
   "source": []
  },
  {
   "cell_type": "code",
   "execution_count": null,
   "metadata": {
    "collapsed": true
   },
   "outputs": [],
   "source": [
    "m = rw.match.by_id(match_id=3366842667, region='EUW1')"
   ]
  },
  {
   "cell_type": "code",
   "execution_count": 36,
   "metadata": {},
   "outputs": [
    {
     "name": "stderr",
     "output_type": "stream",
     "text": [
      "C:\\Users\\david\\Anaconda3\\lib\\site-packages\\IPython\\core\\interactiveshell.py:2717: DtypeWarning: Columns (47,48) have mixed types. Specify dtype option on import or set low_memory=False.\n",
      "  interactivity=interactivity, compiler=compiler, result=result)\n"
     ]
    }
   ],
   "source": [
    "df2 = pd.read_csv(LEAGUES_DATA_DICT['SOLOQ'][CSV_EXPORT_PATH], index_col=0, encoding='ISO-8859-1')"
   ]
  },
  {
   "cell_type": "code",
   "execution_count": 40,
   "metadata": {},
   "outputs": [],
   "source": [
    "df2['lanerole'] = df2['lane'] + '_'  + df2['role']"
   ]
  },
  {
   "cell_type": "code",
   "execution_count": 43,
   "metadata": {},
   "outputs": [
    {
     "data": {
      "text/plain": [
       "JUNGLE_NONE           7379\n",
       "BOTTOM_DUO_SUPPORT    6320\n",
       "BOTTOM_DUO_CARRY      6264\n",
       "TOP_SOLO              6157\n",
       "MIDDLE_SOLO           6013\n",
       "NONE_DUO_SUPPORT      3000\n",
       "MIDDLE_DUO             769\n",
       "NONE_DUO               639\n",
       "TOP_DUO                569\n",
       "BOTTOM_DUO             350\n",
       "BOTTOM_SOLO            347\n",
       "MIDDLE_DUO_SUPPORT     314\n",
       "MIDDLE_DUO_CARRY       116\n",
       "TOP_DUO_SUPPORT        104\n",
       "TOP_DUO_CARRY           76\n",
       "MIDDLE_NONE              3\n",
       "NONE_DUO_CARRY           1\n",
       "Name: lanerole, dtype: int64"
      ]
     },
     "execution_count": 43,
     "metadata": {},
     "output_type": "execute_result"
    }
   ],
   "source": [
    "df2.lanerole.value_counts()"
   ]
  },
  {
   "cell_type": "code",
   "execution_count": 45,
   "metadata": {},
   "outputs": [
    {
     "data": {
      "text/plain": [
       "150            Shen\n",
       "151           Corki\n",
       "153          Thresh\n",
       "154       Jarvan IV\n",
       "155        Tristana\n",
       "156           Janna\n",
       "157            Ryze\n",
       "158         Hecarim\n",
       "159       Gangplank\n",
       "260          Maokai\n",
       "261            Ryze\n",
       "262            Nunu\n",
       "263           Xayah\n",
       "264           Rakan\n",
       "265      Tahm Kench\n",
       "266           Galio\n",
       "267           Shaco\n",
       "268        Tristana\n",
       "269          Singed\n",
       "270           Riven\n",
       "271           Varus\n",
       "272            Ahri\n",
       "273             Zac\n",
       "274           Janna\n",
       "275         Skarner\n",
       "276         Caitlyn\n",
       "277            Lulu\n",
       "278        Vladimir\n",
       "279          Irelia\n",
       "280      Cassiopeia\n",
       "            ...    \n",
       "38227         Varus\n",
       "38228          Kayn\n",
       "38229      Kassadin\n",
       "38230         Karma\n",
       "38321         Braum\n",
       "38322         Jayce\n",
       "38323       Kha'Zix\n",
       "38324         Sivir\n",
       "38325        Anivia\n",
       "38326     Gangplank\n",
       "38327         Janna\n",
       "38328       Evelynn\n",
       "38329          Ryze\n",
       "38391         Vayne\n",
       "38392           Zoe\n",
       "38393          Lulu\n",
       "38394       Skarner\n",
       "38395         Fiora\n",
       "38396          Ekko\n",
       "38397         Xayah\n",
       "38398       Alistar\n",
       "38400          Kled\n",
       "38412    Tahm Kench\n",
       "38413      Katarina\n",
       "38414       Sejuani\n",
       "38415       Trundle\n",
       "38416         Varus\n",
       "38417       Morgana\n",
       "38418     Master Yi\n",
       "38420        Soraka\n",
       "Name: champ_name, Length: 3000, dtype: object"
      ]
     },
     "execution_count": 45,
     "metadata": {},
     "output_type": "execute_result"
    }
   ],
   "source": [
    "df2[df2.lanerole == 'NONE_DUO_SUPPORT'].champ_name"
   ]
  },
  {
   "cell_type": "code",
   "execution_count": null,
   "metadata": {
    "collapsed": true
   },
   "outputs": [],
   "source": [
    "accs = [23787352, 227994782, 203396130, 231898666, 22654093, 36549969, 33328489, 218694983, 35306044, 36623216, 26609836]"
   ]
  },
  {
   "cell_type": "code",
   "execution_count": null,
   "metadata": {
    "collapsed": true
   },
   "outputs": [],
   "source": [
    "accs"
   ]
  },
  {
   "cell_type": "code",
   "execution_count": null,
   "metadata": {
    "collapsed": true
   },
   "outputs": [],
   "source": [
    "pd.DataFrame({'game_id': accs})"
   ]
  },
  {
   "cell_type": "code",
   "execution_count": null,
   "metadata": {
    "collapsed": true
   },
   "outputs": [],
   "source": []
  },
  {
   "cell_type": "code",
   "execution_count": null,
   "metadata": {
    "collapsed": true
   },
   "outputs": [],
   "source": []
  },
  {
   "cell_type": "code",
   "execution_count": null,
   "metadata": {
    "collapsed": true
   },
   "outputs": [],
   "source": [
    "from itertools import chain"
   ]
  },
  {
   "cell_type": "code",
   "execution_count": null,
   "metadata": {
    "collapsed": true
   },
   "outputs": [],
   "source": [
    "matches = list(chain.from_iterable([rw.match.matchlist_by_account(account_id=acc, end_index=20, region=slds.region, queue=420)['matches'] for acc in accs]))"
   ]
  },
  {
   "cell_type": "code",
   "execution_count": null,
   "metadata": {
    "collapsed": true
   },
   "outputs": [],
   "source": [
    "gids = list(set([m['gameId'] for m in mls]))"
   ]
  },
  {
   "cell_type": "code",
   "execution_count": null,
   "metadata": {
    "collapsed": true
   },
   "outputs": [],
   "source": []
  },
  {
   "cell_type": "code",
   "execution_count": null,
   "metadata": {
    "collapsed": true
   },
   "outputs": [],
   "source": [
    "df1 = pd.read_csv(LEAGUES_DATA_DICT['LCK'][IDS_FILE_PATH], dtype=LEAGUES_DATA_DICT['LCK']['dtypes'])"
   ]
  },
  {
   "cell_type": "code",
   "execution_count": null,
   "metadata": {
    "collapsed": true
   },
   "outputs": [],
   "source": [
    "list(df1.game_id.map(str) + df1.tournament + df1.hash)"
   ]
  },
  {
   "cell_type": "code",
   "execution_count": null,
   "metadata": {
    "collapsed": true
   },
   "outputs": [],
   "source": [
    "def something(asd, **kwargs):\n",
    "    print(kwargs['b'])"
   ]
  },
  {
   "cell_type": "code",
   "execution_count": null,
   "metadata": {
    "collapsed": true
   },
   "outputs": [],
   "source": [
    "something('asd', b='shit')"
   ]
  },
  {
   "cell_type": "code",
   "execution_count": null,
   "metadata": {
    "collapsed": true
   },
   "outputs": [],
   "source": [
    "pids = {\"participantId\":1,\"player\":{\"summonerName\":\"SKT Untara\",\"profileIcon\":4}},{\"participantId\":2,\"player\":{\"summonerName\":\"SKT Blossom\",\"profileIcon\":7}},{\"participantId\":3,\"player\":{\"summonerName\":\"SKT Faker\",\"profileIcon\":7}},{\"participantId\":4,\"player\":{\"summonerName\":\"SKT Bang\",\"profileIcon\":20}},{\"participantId\":5,\"player\":{\"summonerName\":\"SKT Wolf\",\"profileIcon\":7}},{\"participantId\":6,\"player\":{\"summonerName\":\"KZ Khan\",\"profileIcon\":6}},{\"participantId\":7,\"player\":{\"summonerName\":\"KZ Peanut\",\"profileIcon\":6}},{\"participantId\":8,\"player\":{\"summonerName\":\"KZ Bdd\",\"profileIcon\":6}},{\"participantId\":9,\"player\":{\"summonerName\":\"KZ PraY\",\"profileIcon\":6}},{\"participantId\":10,\"player\":{\"summonerName\":\"KZ GorillA\",\"profileIcon\":6}}"
   ]
  },
  {
   "cell_type": "code",
   "execution_count": null,
   "metadata": {
    "collapsed": true
   },
   "outputs": [],
   "source": [
    "for x in pids:\n",
    "    print(x)"
   ]
  },
  {
   "cell_type": "code",
   "execution_count": null,
   "metadata": {
    "collapsed": true
   },
   "outputs": [],
   "source": []
  }
 ],
 "metadata": {
  "kernelspec": {
   "display_name": "Python 3",
   "language": "python",
   "name": "python3"
  },
  "language_info": {
   "codemirror_mode": {
    "name": "ipython",
    "version": 3
   },
   "file_extension": ".py",
   "mimetype": "text/x-python",
   "name": "python",
   "nbconvert_exporter": "python",
   "pygments_lexer": "ipython3",
   "version": "3.6.1"
  }
 },
 "nbformat": 4,
 "nbformat_minor": 2
}
