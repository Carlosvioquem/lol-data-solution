{
 "cells": [
  {
   "cell_type": "code",
   "execution_count": 76,
   "metadata": {},
   "outputs": [],
   "source": [
    "from config.constants import MONGODB_CREDENTIALS, SQL_LEAGUES_CONN, SQL_LEAGUES_ENGINE, API_KEY\n",
    "from pymongo import MongoClient\n",
    "import pandas as pd\n",
    "from sqlalchemy import create_engine\n",
    "import pymysql\n",
    "from riotwatcher import RiotWatcher"
   ]
  },
  {
   "cell_type": "markdown",
   "metadata": {},
   "source": [
    "# MongoDB"
   ]
  },
  {
   "cell_type": "code",
   "execution_count": 2,
   "metadata": {},
   "outputs": [],
   "source": [
    "mongodb = MongoClient(MONGODB_CREDENTIALS).slds"
   ]
  },
  {
   "cell_type": "code",
   "execution_count": 3,
   "metadata": {},
   "outputs": [],
   "source": [
    "soloq_m_coll = mongodb.soloq_m\n",
    "soloq_tl_coll = mongodb.soloq_tl"
   ]
  },
  {
   "cell_type": "code",
   "execution_count": 28,
   "metadata": {},
   "outputs": [],
   "source": [
    "slo_tl_coll = mongodb.slo_tl"
   ]
  },
  {
   "cell_type": "code",
   "execution_count": null,
   "metadata": {},
   "outputs": [],
   "source": [
    "slo_tl_coll.find_one({'gameId':})"
   ]
  },
  {
   "cell_type": "code",
   "execution_count": null,
   "metadata": {},
   "outputs": [],
   "source": []
  },
  {
   "cell_type": "code",
   "execution_count": 4,
   "metadata": {},
   "outputs": [],
   "source": [
    "sql = pymysql.connect(**SQL_LEAGUES_CONN)"
   ]
  },
  {
   "cell_type": "code",
   "execution_count": 5,
   "metadata": {},
   "outputs": [],
   "source": [
    "cursor1 = sql.cursor()\n",
    "query = 'SELECT game_id, realm, hash FROM slo'\n",
    "cursor1.execute(query)\n",
    "new_game_ids = [(gid[0], gid[1], gid[2]) for gid in cursor1]\n",
    "platforms = [gid[1] for gid in new_game_ids]"
   ]
  },
  {
   "cell_type": "code",
   "execution_count": 6,
   "metadata": {},
   "outputs": [
    {
     "data": {
      "text/plain": [
       "{'ESPORTSTMNT01', 'ESPORTSTMNT05', 'EUW1'}"
      ]
     },
     "execution_count": 6,
     "metadata": {},
     "output_type": "execute_result"
    }
   ],
   "source": [
    "set(platforms)"
   ]
  },
  {
   "cell_type": "code",
   "execution_count": 7,
   "metadata": {},
   "outputs": [],
   "source": [
    "cursor = soloq_m_coll.find({'platformId': {'$in': list(set(platforms))}}, {'_id': 0, 'gameId': 1, 'platformId': 1})"
   ]
  },
  {
   "cell_type": "code",
   "execution_count": 8,
   "metadata": {},
   "outputs": [],
   "source": [
    "current_game_ids = [(gid['gameId'], gid['platformId']) for gid in cursor]"
   ]
  },
  {
   "cell_type": "code",
   "execution_count": 12,
   "metadata": {},
   "outputs": [],
   "source": [
    "df = pd.DataFrame(current_game_ids)"
   ]
  },
  {
   "cell_type": "code",
   "execution_count": null,
   "metadata": {},
   "outputs": [],
   "source": []
  },
  {
   "cell_type": "code",
   "execution_count": null,
   "metadata": {},
   "outputs": [],
   "source": []
  },
  {
   "cell_type": "code",
   "execution_count": 49,
   "metadata": {},
   "outputs": [
    {
     "data": {
      "text/plain": [
       "{'gameCreation': {'$gteeee': 'meirae'}}"
      ]
     },
     "execution_count": 49,
     "metadata": {},
     "output_type": "execute_result"
    }
   ],
   "source": [
    "dict1"
   ]
  },
  {
   "cell_type": "code",
   "execution_count": 31,
   "metadata": {},
   "outputs": [],
   "source": [
    "gs = soloq_m_coll.find({'gameCreation': {'$gte': 1526335200000, '$lte': 1526507999000}}, {'_id': 0, 'gameId': 1})"
   ]
  },
  {
   "cell_type": "code",
   "execution_count": 32,
   "metadata": {},
   "outputs": [],
   "source": [
    "gids = [obj['gameId'] for obj in gs]"
   ]
  },
  {
   "cell_type": "code",
   "execution_count": 33,
   "metadata": {},
   "outputs": [
    {
     "data": {
      "text/plain": [
       "356"
      ]
     },
     "execution_count": 33,
     "metadata": {},
     "output_type": "execute_result"
    }
   ],
   "source": [
    "len(gids)"
   ]
  },
  {
   "cell_type": "markdown",
   "metadata": {},
   "source": [
    "### Regex in MongoDB with game versions"
   ]
  },
  {
   "cell_type": "code",
   "execution_count": 193,
   "metadata": {},
   "outputs": [],
   "source": [
    "patch = '8.1'"
   ]
  },
  {
   "cell_type": "code",
   "execution_count": 194,
   "metadata": {},
   "outputs": [],
   "source": [
    "rgex_patch = '^' + '{}'.format(patch).replace('.', r'\\.')"
   ]
  },
  {
   "cell_type": "code",
   "execution_count": 195,
   "metadata": {},
   "outputs": [],
   "source": [
    "gamevers = [game['gameVersion'] for game in soloq_m_coll.find({'platformId': region, 'gameVersion': {'$regex': rgex_patch}}, {'_id': 0, 'gameVersion': 1})]"
   ]
  },
  {
   "cell_type": "code",
   "execution_count": 196,
   "metadata": {},
   "outputs": [
    {
     "data": {
      "text/plain": [
       "8.1.214.5847    14\n",
       "8.1.213.4336    13\n",
       "dtype: int64"
      ]
     },
     "execution_count": 196,
     "metadata": {},
     "output_type": "execute_result"
    }
   ],
   "source": [
    "pd.Series(gamevers).value_counts()"
   ]
  },
  {
   "cell_type": "code",
   "execution_count": null,
   "metadata": {
    "collapsed": true
   },
   "outputs": [],
   "source": [
    "g = soloq_m_coll.find({'participantIdentities.player.accountId': {'$in': [23787352]}}, {'_id': 0, 'gameId': 1})"
   ]
  },
  {
   "cell_type": "code",
   "execution_count": null,
   "metadata": {
    "collapsed": true
   },
   "outputs": [],
   "source": [
    "gs = [obj['gameId'] for obj in g]"
   ]
  },
  {
   "cell_type": "code",
   "execution_count": null,
   "metadata": {
    "collapsed": true
   },
   "outputs": [],
   "source": [
    "pd.DataFrame(gs).rename(columns={0: 'game_id'})"
   ]
  },
  {
   "cell_type": "code",
   "execution_count": null,
   "metadata": {},
   "outputs": [],
   "source": []
  },
  {
   "cell_type": "code",
   "execution_count": null,
   "metadata": {},
   "outputs": [],
   "source": []
  },
  {
   "cell_type": "code",
   "execution_count": null,
   "metadata": {},
   "outputs": [],
   "source": []
  },
  {
   "cell_type": "markdown",
   "metadata": {},
   "source": [
    "# SQL"
   ]
  },
  {
   "cell_type": "code",
   "execution_count": 19,
   "metadata": {},
   "outputs": [],
   "source": [
    "import pymysql"
   ]
  },
  {
   "cell_type": "code",
   "execution_count": 84,
   "metadata": {},
   "outputs": [],
   "source": [
    "engine = create_engine(SQL_LEAGUES_ENGINE)\n",
    "cnx = engine.connect()\n",
    "sql_df = pd.read_sql_table(con=cnx, table_name='slo', index_col='index')\n",
    "cnx.close()"
   ]
  },
  {
   "cell_type": "code",
   "execution_count": 85,
   "metadata": {},
   "outputs": [
    {
     "data": {
      "text/html": [
       "<div>\n",
       "<style scoped>\n",
       "    .dataframe tbody tr th:only-of-type {\n",
       "        vertical-align: middle;\n",
       "    }\n",
       "\n",
       "    .dataframe tbody tr th {\n",
       "        vertical-align: top;\n",
       "    }\n",
       "\n",
       "    .dataframe thead th {\n",
       "        text-align: right;\n",
       "    }\n",
       "</style>\n",
       "<table border=\"1\" class=\"dataframe\">\n",
       "  <thead>\n",
       "    <tr style=\"text-align: right;\">\n",
       "      <th></th>\n",
       "      <th>season</th>\n",
       "      <th>split</th>\n",
       "      <th>date</th>\n",
       "      <th>series_id</th>\n",
       "      <th>week</th>\n",
       "      <th>event</th>\n",
       "      <th>game</th>\n",
       "      <th>game_id</th>\n",
       "      <th>realm</th>\n",
       "      <th>hash</th>\n",
       "      <th>...</th>\n",
       "      <th>p1</th>\n",
       "      <th>p2</th>\n",
       "      <th>p3</th>\n",
       "      <th>p4</th>\n",
       "      <th>p5</th>\n",
       "      <th>p6</th>\n",
       "      <th>p7</th>\n",
       "      <th>p8</th>\n",
       "      <th>p9</th>\n",
       "      <th>p10</th>\n",
       "    </tr>\n",
       "    <tr>\n",
       "      <th>index</th>\n",
       "      <th></th>\n",
       "      <th></th>\n",
       "      <th></th>\n",
       "      <th></th>\n",
       "      <th></th>\n",
       "      <th></th>\n",
       "      <th></th>\n",
       "      <th></th>\n",
       "      <th></th>\n",
       "      <th></th>\n",
       "      <th></th>\n",
       "      <th></th>\n",
       "      <th></th>\n",
       "      <th></th>\n",
       "      <th></th>\n",
       "      <th></th>\n",
       "      <th></th>\n",
       "      <th></th>\n",
       "      <th></th>\n",
       "      <th></th>\n",
       "      <th></th>\n",
       "    </tr>\n",
       "  </thead>\n",
       "  <tbody>\n",
       "    <tr>\n",
       "      <th>0</th>\n",
       "      <td>8</td>\n",
       "      <td>summer</td>\n",
       "      <td>26/05/2018 12:00:00</td>\n",
       "      <td>DRG_KIYF</td>\n",
       "      <td>1</td>\n",
       "      <td>BCN viewing party</td>\n",
       "      <td>1</td>\n",
       "      <td>750114</td>\n",
       "      <td>ESPORTSTMNT05</td>\n",
       "      <td>240839e4082e6796</td>\n",
       "      <td>...</td>\n",
       "      <td>Sacre</td>\n",
       "      <td>Hero</td>\n",
       "      <td>Vrow</td>\n",
       "      <td>Barcode</td>\n",
       "      <td>Homi</td>\n",
       "      <td>Orome</td>\n",
       "      <td>Aesthetic</td>\n",
       "      <td>Zazee</td>\n",
       "      <td>Carzzy</td>\n",
       "      <td>Rufus</td>\n",
       "    </tr>\n",
       "    <tr>\n",
       "      <th>1</th>\n",
       "      <td>8</td>\n",
       "      <td>summer</td>\n",
       "      <td>26/05/2018 13:00:00</td>\n",
       "      <td>DRG_KIYF</td>\n",
       "      <td>1</td>\n",
       "      <td>BCN viewing party</td>\n",
       "      <td>2</td>\n",
       "      <td>740189</td>\n",
       "      <td>ESPORTSTMNT05</td>\n",
       "      <td>bc2bed412a9b6474</td>\n",
       "      <td>...</td>\n",
       "      <td>Orome</td>\n",
       "      <td>Aesthetic</td>\n",
       "      <td>Zazee</td>\n",
       "      <td>Carzzy</td>\n",
       "      <td>Rufus</td>\n",
       "      <td>Sacre</td>\n",
       "      <td>Hero</td>\n",
       "      <td>Vrow</td>\n",
       "      <td>Barcode</td>\n",
       "      <td>Homi</td>\n",
       "    </tr>\n",
       "    <tr>\n",
       "      <th>2</th>\n",
       "      <td>8</td>\n",
       "      <td>summer</td>\n",
       "      <td>26/05/2018 14:00:00</td>\n",
       "      <td>EMZ_PGM</td>\n",
       "      <td>1</td>\n",
       "      <td>BCN viewing party</td>\n",
       "      <td>1</td>\n",
       "      <td>750170</td>\n",
       "      <td>ESPORTSTMNT05</td>\n",
       "      <td>4d9934aea20585ef</td>\n",
       "      <td>...</td>\n",
       "      <td>Moryo</td>\n",
       "      <td>Dahvys</td>\n",
       "      <td>Czekolad</td>\n",
       "      <td>Monk</td>\n",
       "      <td>Tarky</td>\n",
       "      <td>Glebo</td>\n",
       "      <td>Ippon</td>\n",
       "      <td>Siler</td>\n",
       "      <td>Javaaa</td>\n",
       "      <td>Karakal</td>\n",
       "    </tr>\n",
       "  </tbody>\n",
       "</table>\n",
       "<p>3 rows × 23 columns</p>\n",
       "</div>"
      ],
      "text/plain": [
       "       season   split                 date series_id  week              event  \\\n",
       "index                                                                           \n",
       "0           8  summer  26/05/2018 12:00:00  DRG_KIYF     1  BCN viewing party   \n",
       "1           8  summer  26/05/2018 13:00:00  DRG_KIYF     1  BCN viewing party   \n",
       "2           8  summer  26/05/2018 14:00:00   EMZ_PGM     1  BCN viewing party   \n",
       "\n",
       "       game  game_id          realm              hash   ...        p1  \\\n",
       "index                                                   ...             \n",
       "0         1   750114  ESPORTSTMNT05  240839e4082e6796   ...     Sacre   \n",
       "1         2   740189  ESPORTSTMNT05  bc2bed412a9b6474   ...     Orome   \n",
       "2         1   750170  ESPORTSTMNT05  4d9934aea20585ef   ...     Moryo   \n",
       "\n",
       "              p2        p3       p4     p5     p6         p7     p8       p9  \\\n",
       "index                                                                          \n",
       "0           Hero      Vrow  Barcode   Homi  Orome  Aesthetic  Zazee   Carzzy   \n",
       "1      Aesthetic     Zazee   Carzzy  Rufus  Sacre       Hero   Vrow  Barcode   \n",
       "2         Dahvys  Czekolad     Monk  Tarky  Glebo      Ippon  Siler   Javaaa   \n",
       "\n",
       "           p10  \n",
       "index           \n",
       "0        Rufus  \n",
       "1         Homi  \n",
       "2      Karakal  \n",
       "\n",
       "[3 rows x 23 columns]"
      ]
     },
     "execution_count": 85,
     "metadata": {},
     "output_type": "execute_result"
    }
   ],
   "source": [
    "sql_df.head(3)"
   ]
  },
  {
   "cell_type": "code",
   "execution_count": 79,
   "metadata": {},
   "outputs": [],
   "source": [
    "competitions = sql_df[['competition', 'competition_abbv']]"
   ]
  },
  {
   "cell_type": "code",
   "execution_count": 82,
   "metadata": {},
   "outputs": [],
   "source": [
    "teams = sql_df[['team_name', 'team_abbv']]"
   ]
  },
  {
   "cell_type": "code",
   "execution_count": 83,
   "metadata": {},
   "outputs": [],
   "source": [
    "players = sql_df[['region', 'main_role', 'substitute', 'player_name', 'account_id', 'id', 'account_type']]"
   ]
  },
  {
   "cell_type": "markdown",
   "metadata": {},
   "source": [
    "# Random"
   ]
  },
  {
   "cell_type": "code",
   "execution_count": 90,
   "metadata": {},
   "outputs": [],
   "source": [
    "from riotwatcher import RiotWatcher\n",
    "from config.constants import API_KEY\n",
    "rw = RiotWatcher(API_KEY)"
   ]
  },
  {
   "cell_type": "code",
   "execution_count": 26,
   "metadata": {},
   "outputs": [],
   "source": [
    "summ = rw.summoner.by_name(region='EUW1', summoner_name='Missing Q')"
   ]
  },
  {
   "cell_type": "code",
   "execution_count": 28,
   "metadata": {},
   "outputs": [],
   "source": [
    "accid = summ['accountId']"
   ]
  },
  {
   "cell_type": "code",
   "execution_count": 30,
   "metadata": {},
   "outputs": [],
   "source": [
    "ml = rw.match.matchlist_by_account(account_id=accid, region='EUW1')"
   ]
  },
  {
   "cell_type": "code",
   "execution_count": 35,
   "metadata": {},
   "outputs": [],
   "source": [
    "gid = ml['matches'][0]['gameId']"
   ]
  },
  {
   "cell_type": "code",
   "execution_count": 36,
   "metadata": {},
   "outputs": [
    {
     "data": {
      "text/plain": [
       "3669456176"
      ]
     },
     "execution_count": 36,
     "metadata": {},
     "output_type": "execute_result"
    }
   ],
   "source": [
    "gid"
   ]
  },
  {
   "cell_type": "code",
   "execution_count": 44,
   "metadata": {},
   "outputs": [],
   "source": [
    "tl = rw.match.timeline_by_match(match_id=3668417003, region='EUW1')"
   ]
  },
  {
   "cell_type": "code",
   "execution_count": 47,
   "metadata": {},
   "outputs": [],
   "source": [
    "from itertools import chain"
   ]
  },
  {
   "cell_type": "code",
   "execution_count": 49,
   "metadata": {},
   "outputs": [],
   "source": [
    "events = list(chain.from_iterable([frame['events'] for frame in tl['frames']]))"
   ]
  },
  {
   "cell_type": "code",
   "execution_count": 56,
   "metadata": {},
   "outputs": [],
   "source": [
    "ward_df = pd.DataFrame([ward for ward in events if ward['type'] == 'WARD_PLACED'])"
   ]
  },
  {
   "cell_type": "code",
   "execution_count": 75,
   "metadata": {},
   "outputs": [],
   "source": [
    "positions = {1: 'JUNG', 2: 'SUPP', 3: 'MID', 4: 'TOP', 5: 'ADC', 6: 'TOP', 7: 'JUNG', 8: 'MID', 9: 'ADC', 10:'SUPP'}"
   ]
  },
  {
   "cell_type": "code",
   "execution_count": 82,
   "metadata": {},
   "outputs": [],
   "source": [
    "df_pos = pd.DataFrame(positions, index=(0,)).T.reset_index().rename(columns={'index': 'pid'})"
   ]
  },
  {
   "cell_type": "code",
   "execution_count": 85,
   "metadata": {},
   "outputs": [],
   "source": [
    "ward_df2 = ward_df.merge(df_pos, left_on='creatorId', right_on='pid')"
   ]
  },
  {
   "cell_type": "code",
   "execution_count": 86,
   "metadata": {},
   "outputs": [],
   "source": [
    "ward_df2.sort_values(['creatorId', 'timestamp']).to_excel('ward_test.xlsx')"
   ]
  },
  {
   "cell_type": "code",
   "execution_count": 87,
   "metadata": {},
   "outputs": [
    {
     "data": {
      "text/html": [
       "<div>\n",
       "<style scoped>\n",
       "    .dataframe tbody tr th:only-of-type {\n",
       "        vertical-align: middle;\n",
       "    }\n",
       "\n",
       "    .dataframe tbody tr th {\n",
       "        vertical-align: top;\n",
       "    }\n",
       "\n",
       "    .dataframe thead th {\n",
       "        text-align: right;\n",
       "    }\n",
       "</style>\n",
       "<table border=\"1\" class=\"dataframe\">\n",
       "  <thead>\n",
       "    <tr style=\"text-align: right;\">\n",
       "      <th></th>\n",
       "      <th>creatorId</th>\n",
       "      <th>timestamp</th>\n",
       "      <th>type</th>\n",
       "      <th>wardType</th>\n",
       "      <th>pid</th>\n",
       "      <th>0</th>\n",
       "    </tr>\n",
       "  </thead>\n",
       "  <tbody>\n",
       "    <tr>\n",
       "      <th>0</th>\n",
       "      <td>7</td>\n",
       "      <td>70607</td>\n",
       "      <td>WARD_PLACED</td>\n",
       "      <td>YELLOW_TRINKET</td>\n",
       "      <td>7</td>\n",
       "      <td>JUNG</td>\n",
       "    </tr>\n",
       "    <tr>\n",
       "      <th>1</th>\n",
       "      <td>7</td>\n",
       "      <td>274523</td>\n",
       "      <td>WARD_PLACED</td>\n",
       "      <td>CONTROL_WARD</td>\n",
       "      <td>7</td>\n",
       "      <td>JUNG</td>\n",
       "    </tr>\n",
       "    <tr>\n",
       "      <th>2</th>\n",
       "      <td>7</td>\n",
       "      <td>302919</td>\n",
       "      <td>WARD_PLACED</td>\n",
       "      <td>YELLOW_TRINKET</td>\n",
       "      <td>7</td>\n",
       "      <td>JUNG</td>\n",
       "    </tr>\n",
       "    <tr>\n",
       "      <th>3</th>\n",
       "      <td>7</td>\n",
       "      <td>524776</td>\n",
       "      <td>WARD_PLACED</td>\n",
       "      <td>YELLOW_TRINKET</td>\n",
       "      <td>7</td>\n",
       "      <td>JUNG</td>\n",
       "    </tr>\n",
       "    <tr>\n",
       "      <th>4</th>\n",
       "      <td>7</td>\n",
       "      <td>744066</td>\n",
       "      <td>WARD_PLACED</td>\n",
       "      <td>YELLOW_TRINKET</td>\n",
       "      <td>7</td>\n",
       "      <td>JUNG</td>\n",
       "    </tr>\n",
       "    <tr>\n",
       "      <th>5</th>\n",
       "      <td>7</td>\n",
       "      <td>1181498</td>\n",
       "      <td>WARD_PLACED</td>\n",
       "      <td>CONTROL_WARD</td>\n",
       "      <td>7</td>\n",
       "      <td>JUNG</td>\n",
       "    </tr>\n",
       "    <tr>\n",
       "      <th>6</th>\n",
       "      <td>7</td>\n",
       "      <td>1366843</td>\n",
       "      <td>WARD_PLACED</td>\n",
       "      <td>CONTROL_WARD</td>\n",
       "      <td>7</td>\n",
       "      <td>JUNG</td>\n",
       "    </tr>\n",
       "    <tr>\n",
       "      <th>7</th>\n",
       "      <td>4</td>\n",
       "      <td>72059</td>\n",
       "      <td>WARD_PLACED</td>\n",
       "      <td>YELLOW_TRINKET</td>\n",
       "      <td>4</td>\n",
       "      <td>TOP</td>\n",
       "    </tr>\n",
       "    <tr>\n",
       "      <th>8</th>\n",
       "      <td>4</td>\n",
       "      <td>283698</td>\n",
       "      <td>WARD_PLACED</td>\n",
       "      <td>YELLOW_TRINKET</td>\n",
       "      <td>4</td>\n",
       "      <td>TOP</td>\n",
       "    </tr>\n",
       "    <tr>\n",
       "      <th>9</th>\n",
       "      <td>4</td>\n",
       "      <td>515090</td>\n",
       "      <td>WARD_PLACED</td>\n",
       "      <td>YELLOW_TRINKET</td>\n",
       "      <td>4</td>\n",
       "      <td>TOP</td>\n",
       "    </tr>\n",
       "    <tr>\n",
       "      <th>10</th>\n",
       "      <td>4</td>\n",
       "      <td>543458</td>\n",
       "      <td>WARD_PLACED</td>\n",
       "      <td>CONTROL_WARD</td>\n",
       "      <td>4</td>\n",
       "      <td>TOP</td>\n",
       "    </tr>\n",
       "    <tr>\n",
       "      <th>11</th>\n",
       "      <td>4</td>\n",
       "      <td>661808</td>\n",
       "      <td>WARD_PLACED</td>\n",
       "      <td>YELLOW_TRINKET</td>\n",
       "      <td>4</td>\n",
       "      <td>TOP</td>\n",
       "    </tr>\n",
       "    <tr>\n",
       "      <th>12</th>\n",
       "      <td>4</td>\n",
       "      <td>903101</td>\n",
       "      <td>WARD_PLACED</td>\n",
       "      <td>YELLOW_TRINKET</td>\n",
       "      <td>4</td>\n",
       "      <td>TOP</td>\n",
       "    </tr>\n",
       "    <tr>\n",
       "      <th>13</th>\n",
       "      <td>4</td>\n",
       "      <td>1044625</td>\n",
       "      <td>WARD_PLACED</td>\n",
       "      <td>YELLOW_TRINKET</td>\n",
       "      <td>4</td>\n",
       "      <td>TOP</td>\n",
       "    </tr>\n",
       "    <tr>\n",
       "      <th>14</th>\n",
       "      <td>4</td>\n",
       "      <td>1196184</td>\n",
       "      <td>WARD_PLACED</td>\n",
       "      <td>YELLOW_TRINKET</td>\n",
       "      <td>4</td>\n",
       "      <td>TOP</td>\n",
       "    </tr>\n",
       "    <tr>\n",
       "      <th>15</th>\n",
       "      <td>4</td>\n",
       "      <td>1346757</td>\n",
       "      <td>WARD_PLACED</td>\n",
       "      <td>CONTROL_WARD</td>\n",
       "      <td>4</td>\n",
       "      <td>TOP</td>\n",
       "    </tr>\n",
       "    <tr>\n",
       "      <th>16</th>\n",
       "      <td>4</td>\n",
       "      <td>1360414</td>\n",
       "      <td>WARD_PLACED</td>\n",
       "      <td>YELLOW_TRINKET</td>\n",
       "      <td>4</td>\n",
       "      <td>TOP</td>\n",
       "    </tr>\n",
       "    <tr>\n",
       "      <th>17</th>\n",
       "      <td>4</td>\n",
       "      <td>1409535</td>\n",
       "      <td>WARD_PLACED</td>\n",
       "      <td>CONTROL_WARD</td>\n",
       "      <td>4</td>\n",
       "      <td>TOP</td>\n",
       "    </tr>\n",
       "    <tr>\n",
       "      <th>18</th>\n",
       "      <td>4</td>\n",
       "      <td>1743160</td>\n",
       "      <td>WARD_PLACED</td>\n",
       "      <td>YELLOW_TRINKET</td>\n",
       "      <td>4</td>\n",
       "      <td>TOP</td>\n",
       "    </tr>\n",
       "    <tr>\n",
       "      <th>19</th>\n",
       "      <td>4</td>\n",
       "      <td>1753386</td>\n",
       "      <td>WARD_PLACED</td>\n",
       "      <td>YELLOW_TRINKET</td>\n",
       "      <td>4</td>\n",
       "      <td>TOP</td>\n",
       "    </tr>\n",
       "    <tr>\n",
       "      <th>20</th>\n",
       "      <td>4</td>\n",
       "      <td>1900067</td>\n",
       "      <td>WARD_PLACED</td>\n",
       "      <td>CONTROL_WARD</td>\n",
       "      <td>4</td>\n",
       "      <td>TOP</td>\n",
       "    </tr>\n",
       "    <tr>\n",
       "      <th>21</th>\n",
       "      <td>4</td>\n",
       "      <td>1982912</td>\n",
       "      <td>WARD_PLACED</td>\n",
       "      <td>YELLOW_TRINKET</td>\n",
       "      <td>4</td>\n",
       "      <td>TOP</td>\n",
       "    </tr>\n",
       "    <tr>\n",
       "      <th>22</th>\n",
       "      <td>4</td>\n",
       "      <td>2021754</td>\n",
       "      <td>WARD_PLACED</td>\n",
       "      <td>YELLOW_TRINKET</td>\n",
       "      <td>4</td>\n",
       "      <td>TOP</td>\n",
       "    </tr>\n",
       "    <tr>\n",
       "      <th>23</th>\n",
       "      <td>10</td>\n",
       "      <td>75260</td>\n",
       "      <td>WARD_PLACED</td>\n",
       "      <td>YELLOW_TRINKET</td>\n",
       "      <td>10</td>\n",
       "      <td>SUPP</td>\n",
       "    </tr>\n",
       "    <tr>\n",
       "      <th>24</th>\n",
       "      <td>10</td>\n",
       "      <td>281586</td>\n",
       "      <td>WARD_PLACED</td>\n",
       "      <td>YELLOW_TRINKET</td>\n",
       "      <td>10</td>\n",
       "      <td>SUPP</td>\n",
       "    </tr>\n",
       "    <tr>\n",
       "      <th>25</th>\n",
       "      <td>10</td>\n",
       "      <td>459420</td>\n",
       "      <td>WARD_PLACED</td>\n",
       "      <td>CONTROL_WARD</td>\n",
       "      <td>10</td>\n",
       "      <td>SUPP</td>\n",
       "    </tr>\n",
       "    <tr>\n",
       "      <th>26</th>\n",
       "      <td>10</td>\n",
       "      <td>486555</td>\n",
       "      <td>WARD_PLACED</td>\n",
       "      <td>CONTROL_WARD</td>\n",
       "      <td>10</td>\n",
       "      <td>SUPP</td>\n",
       "    </tr>\n",
       "    <tr>\n",
       "      <th>27</th>\n",
       "      <td>10</td>\n",
       "      <td>506294</td>\n",
       "      <td>WARD_PLACED</td>\n",
       "      <td>YELLOW_TRINKET</td>\n",
       "      <td>10</td>\n",
       "      <td>SUPP</td>\n",
       "    </tr>\n",
       "    <tr>\n",
       "      <th>28</th>\n",
       "      <td>10</td>\n",
       "      <td>667714</td>\n",
       "      <td>WARD_PLACED</td>\n",
       "      <td>CONTROL_WARD</td>\n",
       "      <td>10</td>\n",
       "      <td>SUPP</td>\n",
       "    </tr>\n",
       "    <tr>\n",
       "      <th>29</th>\n",
       "      <td>10</td>\n",
       "      <td>769282</td>\n",
       "      <td>WARD_PLACED</td>\n",
       "      <td>YELLOW_TRINKET</td>\n",
       "      <td>10</td>\n",
       "      <td>SUPP</td>\n",
       "    </tr>\n",
       "    <tr>\n",
       "      <th>...</th>\n",
       "      <td>...</td>\n",
       "      <td>...</td>\n",
       "      <td>...</td>\n",
       "      <td>...</td>\n",
       "      <td>...</td>\n",
       "      <td>...</td>\n",
       "    </tr>\n",
       "    <tr>\n",
       "      <th>172</th>\n",
       "      <td>1</td>\n",
       "      <td>1940764</td>\n",
       "      <td>WARD_PLACED</td>\n",
       "      <td>YELLOW_TRINKET</td>\n",
       "      <td>1</td>\n",
       "      <td>JUNG</td>\n",
       "    </tr>\n",
       "    <tr>\n",
       "      <th>173</th>\n",
       "      <td>6</td>\n",
       "      <td>298759</td>\n",
       "      <td>WARD_PLACED</td>\n",
       "      <td>YELLOW_TRINKET</td>\n",
       "      <td>6</td>\n",
       "      <td>TOP</td>\n",
       "    </tr>\n",
       "    <tr>\n",
       "      <th>174</th>\n",
       "      <td>6</td>\n",
       "      <td>315966</td>\n",
       "      <td>WARD_PLACED</td>\n",
       "      <td>YELLOW_TRINKET</td>\n",
       "      <td>6</td>\n",
       "      <td>TOP</td>\n",
       "    </tr>\n",
       "    <tr>\n",
       "      <th>175</th>\n",
       "      <td>6</td>\n",
       "      <td>412715</td>\n",
       "      <td>WARD_PLACED</td>\n",
       "      <td>CONTROL_WARD</td>\n",
       "      <td>6</td>\n",
       "      <td>TOP</td>\n",
       "    </tr>\n",
       "    <tr>\n",
       "      <th>176</th>\n",
       "      <td>6</td>\n",
       "      <td>586236</td>\n",
       "      <td>WARD_PLACED</td>\n",
       "      <td>YELLOW_TRINKET</td>\n",
       "      <td>6</td>\n",
       "      <td>TOP</td>\n",
       "    </tr>\n",
       "    <tr>\n",
       "      <th>177</th>\n",
       "      <td>6</td>\n",
       "      <td>730718</td>\n",
       "      <td>WARD_PLACED</td>\n",
       "      <td>YELLOW_TRINKET</td>\n",
       "      <td>6</td>\n",
       "      <td>TOP</td>\n",
       "    </tr>\n",
       "    <tr>\n",
       "      <th>178</th>\n",
       "      <td>6</td>\n",
       "      <td>887221</td>\n",
       "      <td>WARD_PLACED</td>\n",
       "      <td>YELLOW_TRINKET</td>\n",
       "      <td>6</td>\n",
       "      <td>TOP</td>\n",
       "    </tr>\n",
       "    <tr>\n",
       "      <th>179</th>\n",
       "      <td>6</td>\n",
       "      <td>1078734</td>\n",
       "      <td>WARD_PLACED</td>\n",
       "      <td>YELLOW_TRINKET</td>\n",
       "      <td>6</td>\n",
       "      <td>TOP</td>\n",
       "    </tr>\n",
       "    <tr>\n",
       "      <th>180</th>\n",
       "      <td>6</td>\n",
       "      <td>1314034</td>\n",
       "      <td>WARD_PLACED</td>\n",
       "      <td>YELLOW_TRINKET</td>\n",
       "      <td>6</td>\n",
       "      <td>TOP</td>\n",
       "    </tr>\n",
       "    <tr>\n",
       "      <th>181</th>\n",
       "      <td>6</td>\n",
       "      <td>1491001</td>\n",
       "      <td>WARD_PLACED</td>\n",
       "      <td>YELLOW_TRINKET</td>\n",
       "      <td>6</td>\n",
       "      <td>TOP</td>\n",
       "    </tr>\n",
       "    <tr>\n",
       "      <th>182</th>\n",
       "      <td>6</td>\n",
       "      <td>1501008</td>\n",
       "      <td>WARD_PLACED</td>\n",
       "      <td>YELLOW_TRINKET</td>\n",
       "      <td>6</td>\n",
       "      <td>TOP</td>\n",
       "    </tr>\n",
       "    <tr>\n",
       "      <th>183</th>\n",
       "      <td>6</td>\n",
       "      <td>1692099</td>\n",
       "      <td>WARD_PLACED</td>\n",
       "      <td>YELLOW_TRINKET</td>\n",
       "      <td>6</td>\n",
       "      <td>TOP</td>\n",
       "    </tr>\n",
       "    <tr>\n",
       "      <th>184</th>\n",
       "      <td>6</td>\n",
       "      <td>1771457</td>\n",
       "      <td>WARD_PLACED</td>\n",
       "      <td>YELLOW_TRINKET</td>\n",
       "      <td>6</td>\n",
       "      <td>TOP</td>\n",
       "    </tr>\n",
       "    <tr>\n",
       "      <th>185</th>\n",
       "      <td>6</td>\n",
       "      <td>1787893</td>\n",
       "      <td>WARD_PLACED</td>\n",
       "      <td>CONTROL_WARD</td>\n",
       "      <td>6</td>\n",
       "      <td>TOP</td>\n",
       "    </tr>\n",
       "    <tr>\n",
       "      <th>186</th>\n",
       "      <td>6</td>\n",
       "      <td>1980457</td>\n",
       "      <td>WARD_PLACED</td>\n",
       "      <td>YELLOW_TRINKET</td>\n",
       "      <td>6</td>\n",
       "      <td>TOP</td>\n",
       "    </tr>\n",
       "    <tr>\n",
       "      <th>187</th>\n",
       "      <td>6</td>\n",
       "      <td>2083808</td>\n",
       "      <td>WARD_PLACED</td>\n",
       "      <td>YELLOW_TRINKET</td>\n",
       "      <td>6</td>\n",
       "      <td>TOP</td>\n",
       "    </tr>\n",
       "    <tr>\n",
       "      <th>188</th>\n",
       "      <td>8</td>\n",
       "      <td>471737</td>\n",
       "      <td>WARD_PLACED</td>\n",
       "      <td>YELLOW_TRINKET</td>\n",
       "      <td>8</td>\n",
       "      <td>MID</td>\n",
       "    </tr>\n",
       "    <tr>\n",
       "      <th>189</th>\n",
       "      <td>8</td>\n",
       "      <td>476062</td>\n",
       "      <td>WARD_PLACED</td>\n",
       "      <td>CONTROL_WARD</td>\n",
       "      <td>8</td>\n",
       "      <td>MID</td>\n",
       "    </tr>\n",
       "    <tr>\n",
       "      <th>190</th>\n",
       "      <td>8</td>\n",
       "      <td>610201</td>\n",
       "      <td>WARD_PLACED</td>\n",
       "      <td>YELLOW_TRINKET</td>\n",
       "      <td>8</td>\n",
       "      <td>MID</td>\n",
       "    </tr>\n",
       "    <tr>\n",
       "      <th>191</th>\n",
       "      <td>8</td>\n",
       "      <td>746112</td>\n",
       "      <td>WARD_PLACED</td>\n",
       "      <td>YELLOW_TRINKET</td>\n",
       "      <td>8</td>\n",
       "      <td>MID</td>\n",
       "    </tr>\n",
       "    <tr>\n",
       "      <th>192</th>\n",
       "      <td>8</td>\n",
       "      <td>949354</td>\n",
       "      <td>WARD_PLACED</td>\n",
       "      <td>YELLOW_TRINKET</td>\n",
       "      <td>8</td>\n",
       "      <td>MID</td>\n",
       "    </tr>\n",
       "    <tr>\n",
       "      <th>193</th>\n",
       "      <td>8</td>\n",
       "      <td>1048335</td>\n",
       "      <td>WARD_PLACED</td>\n",
       "      <td>YELLOW_TRINKET</td>\n",
       "      <td>8</td>\n",
       "      <td>MID</td>\n",
       "    </tr>\n",
       "    <tr>\n",
       "      <th>194</th>\n",
       "      <td>8</td>\n",
       "      <td>1303387</td>\n",
       "      <td>WARD_PLACED</td>\n",
       "      <td>CONTROL_WARD</td>\n",
       "      <td>8</td>\n",
       "      <td>MID</td>\n",
       "    </tr>\n",
       "    <tr>\n",
       "      <th>195</th>\n",
       "      <td>8</td>\n",
       "      <td>1330145</td>\n",
       "      <td>WARD_PLACED</td>\n",
       "      <td>YELLOW_TRINKET</td>\n",
       "      <td>8</td>\n",
       "      <td>MID</td>\n",
       "    </tr>\n",
       "    <tr>\n",
       "      <th>196</th>\n",
       "      <td>8</td>\n",
       "      <td>1500809</td>\n",
       "      <td>WARD_PLACED</td>\n",
       "      <td>CONTROL_WARD</td>\n",
       "      <td>8</td>\n",
       "      <td>MID</td>\n",
       "    </tr>\n",
       "    <tr>\n",
       "      <th>197</th>\n",
       "      <td>8</td>\n",
       "      <td>1648880</td>\n",
       "      <td>WARD_PLACED</td>\n",
       "      <td>CONTROL_WARD</td>\n",
       "      <td>8</td>\n",
       "      <td>MID</td>\n",
       "    </tr>\n",
       "    <tr>\n",
       "      <th>198</th>\n",
       "      <td>8</td>\n",
       "      <td>1707896</td>\n",
       "      <td>WARD_PLACED</td>\n",
       "      <td>BLUE_TRINKET</td>\n",
       "      <td>8</td>\n",
       "      <td>MID</td>\n",
       "    </tr>\n",
       "    <tr>\n",
       "      <th>199</th>\n",
       "      <td>8</td>\n",
       "      <td>1734575</td>\n",
       "      <td>WARD_PLACED</td>\n",
       "      <td>CONTROL_WARD</td>\n",
       "      <td>8</td>\n",
       "      <td>MID</td>\n",
       "    </tr>\n",
       "    <tr>\n",
       "      <th>200</th>\n",
       "      <td>8</td>\n",
       "      <td>1807476</td>\n",
       "      <td>WARD_PLACED</td>\n",
       "      <td>CONTROL_WARD</td>\n",
       "      <td>8</td>\n",
       "      <td>MID</td>\n",
       "    </tr>\n",
       "    <tr>\n",
       "      <th>201</th>\n",
       "      <td>8</td>\n",
       "      <td>1945821</td>\n",
       "      <td>WARD_PLACED</td>\n",
       "      <td>BLUE_TRINKET</td>\n",
       "      <td>8</td>\n",
       "      <td>MID</td>\n",
       "    </tr>\n",
       "  </tbody>\n",
       "</table>\n",
       "<p>202 rows × 6 columns</p>\n",
       "</div>"
      ],
      "text/plain": [
       "     creatorId  timestamp         type        wardType  pid     0\n",
       "0            7      70607  WARD_PLACED  YELLOW_TRINKET    7  JUNG\n",
       "1            7     274523  WARD_PLACED    CONTROL_WARD    7  JUNG\n",
       "2            7     302919  WARD_PLACED  YELLOW_TRINKET    7  JUNG\n",
       "3            7     524776  WARD_PLACED  YELLOW_TRINKET    7  JUNG\n",
       "4            7     744066  WARD_PLACED  YELLOW_TRINKET    7  JUNG\n",
       "5            7    1181498  WARD_PLACED    CONTROL_WARD    7  JUNG\n",
       "6            7    1366843  WARD_PLACED    CONTROL_WARD    7  JUNG\n",
       "7            4      72059  WARD_PLACED  YELLOW_TRINKET    4   TOP\n",
       "8            4     283698  WARD_PLACED  YELLOW_TRINKET    4   TOP\n",
       "9            4     515090  WARD_PLACED  YELLOW_TRINKET    4   TOP\n",
       "10           4     543458  WARD_PLACED    CONTROL_WARD    4   TOP\n",
       "11           4     661808  WARD_PLACED  YELLOW_TRINKET    4   TOP\n",
       "12           4     903101  WARD_PLACED  YELLOW_TRINKET    4   TOP\n",
       "13           4    1044625  WARD_PLACED  YELLOW_TRINKET    4   TOP\n",
       "14           4    1196184  WARD_PLACED  YELLOW_TRINKET    4   TOP\n",
       "15           4    1346757  WARD_PLACED    CONTROL_WARD    4   TOP\n",
       "16           4    1360414  WARD_PLACED  YELLOW_TRINKET    4   TOP\n",
       "17           4    1409535  WARD_PLACED    CONTROL_WARD    4   TOP\n",
       "18           4    1743160  WARD_PLACED  YELLOW_TRINKET    4   TOP\n",
       "19           4    1753386  WARD_PLACED  YELLOW_TRINKET    4   TOP\n",
       "20           4    1900067  WARD_PLACED    CONTROL_WARD    4   TOP\n",
       "21           4    1982912  WARD_PLACED  YELLOW_TRINKET    4   TOP\n",
       "22           4    2021754  WARD_PLACED  YELLOW_TRINKET    4   TOP\n",
       "23          10      75260  WARD_PLACED  YELLOW_TRINKET   10  SUPP\n",
       "24          10     281586  WARD_PLACED  YELLOW_TRINKET   10  SUPP\n",
       "25          10     459420  WARD_PLACED    CONTROL_WARD   10  SUPP\n",
       "26          10     486555  WARD_PLACED    CONTROL_WARD   10  SUPP\n",
       "27          10     506294  WARD_PLACED  YELLOW_TRINKET   10  SUPP\n",
       "28          10     667714  WARD_PLACED    CONTROL_WARD   10  SUPP\n",
       "29          10     769282  WARD_PLACED  YELLOW_TRINKET   10  SUPP\n",
       "..         ...        ...          ...             ...  ...   ...\n",
       "172          1    1940764  WARD_PLACED  YELLOW_TRINKET    1  JUNG\n",
       "173          6     298759  WARD_PLACED  YELLOW_TRINKET    6   TOP\n",
       "174          6     315966  WARD_PLACED  YELLOW_TRINKET    6   TOP\n",
       "175          6     412715  WARD_PLACED    CONTROL_WARD    6   TOP\n",
       "176          6     586236  WARD_PLACED  YELLOW_TRINKET    6   TOP\n",
       "177          6     730718  WARD_PLACED  YELLOW_TRINKET    6   TOP\n",
       "178          6     887221  WARD_PLACED  YELLOW_TRINKET    6   TOP\n",
       "179          6    1078734  WARD_PLACED  YELLOW_TRINKET    6   TOP\n",
       "180          6    1314034  WARD_PLACED  YELLOW_TRINKET    6   TOP\n",
       "181          6    1491001  WARD_PLACED  YELLOW_TRINKET    6   TOP\n",
       "182          6    1501008  WARD_PLACED  YELLOW_TRINKET    6   TOP\n",
       "183          6    1692099  WARD_PLACED  YELLOW_TRINKET    6   TOP\n",
       "184          6    1771457  WARD_PLACED  YELLOW_TRINKET    6   TOP\n",
       "185          6    1787893  WARD_PLACED    CONTROL_WARD    6   TOP\n",
       "186          6    1980457  WARD_PLACED  YELLOW_TRINKET    6   TOP\n",
       "187          6    2083808  WARD_PLACED  YELLOW_TRINKET    6   TOP\n",
       "188          8     471737  WARD_PLACED  YELLOW_TRINKET    8   MID\n",
       "189          8     476062  WARD_PLACED    CONTROL_WARD    8   MID\n",
       "190          8     610201  WARD_PLACED  YELLOW_TRINKET    8   MID\n",
       "191          8     746112  WARD_PLACED  YELLOW_TRINKET    8   MID\n",
       "192          8     949354  WARD_PLACED  YELLOW_TRINKET    8   MID\n",
       "193          8    1048335  WARD_PLACED  YELLOW_TRINKET    8   MID\n",
       "194          8    1303387  WARD_PLACED    CONTROL_WARD    8   MID\n",
       "195          8    1330145  WARD_PLACED  YELLOW_TRINKET    8   MID\n",
       "196          8    1500809  WARD_PLACED    CONTROL_WARD    8   MID\n",
       "197          8    1648880  WARD_PLACED    CONTROL_WARD    8   MID\n",
       "198          8    1707896  WARD_PLACED    BLUE_TRINKET    8   MID\n",
       "199          8    1734575  WARD_PLACED    CONTROL_WARD    8   MID\n",
       "200          8    1807476  WARD_PLACED    CONTROL_WARD    8   MID\n",
       "201          8    1945821  WARD_PLACED    BLUE_TRINKET    8   MID\n",
       "\n",
       "[202 rows x 6 columns]"
      ]
     },
     "execution_count": 87,
     "metadata": {},
     "output_type": "execute_result"
    }
   ],
   "source": [
    "ward_df2"
   ]
  },
  {
   "cell_type": "code",
   "execution_count": null,
   "metadata": {},
   "outputs": [],
   "source": []
  }
 ],
 "metadata": {
  "kernelspec": {
   "display_name": "Python 3",
   "language": "python",
   "name": "python3"
  },
  "language_info": {
   "codemirror_mode": {
    "name": "ipython",
    "version": 3
   },
   "file_extension": ".py",
   "mimetype": "text/x-python",
   "name": "python",
   "nbconvert_exporter": "python",
   "pygments_lexer": "ipython3",
   "version": "3.6.4"
  }
 },
 "nbformat": 4,
 "nbformat_minor": 2
}
