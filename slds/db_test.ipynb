{
 "cells": [
  {
   "cell_type": "code",
   "execution_count": 1,
   "metadata": {},
   "outputs": [],
   "source": [
    "from config.constants import MONGODB_CREDENTIALS, SQL_LEAGUES_CONN, SQL_LEAGUES_ENGINE, API_KEY\n",
    "from pymongo import MongoClient\n",
    "import pandas as pd\n",
    "from sqlalchemy import create_engine\n",
    "import pymysql\n",
    "from riotwatcher import RiotWatcher"
   ]
  },
  {
   "cell_type": "markdown",
   "metadata": {},
   "source": [
    "# MongoDB"
   ]
  },
  {
   "cell_type": "code",
   "execution_count": 2,
   "metadata": {},
   "outputs": [],
   "source": [
    "mongodb = MongoClient(MONGODB_CREDENTIALS).slds"
   ]
  },
  {
   "cell_type": "code",
   "execution_count": 3,
   "metadata": {},
   "outputs": [],
   "source": [
    "soloq_m_coll = mongodb.soloq_m\n",
    "soloq_tl_coll = mongodb.soloq_tl"
   ]
  },
  {
   "cell_type": "code",
   "execution_count": null,
   "metadata": {},
   "outputs": [],
   "source": []
  },
  {
   "cell_type": "code",
   "execution_count": null,
   "metadata": {},
   "outputs": [],
   "source": []
  },
  {
   "cell_type": "code",
   "execution_count": null,
   "metadata": {},
   "outputs": [],
   "source": []
  },
  {
   "cell_type": "code",
   "execution_count": 5,
   "metadata": {},
   "outputs": [],
   "source": [
    "sql = pymysql.connect(**SQL_LEAGUES_CONN)"
   ]
  },
  {
   "cell_type": "code",
   "execution_count": 53,
   "metadata": {},
   "outputs": [],
   "source": [
    "cursor1 = sql.cursor()\n",
    "query = 'SELECT game_id, realm, hash FROM slo'\n",
    "cursor1.execute(query)\n",
    "new_game_ids = [(gid[0], gid[1], gid[2]) for gid in cursor1]\n",
    "platforms = [gid[1] for gid in new_game_ids]"
   ]
  },
  {
   "cell_type": "code",
   "execution_count": 54,
   "metadata": {},
   "outputs": [
    {
     "data": {
      "text/plain": [
       "{'ESPORTSTMNT01', 'ESPORTSTMNT05', 'EUW1'}"
      ]
     },
     "execution_count": 54,
     "metadata": {},
     "output_type": "execute_result"
    }
   ],
   "source": [
    "set(platforms)"
   ]
  },
  {
   "cell_type": "code",
   "execution_count": 67,
   "metadata": {},
   "outputs": [],
   "source": [
    "cursor = soloq_m_coll.find({'platformId': {'$in': list(set(platforms))}}, {'_id': 0, 'gameId': 1, 'platformId': 1})"
   ]
  },
  {
   "cell_type": "code",
   "execution_count": 68,
   "metadata": {},
   "outputs": [],
   "source": [
    "current_game_ids = [(gid['gameId'], gid['platformId']) for gid in cursor]"
   ]
  },
  {
   "cell_type": "code",
   "execution_count": 82,
   "metadata": {},
   "outputs": [
    {
     "data": {
      "text/plain": [
       "(750114, 'ESPORTSTMNT05', '240839e4082e6796')"
      ]
     },
     "execution_count": 82,
     "metadata": {},
     "output_type": "execute_result"
    }
   ],
   "source": [
    "new_game_ids[0]"
   ]
  },
  {
   "cell_type": "code",
   "execution_count": 81,
   "metadata": {},
   "outputs": [
    {
     "data": {
      "text/plain": [
       "True"
      ]
     },
     "execution_count": 81,
     "metadata": {},
     "output_type": "execute_result"
    }
   ],
   "source": [
    "(new_game_ids[0][0], new_game_ids[0][1], new_game_ids[0][2]) == new_game_ids[0]"
   ]
  },
  {
   "cell_type": "code",
   "execution_count": 90,
   "metadata": {},
   "outputs": [
    {
     "data": {
      "text/plain": [
       "[(750114, 'ESPORTSTMNT05', '240839e4082e6796'),\n",
       " (740189, 'ESPORTSTMNT05', 'bc2bed412a9b6474'),\n",
       " (750170, 'ESPORTSTMNT05', '4d9934aea20585ef'),\n",
       " (750192, 'ESPORTSTMNT05', '71972eada9a4c739'),\n",
       " (740276, 'ESPORTSTMNT05', '9641f4139e9f0993'),\n",
       " (740290, 'ESPORTSTMNT05', 'f6a738adc2cf140d'),\n",
       " (740301, 'ESPORTSTMNT05', '5f7a8067d687cde8'),\n",
       " (740310, 'ESPORTSTMNT05', 'de1a5d9ebd736940'),\n",
       " (740415, 'ESPORTSTMNT05', '8822a15c67ab81a8'),\n",
       " (740426, 'ESPORTSTMNT05', '7a67f5e0e73703a6'),\n",
       " (740435, 'ESPORTSTMNT05', '01c31b712926eefa'),\n",
       " (740437, 'ESPORTSTMNT05', '4751a5a84e500fc3'),\n",
       " (740441, 'ESPORTSTMNT05', '09a17d95a6f4bd47'),\n",
       " (740443, 'ESPORTSTMNT05', '6d2885aa4d8ac6a2'),\n",
       " (740445, 'ESPORTSTMNT05', '0f9de42748597644'),\n",
       " (740446, 'ESPORTSTMNT05', 'd917f2f224ca3a5f'),\n",
       " (3656154091, 'EUW1', None),\n",
       " (3656154560, 'EUW1', None),\n",
       " (3656155124, 'EUW1', None),\n",
       " (3656155599, 'EUW1', None),\n",
       " (3656349375, 'EUW1', None),\n",
       " (3656349975, 'EUW1', None),\n",
       " (730490, 'ESPORTSTMNT01', 'a4af71e07097573b'),\n",
       " (730499, 'ESPORTSTMNT01', '4e0ab7ba8d424a18'),\n",
       " (3659443246, 'EUW1', None),\n",
       " (3659443658, 'EUW1', None),\n",
       " (3659444157, 'EUW1', None),\n",
       " (3659494518, 'EUW1', None),\n",
       " (3659118018, 'EUW1', None),\n",
       " (3659118428, 'EUW1', None),\n",
       " (3659119000, 'EUW1', None),\n",
       " (3659119392, 'EUW1', None),\n",
       " (3666090558, 'EUW1', None),\n",
       " (770086, 'ESPORTSTMNT05', '8a33f45f3ba63797'),\n",
       " (770090, 'ESPORTSTMNT05', 'c0ca600c722a04ab'),\n",
       " (770092, 'ESPORTSTMNT05', '06c267a47381914b'),\n",
       " (760099, 'ESPORTSTMNT05', 'c2d28db1aca33472'),\n",
       " (760105, 'ESPORTSTMNT05', 'e5607a001540fc84'),\n",
       " (760114, 'ESPORTSTMNT05', '76cefeb3fe266883'),\n",
       " (760117, 'ESPORTSTMNT05', 'c1d077272724e813'),\n",
       " (3511957748, 'EUW1', None),\n",
       " (3511958409, 'EUW1', None),\n",
       " (3511958881, 'EUW1', None),\n",
       " (3511959347, 'EUW1', None),\n",
       " (3513973184, 'EUW1', None),\n",
       " (3513973769, 'EUW1', None),\n",
       " (3513974371, 'EUW1', None),\n",
       " (3513974791, 'EUW1', None),\n",
       " (3518058066, 'EUW1', None),\n",
       " (3518058565, 'EUW1', None),\n",
       " (3518059142, 'EUW1', None),\n",
       " (3518059677, 'EUW1', None),\n",
       " (3520252608, 'EUW1', None),\n",
       " (3520253241, 'EUW1', None),\n",
       " (3521185424, 'EUW1', None),\n",
       " (3521186330, 'EUW1', None),\n",
       " (3521186920, 'EUW1', None),\n",
       " (3521187552, 'EUW1', None),\n",
       " (3522751713, 'EUW1', None),\n",
       " (3522752836, 'EUW1', None),\n",
       " (3527366479, 'EUW1', None),\n",
       " (3527367033, 'EUW1', None),\n",
       " (3527367492, 'EUW1', None),\n",
       " (3527367893, 'EUW1', None),\n",
       " (3529478494, 'EUW1', None),\n",
       " (3529479081, 'EUW1', None),\n",
       " (3529479455, 'EUW1', None),\n",
       " (3529480211, 'EUW1', None),\n",
       " (3531952672, 'EUW1', None),\n",
       " (3531953371, 'EUW1', None),\n",
       " (3531953959, 'EUW1', None),\n",
       " (3531954361, 'EUW1', None),\n",
       " (3536086658, 'EUW1', None),\n",
       " (3536087374, 'EUW1', None),\n",
       " (3536087749, 'EUW1', None),\n",
       " (3536088237, 'EUW1', None),\n",
       " (3538251735, 'EUW1', None),\n",
       " (3538252375, 'EUW1', None),\n",
       " (3538416934, 'EUW1', None),\n",
       " (3538417635, 'EUW1', None),\n",
       " (3538418095, 'EUW1', None),\n",
       " (3538418576, 'EUW1', None),\n",
       " (3545611252, 'EUW1', None),\n",
       " (3545611856, 'EUW1', None),\n",
       " (3545612453, 'EUW1', None),\n",
       " (3545612986, 'EUW1', None),\n",
       " (3545896715, 'EUW1', None),\n",
       " (3545897303, 'EUW1', None),\n",
       " (3547712847, 'EUW1', None),\n",
       " (3547713672, 'EUW1', None),\n",
       " (3547714380, 'EUW1', None),\n",
       " (3547714843, 'EUW1', None),\n",
       " (3547738866, 'EUW1', None),\n",
       " (3547739557, 'EUW1', None),\n",
       " (3547740093, 'EUW1', None),\n",
       " (3549580645, 'EUW1', None),\n",
       " (3553543625, 'EUW1', None),\n",
       " (3553543938, 'EUW1', None),\n",
       " (3553544425, 'EUW1', None),\n",
       " (3553544798, 'EUW1', None),\n",
       " (3553468680, 'EUW1', None),\n",
       " (3553469001, 'EUW1', None),\n",
       " (3562451496, 'EUW1', None),\n",
       " (3562451980, 'EUW1', None),\n",
       " (3562452383, 'EUW1', None),\n",
       " (3562452802, 'EUW1', None),\n",
       " (3562446685, 'EUW1', None),\n",
       " (3562447309, 'EUW1', None),\n",
       " (3564721118, 'EUW1', None),\n",
       " (3564721580, 'EUW1', None),\n",
       " (3564722121, 'EUW1', None),\n",
       " (3564722462, 'EUW1', None),\n",
       " (3564596304, 'EUW1', None),\n",
       " (3564596775, 'EUW1', None)]"
      ]
     },
     "execution_count": 90,
     "metadata": {},
     "output_type": "execute_result"
    }
   ],
   "source": [
    "new_game_ids"
   ]
  },
  {
   "cell_type": "code",
   "execution_count": 97,
   "metadata": {},
   "outputs": [
    {
     "data": {
      "text/plain": [
       "[(3659119000, 'EUW1', None),\n",
       " (3659119392, 'EUW1', None),\n",
       " (3666090558, 'EUW1', None),\n",
       " (770086, 'ESPORTSTMNT05', '8a33f45f3ba63797'),\n",
       " (770090, 'ESPORTSTMNT05', 'c0ca600c722a04ab'),\n",
       " (770092, 'ESPORTSTMNT05', '06c267a47381914b'),\n",
       " (760099, 'ESPORTSTMNT05', 'c2d28db1aca33472'),\n",
       " (760105, 'ESPORTSTMNT05', 'e5607a001540fc84'),\n",
       " (760114, 'ESPORTSTMNT05', '76cefeb3fe266883'),\n",
       " (760117, 'ESPORTSTMNT05', 'c1d077272724e813'),\n",
       " (3511957748, 'EUW1', None),\n",
       " (3511958409, 'EUW1', None),\n",
       " (3511958881, 'EUW1', None),\n",
       " (3511959347, 'EUW1', None),\n",
       " (3513973184, 'EUW1', None),\n",
       " (3513973769, 'EUW1', None),\n",
       " (3513974371, 'EUW1', None),\n",
       " (3513974791, 'EUW1', None),\n",
       " (3518058066, 'EUW1', None),\n",
       " (3518058565, 'EUW1', None),\n",
       " (3518059142, 'EUW1', None),\n",
       " (3518059677, 'EUW1', None),\n",
       " (3520252608, 'EUW1', None),\n",
       " (3520253241, 'EUW1', None),\n",
       " (3521185424, 'EUW1', None),\n",
       " (3521186330, 'EUW1', None),\n",
       " (3521186920, 'EUW1', None),\n",
       " (3521187552, 'EUW1', None),\n",
       " (3522751713, 'EUW1', None),\n",
       " (3522752836, 'EUW1', None),\n",
       " (3527366479, 'EUW1', None),\n",
       " (3527367033, 'EUW1', None),\n",
       " (3527367492, 'EUW1', None),\n",
       " (3527367893, 'EUW1', None),\n",
       " (3529478494, 'EUW1', None),\n",
       " (3529479081, 'EUW1', None),\n",
       " (3529479455, 'EUW1', None),\n",
       " (3529480211, 'EUW1', None),\n",
       " (3531952672, 'EUW1', None),\n",
       " (3531953371, 'EUW1', None),\n",
       " (3531953959, 'EUW1', None),\n",
       " (3531954361, 'EUW1', None),\n",
       " (3536086658, 'EUW1', None),\n",
       " (3536087374, 'EUW1', None),\n",
       " (3536087749, 'EUW1', None),\n",
       " (3536088237, 'EUW1', None),\n",
       " (3538251735, 'EUW1', None),\n",
       " (3538252375, 'EUW1', None),\n",
       " (3538416934, 'EUW1', None),\n",
       " (3538417635, 'EUW1', None),\n",
       " (3538418095, 'EUW1', None),\n",
       " (3538418576, 'EUW1', None),\n",
       " (3545611252, 'EUW1', None),\n",
       " (3545611856, 'EUW1', None),\n",
       " (3545612453, 'EUW1', None),\n",
       " (3545612986, 'EUW1', None),\n",
       " (3545896715, 'EUW1', None),\n",
       " (3545897303, 'EUW1', None),\n",
       " (3547712847, 'EUW1', None),\n",
       " (3547713672, 'EUW1', None),\n",
       " (3547714380, 'EUW1', None),\n",
       " (3547714843, 'EUW1', None),\n",
       " (3547738866, 'EUW1', None),\n",
       " (3547739557, 'EUW1', None),\n",
       " (3547740093, 'EUW1', None),\n",
       " (3549580645, 'EUW1', None),\n",
       " (3553543625, 'EUW1', None),\n",
       " (3553543938, 'EUW1', None),\n",
       " (3553544425, 'EUW1', None),\n",
       " (3553544798, 'EUW1', None),\n",
       " (3553468680, 'EUW1', None),\n",
       " (3553469001, 'EUW1', None),\n",
       " (3562451496, 'EUW1', None),\n",
       " (3562451980, 'EUW1', None),\n",
       " (3562452383, 'EUW1', None),\n",
       " (3562452802, 'EUW1', None),\n",
       " (3562446685, 'EUW1', None),\n",
       " (3562447309, 'EUW1', None),\n",
       " (3564721118, 'EUW1', None),\n",
       " (3564721580, 'EUW1', None),\n",
       " (3564722121, 'EUW1', None),\n",
       " (3564722462, 'EUW1', None),\n",
       " (3564596304, 'EUW1', None),\n",
       " (3564596775, 'EUW1', None)]"
      ]
     },
     "execution_count": 97,
     "metadata": {},
     "output_type": "execute_result"
    }
   ],
   "source": [
    "[gid for gid in new_game_ids if (gid[0], gid[1]) not in blabla]"
   ]
  },
  {
   "cell_type": "code",
   "execution_count": 95,
   "metadata": {},
   "outputs": [],
   "source": [
    "blabla = [(gid[0], gid[1]) for gid in new_game_ids[0:30]]"
   ]
  },
  {
   "cell_type": "code",
   "execution_count": null,
   "metadata": {},
   "outputs": [],
   "source": []
  },
  {
   "cell_type": "code",
   "execution_count": null,
   "metadata": {},
   "outputs": [],
   "source": []
  },
  {
   "cell_type": "code",
   "execution_count": 51,
   "metadata": {},
   "outputs": [],
   "source": [
    "dict1 = {}\n",
    "# dict1['gameCreation'] = {}"
   ]
  },
  {
   "cell_type": "code",
   "execution_count": 56,
   "metadata": {},
   "outputs": [
    {
     "ename": "KeyError",
     "evalue": "'gameCreation'",
     "output_type": "error",
     "traceback": [
      "\u001b[1;31m---------------------------------------------------------------------------\u001b[0m",
      "\u001b[1;31mKeyError\u001b[0m                                  Traceback (most recent call last)",
      "\u001b[1;32m<ipython-input-56-f109452e9a75>\u001b[0m in \u001b[0;36m<module>\u001b[1;34m()\u001b[0m\n\u001b[1;32m----> 1\u001b[1;33m \u001b[0mdict1\u001b[0m\u001b[1;33m[\u001b[0m\u001b[1;34m'gameCreation'\u001b[0m\u001b[1;33m]\u001b[0m\u001b[1;33m[\u001b[0m\u001b[1;34m'$lte'\u001b[0m\u001b[1;33m]\u001b[0m \u001b[1;33m=\u001b[0m \u001b[1;34m'potatoes'\u001b[0m\u001b[1;33m\u001b[0m\u001b[0m\n\u001b[0m",
      "\u001b[1;31mKeyError\u001b[0m: 'gameCreation'"
     ]
    }
   ],
   "source": [
    "dict1['gameCreation']['$lte'] = 'potatoes'"
   ]
  },
  {
   "cell_type": "code",
   "execution_count": 54,
   "metadata": {},
   "outputs": [
    {
     "ename": "KeyError",
     "evalue": "'gameCreation'",
     "output_type": "error",
     "traceback": [
      "\u001b[1;31m---------------------------------------------------------------------------\u001b[0m",
      "\u001b[1;31mKeyError\u001b[0m                                  Traceback (most recent call last)",
      "\u001b[1;32m<ipython-input-54-9a57d5668037>\u001b[0m in \u001b[0;36m<module>\u001b[1;34m()\u001b[0m\n\u001b[1;32m----> 1\u001b[1;33m \u001b[1;32mif\u001b[0m \u001b[0mdict1\u001b[0m\u001b[1;33m[\u001b[0m\u001b[1;34m'gameCreation'\u001b[0m\u001b[1;33m]\u001b[0m\u001b[1;33m:\u001b[0m\u001b[1;33m\u001b[0m\u001b[0m\n\u001b[0m\u001b[0;32m      2\u001b[0m     \u001b[0mprint\u001b[0m\u001b[1;33m(\u001b[0m\u001b[1;34m'hello'\u001b[0m\u001b[1;33m)\u001b[0m\u001b[1;33m\u001b[0m\u001b[0m\n",
      "\u001b[1;31mKeyError\u001b[0m: 'gameCreation'"
     ]
    }
   ],
   "source": [
    "if dict1['gameCreation']:\n",
    "    print('hello')"
   ]
  },
  {
   "cell_type": "code",
   "execution_count": 48,
   "metadata": {},
   "outputs": [],
   "source": [
    "dict1['gameCreation']['$gteeee'] = 'meirae'"
   ]
  },
  {
   "cell_type": "code",
   "execution_count": 49,
   "metadata": {},
   "outputs": [
    {
     "data": {
      "text/plain": [
       "{'gameCreation': {'$gteeee': 'meirae'}}"
      ]
     },
     "execution_count": 49,
     "metadata": {},
     "output_type": "execute_result"
    }
   ],
   "source": [
    "dict1"
   ]
  },
  {
   "cell_type": "code",
   "execution_count": 31,
   "metadata": {},
   "outputs": [],
   "source": [
    "gs = soloq_m_coll.find({'gameCreation': {'$gte': 1526335200000, '$lte': 1526507999000}}, {'_id': 0, 'gameId': 1})"
   ]
  },
  {
   "cell_type": "code",
   "execution_count": 32,
   "metadata": {},
   "outputs": [],
   "source": [
    "gids = [obj['gameId'] for obj in gs]"
   ]
  },
  {
   "cell_type": "code",
   "execution_count": 33,
   "metadata": {},
   "outputs": [
    {
     "data": {
      "text/plain": [
       "356"
      ]
     },
     "execution_count": 33,
     "metadata": {},
     "output_type": "execute_result"
    }
   ],
   "source": [
    "len(gids)"
   ]
  },
  {
   "cell_type": "markdown",
   "metadata": {},
   "source": [
    "### Regex in MongoDB with game versions"
   ]
  },
  {
   "cell_type": "code",
   "execution_count": 193,
   "metadata": {},
   "outputs": [],
   "source": [
    "patch = '8.1'"
   ]
  },
  {
   "cell_type": "code",
   "execution_count": 194,
   "metadata": {},
   "outputs": [],
   "source": [
    "rgex_patch = '^' + '{}'.format(patch).replace('.', r'\\.')"
   ]
  },
  {
   "cell_type": "code",
   "execution_count": 195,
   "metadata": {},
   "outputs": [],
   "source": [
    "gamevers = [game['gameVersion'] for game in soloq_m_coll.find({'platformId': region, 'gameVersion': {'$regex': rgex_patch}}, {'_id': 0, 'gameVersion': 1})]"
   ]
  },
  {
   "cell_type": "code",
   "execution_count": 196,
   "metadata": {},
   "outputs": [
    {
     "data": {
      "text/plain": [
       "8.1.214.5847    14\n",
       "8.1.213.4336    13\n",
       "dtype: int64"
      ]
     },
     "execution_count": 196,
     "metadata": {},
     "output_type": "execute_result"
    }
   ],
   "source": [
    "pd.Series(gamevers).value_counts()"
   ]
  },
  {
   "cell_type": "code",
   "execution_count": null,
   "metadata": {
    "collapsed": true
   },
   "outputs": [],
   "source": [
    "g = soloq_m_coll.find({'participantIdentities.player.accountId': {'$in': [23787352]}}, {'_id': 0, 'gameId': 1})"
   ]
  },
  {
   "cell_type": "code",
   "execution_count": null,
   "metadata": {
    "collapsed": true
   },
   "outputs": [],
   "source": [
    "gs = [obj['gameId'] for obj in g]"
   ]
  },
  {
   "cell_type": "code",
   "execution_count": null,
   "metadata": {
    "collapsed": true
   },
   "outputs": [],
   "source": [
    "pd.DataFrame(gs).rename(columns={0: 'game_id'})"
   ]
  },
  {
   "cell_type": "markdown",
   "metadata": {},
   "source": [
    "# SQL"
   ]
  },
  {
   "cell_type": "code",
   "execution_count": 88,
   "metadata": {},
   "outputs": [],
   "source": [
    "engine = create_engine(SQL_LEAGUES_ENGINE)"
   ]
  },
  {
   "cell_type": "code",
   "execution_count": 89,
   "metadata": {},
   "outputs": [],
   "source": [
    "cnx = engine.connect()"
   ]
  },
  {
   "cell_type": "code",
   "execution_count": 90,
   "metadata": {},
   "outputs": [],
   "source": [
    "df = pd.read_csv('C:\\\\Users\\\\david\\\\Downloads\\\\slo_regular_seasons_data.csv')"
   ]
  },
  {
   "cell_type": "code",
   "execution_count": 91,
   "metadata": {},
   "outputs": [],
   "source": [
    "df.to_sql(con=cnx, name='slo', if_exists='replace')"
   ]
  },
  {
   "cell_type": "code",
   "execution_count": 92,
   "metadata": {},
   "outputs": [],
   "source": [
    "df1 = pd.read_sql_table(con=cnx, table_name='slo', index_col='index')"
   ]
  },
  {
   "cell_type": "code",
   "execution_count": 93,
   "metadata": {},
   "outputs": [],
   "source": [
    "cnx.close()"
   ]
  },
  {
   "cell_type": "code",
   "execution_count": 94,
   "metadata": {},
   "outputs": [],
   "source": [
    "import pymysql"
   ]
  },
  {
   "cell_type": "code",
   "execution_count": 95,
   "metadata": {},
   "outputs": [],
   "source": [
    "cnx = pymysql.connect(**SQL_LEAGUES_CONN)"
   ]
  },
  {
   "cell_type": "code",
   "execution_count": 96,
   "metadata": {},
   "outputs": [],
   "source": [
    "cursor = cnx.cursor()"
   ]
  },
  {
   "cell_type": "code",
   "execution_count": 97,
   "metadata": {},
   "outputs": [],
   "source": [
    "query = 'SELECT game_id, realm, hash FROM slo'"
   ]
  },
  {
   "cell_type": "code",
   "execution_count": 109,
   "metadata": {},
   "outputs": [
    {
     "data": {
      "text/plain": [
       "114"
      ]
     },
     "execution_count": 109,
     "metadata": {},
     "output_type": "execute_result"
    }
   ],
   "source": [
    "cursor.execute(query)"
   ]
  },
  {
   "cell_type": "code",
   "execution_count": 110,
   "metadata": {},
   "outputs": [],
   "source": [
    "gids = [[g[0], g[1], g[2]] for g in cursor]"
   ]
  },
  {
   "cell_type": "code",
   "execution_count": 111,
   "metadata": {},
   "outputs": [
    {
     "data": {
      "text/plain": [
       "[[750114, 'ESPORTSTMNT05', '240839e4082e6796'],\n",
       " [740189, 'ESPORTSTMNT05', 'bc2bed412a9b6474'],\n",
       " [750170, 'ESPORTSTMNT05', '4d9934aea20585ef'],\n",
       " [750192, 'ESPORTSTMNT05', '71972eada9a4c739'],\n",
       " [740276, 'ESPORTSTMNT05', '9641f4139e9f0993'],\n",
       " [740290, 'ESPORTSTMNT05', 'f6a738adc2cf140d'],\n",
       " [740301, 'ESPORTSTMNT05', '5f7a8067d687cde8'],\n",
       " [740310, 'ESPORTSTMNT05', 'de1a5d9ebd736940'],\n",
       " [740415, 'ESPORTSTMNT05', '8822a15c67ab81a8'],\n",
       " [740426, 'ESPORTSTMNT05', '7a67f5e0e73703a6'],\n",
       " [740435, 'ESPORTSTMNT05', '01c31b712926eefa'],\n",
       " [740437, 'ESPORTSTMNT05', '4751a5a84e500fc3'],\n",
       " [740441, 'ESPORTSTMNT05', '09a17d95a6f4bd47'],\n",
       " [740443, 'ESPORTSTMNT05', '6d2885aa4d8ac6a2'],\n",
       " [740445, 'ESPORTSTMNT05', '0f9de42748597644'],\n",
       " [740446, 'ESPORTSTMNT05', 'd917f2f224ca3a5f'],\n",
       " [3656154091, 'EUW1', None],\n",
       " [3656154560, 'EUW1', None],\n",
       " [3656155124, 'EUW1', None],\n",
       " [3656155599, 'EUW1', None],\n",
       " [3656349375, 'EUW1', None],\n",
       " [3656349975, 'EUW1', None],\n",
       " [730490, 'ESPORTSTMNT01', 'a4af71e07097573b'],\n",
       " [730499, 'ESPORTSTMNT01', '4e0ab7ba8d424a18'],\n",
       " [3659443246, 'EUW1', None],\n",
       " [3659443658, 'EUW1', None],\n",
       " [3659444157, 'EUW1', None],\n",
       " [3659494518, 'EUW1', None],\n",
       " [3659118018, 'EUW1', None],\n",
       " [3659118428, 'EUW1', None],\n",
       " [3659119000, 'EUW1', None],\n",
       " [3659119392, 'EUW1', None],\n",
       " [3666090558, 'EUW1', None],\n",
       " [770086, 'ESPORTSTMNT05', '8a33f45f3ba63797'],\n",
       " [770090, 'ESPORTSTMNT05', 'c0ca600c722a04ab'],\n",
       " [770092, 'ESPORTSTMNT05', '06c267a47381914b'],\n",
       " [760099, 'ESPORTSTMNT05', 'c2d28db1aca33472'],\n",
       " [760105, 'ESPORTSTMNT05', 'e5607a001540fc84'],\n",
       " [760114, 'ESPORTSTMNT05', '76cefeb3fe266883'],\n",
       " [760117, 'ESPORTSTMNT05', 'c1d077272724e813'],\n",
       " [3511957748, 'EUW1', None],\n",
       " [3511958409, 'EUW1', None],\n",
       " [3511958881, 'EUW1', None],\n",
       " [3511959347, 'EUW1', None],\n",
       " [3513973184, 'EUW1', None],\n",
       " [3513973769, 'EUW1', None],\n",
       " [3513974371, 'EUW1', None],\n",
       " [3513974791, 'EUW1', None],\n",
       " [3518058066, 'EUW1', None],\n",
       " [3518058565, 'EUW1', None],\n",
       " [3518059142, 'EUW1', None],\n",
       " [3518059677, 'EUW1', None],\n",
       " [3520252608, 'EUW1', None],\n",
       " [3520253241, 'EUW1', None],\n",
       " [3521185424, 'EUW1', None],\n",
       " [3521186330, 'EUW1', None],\n",
       " [3521186920, 'EUW1', None],\n",
       " [3521187552, 'EUW1', None],\n",
       " [3522751713, 'EUW1', None],\n",
       " [3522752836, 'EUW1', None],\n",
       " [3527366479, 'EUW1', None],\n",
       " [3527367033, 'EUW1', None],\n",
       " [3527367492, 'EUW1', None],\n",
       " [3527367893, 'EUW1', None],\n",
       " [3529478494, 'EUW1', None],\n",
       " [3529479081, 'EUW1', None],\n",
       " [3529479455, 'EUW1', None],\n",
       " [3529480211, 'EUW1', None],\n",
       " [3531952672, 'EUW1', None],\n",
       " [3531953371, 'EUW1', None],\n",
       " [3531953959, 'EUW1', None],\n",
       " [3531954361, 'EUW1', None],\n",
       " [3536086658, 'EUW1', None],\n",
       " [3536087374, 'EUW1', None],\n",
       " [3536087749, 'EUW1', None],\n",
       " [3536088237, 'EUW1', None],\n",
       " [3538251735, 'EUW1', None],\n",
       " [3538252375, 'EUW1', None],\n",
       " [3538416934, 'EUW1', None],\n",
       " [3538417635, 'EUW1', None],\n",
       " [3538418095, 'EUW1', None],\n",
       " [3538418576, 'EUW1', None],\n",
       " [3545611252, 'EUW1', None],\n",
       " [3545611856, 'EUW1', None],\n",
       " [3545612453, 'EUW1', None],\n",
       " [3545612986, 'EUW1', None],\n",
       " [3545896715, 'EUW1', None],\n",
       " [3545897303, 'EUW1', None],\n",
       " [3547712847, 'EUW1', None],\n",
       " [3547713672, 'EUW1', None],\n",
       " [3547714380, 'EUW1', None],\n",
       " [3547714843, 'EUW1', None],\n",
       " [3547738866, 'EUW1', None],\n",
       " [3547739557, 'EUW1', None],\n",
       " [3547740093, 'EUW1', None],\n",
       " [3549580645, 'EUW1', None],\n",
       " [3553543625, 'EUW1', None],\n",
       " [3553543938, 'EUW1', None],\n",
       " [3553544425, 'EUW1', None],\n",
       " [3553544798, 'EUW1', None],\n",
       " [3553468680, 'EUW1', None],\n",
       " [3553469001, 'EUW1', None],\n",
       " [3562451496, 'EUW1', None],\n",
       " [3562451980, 'EUW1', None],\n",
       " [3562452383, 'EUW1', None],\n",
       " [3562452802, 'EUW1', None],\n",
       " [3562446685, 'EUW1', None],\n",
       " [3562447309, 'EUW1', None],\n",
       " [3564721118, 'EUW1', None],\n",
       " [3564721580, 'EUW1', None],\n",
       " [3564722121, 'EUW1', None],\n",
       " [3564722462, 'EUW1', None],\n",
       " [3564596304, 'EUW1', None],\n",
       " [3564596775, 'EUW1', None]]"
      ]
     },
     "execution_count": 111,
     "metadata": {},
     "output_type": "execute_result"
    }
   ],
   "source": [
    "gids"
   ]
  },
  {
   "cell_type": "markdown",
   "metadata": {},
   "source": [
    "# Random"
   ]
  },
  {
   "cell_type": "code",
   "execution_count": 25,
   "metadata": {},
   "outputs": [],
   "source": [
    "from riotwatcher import RiotWatcher\n",
    "rw = RiotWatcher(api_key='RGAPI-b5bdc06a-c1de-45cb-9b6e-fbe57909daa6')"
   ]
  },
  {
   "cell_type": "code",
   "execution_count": 26,
   "metadata": {},
   "outputs": [],
   "source": [
    "summ = rw.summoner.by_name(region='EUW1', summoner_name='Missing Q')"
   ]
  },
  {
   "cell_type": "code",
   "execution_count": 28,
   "metadata": {},
   "outputs": [],
   "source": [
    "accid = summ['accountId']"
   ]
  },
  {
   "cell_type": "code",
   "execution_count": 30,
   "metadata": {},
   "outputs": [],
   "source": [
    "ml = rw.match.matchlist_by_account(account_id=accid, region='EUW1')"
   ]
  },
  {
   "cell_type": "code",
   "execution_count": 35,
   "metadata": {},
   "outputs": [],
   "source": [
    "gid = ml['matches'][0]['gameId']"
   ]
  },
  {
   "cell_type": "code",
   "execution_count": 36,
   "metadata": {},
   "outputs": [
    {
     "data": {
      "text/plain": [
       "3669456176"
      ]
     },
     "execution_count": 36,
     "metadata": {},
     "output_type": "execute_result"
    }
   ],
   "source": [
    "gid"
   ]
  },
  {
   "cell_type": "code",
   "execution_count": 44,
   "metadata": {},
   "outputs": [],
   "source": [
    "tl = rw.match.timeline_by_match(match_id=3668417003, region='EUW1')"
   ]
  },
  {
   "cell_type": "code",
   "execution_count": 47,
   "metadata": {},
   "outputs": [],
   "source": [
    "from itertools import chain"
   ]
  },
  {
   "cell_type": "code",
   "execution_count": 49,
   "metadata": {},
   "outputs": [],
   "source": [
    "events = list(chain.from_iterable([frame['events'] for frame in tl['frames']]))"
   ]
  },
  {
   "cell_type": "code",
   "execution_count": 56,
   "metadata": {},
   "outputs": [],
   "source": [
    "ward_df = pd.DataFrame([ward for ward in events if ward['type'] == 'WARD_PLACED'])"
   ]
  },
  {
   "cell_type": "code",
   "execution_count": 75,
   "metadata": {},
   "outputs": [],
   "source": [
    "positions = {1: 'JUNG', 2: 'SUPP', 3: 'MID', 4: 'TOP', 5: 'ADC', 6: 'TOP', 7: 'JUNG', 8: 'MID', 9: 'ADC', 10:'SUPP'}"
   ]
  },
  {
   "cell_type": "code",
   "execution_count": 82,
   "metadata": {},
   "outputs": [],
   "source": [
    "df_pos = pd.DataFrame(positions, index=(0,)).T.reset_index().rename(columns={'index': 'pid'})"
   ]
  },
  {
   "cell_type": "code",
   "execution_count": 85,
   "metadata": {},
   "outputs": [],
   "source": [
    "ward_df2 = ward_df.merge(df_pos, left_on='creatorId', right_on='pid')"
   ]
  },
  {
   "cell_type": "code",
   "execution_count": 86,
   "metadata": {},
   "outputs": [],
   "source": [
    "ward_df2.sort_values(['creatorId', 'timestamp']).to_excel('ward_test.xlsx')"
   ]
  },
  {
   "cell_type": "code",
   "execution_count": 87,
   "metadata": {},
   "outputs": [
    {
     "data": {
      "text/html": [
       "<div>\n",
       "<style scoped>\n",
       "    .dataframe tbody tr th:only-of-type {\n",
       "        vertical-align: middle;\n",
       "    }\n",
       "\n",
       "    .dataframe tbody tr th {\n",
       "        vertical-align: top;\n",
       "    }\n",
       "\n",
       "    .dataframe thead th {\n",
       "        text-align: right;\n",
       "    }\n",
       "</style>\n",
       "<table border=\"1\" class=\"dataframe\">\n",
       "  <thead>\n",
       "    <tr style=\"text-align: right;\">\n",
       "      <th></th>\n",
       "      <th>creatorId</th>\n",
       "      <th>timestamp</th>\n",
       "      <th>type</th>\n",
       "      <th>wardType</th>\n",
       "      <th>pid</th>\n",
       "      <th>0</th>\n",
       "    </tr>\n",
       "  </thead>\n",
       "  <tbody>\n",
       "    <tr>\n",
       "      <th>0</th>\n",
       "      <td>7</td>\n",
       "      <td>70607</td>\n",
       "      <td>WARD_PLACED</td>\n",
       "      <td>YELLOW_TRINKET</td>\n",
       "      <td>7</td>\n",
       "      <td>JUNG</td>\n",
       "    </tr>\n",
       "    <tr>\n",
       "      <th>1</th>\n",
       "      <td>7</td>\n",
       "      <td>274523</td>\n",
       "      <td>WARD_PLACED</td>\n",
       "      <td>CONTROL_WARD</td>\n",
       "      <td>7</td>\n",
       "      <td>JUNG</td>\n",
       "    </tr>\n",
       "    <tr>\n",
       "      <th>2</th>\n",
       "      <td>7</td>\n",
       "      <td>302919</td>\n",
       "      <td>WARD_PLACED</td>\n",
       "      <td>YELLOW_TRINKET</td>\n",
       "      <td>7</td>\n",
       "      <td>JUNG</td>\n",
       "    </tr>\n",
       "    <tr>\n",
       "      <th>3</th>\n",
       "      <td>7</td>\n",
       "      <td>524776</td>\n",
       "      <td>WARD_PLACED</td>\n",
       "      <td>YELLOW_TRINKET</td>\n",
       "      <td>7</td>\n",
       "      <td>JUNG</td>\n",
       "    </tr>\n",
       "    <tr>\n",
       "      <th>4</th>\n",
       "      <td>7</td>\n",
       "      <td>744066</td>\n",
       "      <td>WARD_PLACED</td>\n",
       "      <td>YELLOW_TRINKET</td>\n",
       "      <td>7</td>\n",
       "      <td>JUNG</td>\n",
       "    </tr>\n",
       "    <tr>\n",
       "      <th>5</th>\n",
       "      <td>7</td>\n",
       "      <td>1181498</td>\n",
       "      <td>WARD_PLACED</td>\n",
       "      <td>CONTROL_WARD</td>\n",
       "      <td>7</td>\n",
       "      <td>JUNG</td>\n",
       "    </tr>\n",
       "    <tr>\n",
       "      <th>6</th>\n",
       "      <td>7</td>\n",
       "      <td>1366843</td>\n",
       "      <td>WARD_PLACED</td>\n",
       "      <td>CONTROL_WARD</td>\n",
       "      <td>7</td>\n",
       "      <td>JUNG</td>\n",
       "    </tr>\n",
       "    <tr>\n",
       "      <th>7</th>\n",
       "      <td>4</td>\n",
       "      <td>72059</td>\n",
       "      <td>WARD_PLACED</td>\n",
       "      <td>YELLOW_TRINKET</td>\n",
       "      <td>4</td>\n",
       "      <td>TOP</td>\n",
       "    </tr>\n",
       "    <tr>\n",
       "      <th>8</th>\n",
       "      <td>4</td>\n",
       "      <td>283698</td>\n",
       "      <td>WARD_PLACED</td>\n",
       "      <td>YELLOW_TRINKET</td>\n",
       "      <td>4</td>\n",
       "      <td>TOP</td>\n",
       "    </tr>\n",
       "    <tr>\n",
       "      <th>9</th>\n",
       "      <td>4</td>\n",
       "      <td>515090</td>\n",
       "      <td>WARD_PLACED</td>\n",
       "      <td>YELLOW_TRINKET</td>\n",
       "      <td>4</td>\n",
       "      <td>TOP</td>\n",
       "    </tr>\n",
       "    <tr>\n",
       "      <th>10</th>\n",
       "      <td>4</td>\n",
       "      <td>543458</td>\n",
       "      <td>WARD_PLACED</td>\n",
       "      <td>CONTROL_WARD</td>\n",
       "      <td>4</td>\n",
       "      <td>TOP</td>\n",
       "    </tr>\n",
       "    <tr>\n",
       "      <th>11</th>\n",
       "      <td>4</td>\n",
       "      <td>661808</td>\n",
       "      <td>WARD_PLACED</td>\n",
       "      <td>YELLOW_TRINKET</td>\n",
       "      <td>4</td>\n",
       "      <td>TOP</td>\n",
       "    </tr>\n",
       "    <tr>\n",
       "      <th>12</th>\n",
       "      <td>4</td>\n",
       "      <td>903101</td>\n",
       "      <td>WARD_PLACED</td>\n",
       "      <td>YELLOW_TRINKET</td>\n",
       "      <td>4</td>\n",
       "      <td>TOP</td>\n",
       "    </tr>\n",
       "    <tr>\n",
       "      <th>13</th>\n",
       "      <td>4</td>\n",
       "      <td>1044625</td>\n",
       "      <td>WARD_PLACED</td>\n",
       "      <td>YELLOW_TRINKET</td>\n",
       "      <td>4</td>\n",
       "      <td>TOP</td>\n",
       "    </tr>\n",
       "    <tr>\n",
       "      <th>14</th>\n",
       "      <td>4</td>\n",
       "      <td>1196184</td>\n",
       "      <td>WARD_PLACED</td>\n",
       "      <td>YELLOW_TRINKET</td>\n",
       "      <td>4</td>\n",
       "      <td>TOP</td>\n",
       "    </tr>\n",
       "    <tr>\n",
       "      <th>15</th>\n",
       "      <td>4</td>\n",
       "      <td>1346757</td>\n",
       "      <td>WARD_PLACED</td>\n",
       "      <td>CONTROL_WARD</td>\n",
       "      <td>4</td>\n",
       "      <td>TOP</td>\n",
       "    </tr>\n",
       "    <tr>\n",
       "      <th>16</th>\n",
       "      <td>4</td>\n",
       "      <td>1360414</td>\n",
       "      <td>WARD_PLACED</td>\n",
       "      <td>YELLOW_TRINKET</td>\n",
       "      <td>4</td>\n",
       "      <td>TOP</td>\n",
       "    </tr>\n",
       "    <tr>\n",
       "      <th>17</th>\n",
       "      <td>4</td>\n",
       "      <td>1409535</td>\n",
       "      <td>WARD_PLACED</td>\n",
       "      <td>CONTROL_WARD</td>\n",
       "      <td>4</td>\n",
       "      <td>TOP</td>\n",
       "    </tr>\n",
       "    <tr>\n",
       "      <th>18</th>\n",
       "      <td>4</td>\n",
       "      <td>1743160</td>\n",
       "      <td>WARD_PLACED</td>\n",
       "      <td>YELLOW_TRINKET</td>\n",
       "      <td>4</td>\n",
       "      <td>TOP</td>\n",
       "    </tr>\n",
       "    <tr>\n",
       "      <th>19</th>\n",
       "      <td>4</td>\n",
       "      <td>1753386</td>\n",
       "      <td>WARD_PLACED</td>\n",
       "      <td>YELLOW_TRINKET</td>\n",
       "      <td>4</td>\n",
       "      <td>TOP</td>\n",
       "    </tr>\n",
       "    <tr>\n",
       "      <th>20</th>\n",
       "      <td>4</td>\n",
       "      <td>1900067</td>\n",
       "      <td>WARD_PLACED</td>\n",
       "      <td>CONTROL_WARD</td>\n",
       "      <td>4</td>\n",
       "      <td>TOP</td>\n",
       "    </tr>\n",
       "    <tr>\n",
       "      <th>21</th>\n",
       "      <td>4</td>\n",
       "      <td>1982912</td>\n",
       "      <td>WARD_PLACED</td>\n",
       "      <td>YELLOW_TRINKET</td>\n",
       "      <td>4</td>\n",
       "      <td>TOP</td>\n",
       "    </tr>\n",
       "    <tr>\n",
       "      <th>22</th>\n",
       "      <td>4</td>\n",
       "      <td>2021754</td>\n",
       "      <td>WARD_PLACED</td>\n",
       "      <td>YELLOW_TRINKET</td>\n",
       "      <td>4</td>\n",
       "      <td>TOP</td>\n",
       "    </tr>\n",
       "    <tr>\n",
       "      <th>23</th>\n",
       "      <td>10</td>\n",
       "      <td>75260</td>\n",
       "      <td>WARD_PLACED</td>\n",
       "      <td>YELLOW_TRINKET</td>\n",
       "      <td>10</td>\n",
       "      <td>SUPP</td>\n",
       "    </tr>\n",
       "    <tr>\n",
       "      <th>24</th>\n",
       "      <td>10</td>\n",
       "      <td>281586</td>\n",
       "      <td>WARD_PLACED</td>\n",
       "      <td>YELLOW_TRINKET</td>\n",
       "      <td>10</td>\n",
       "      <td>SUPP</td>\n",
       "    </tr>\n",
       "    <tr>\n",
       "      <th>25</th>\n",
       "      <td>10</td>\n",
       "      <td>459420</td>\n",
       "      <td>WARD_PLACED</td>\n",
       "      <td>CONTROL_WARD</td>\n",
       "      <td>10</td>\n",
       "      <td>SUPP</td>\n",
       "    </tr>\n",
       "    <tr>\n",
       "      <th>26</th>\n",
       "      <td>10</td>\n",
       "      <td>486555</td>\n",
       "      <td>WARD_PLACED</td>\n",
       "      <td>CONTROL_WARD</td>\n",
       "      <td>10</td>\n",
       "      <td>SUPP</td>\n",
       "    </tr>\n",
       "    <tr>\n",
       "      <th>27</th>\n",
       "      <td>10</td>\n",
       "      <td>506294</td>\n",
       "      <td>WARD_PLACED</td>\n",
       "      <td>YELLOW_TRINKET</td>\n",
       "      <td>10</td>\n",
       "      <td>SUPP</td>\n",
       "    </tr>\n",
       "    <tr>\n",
       "      <th>28</th>\n",
       "      <td>10</td>\n",
       "      <td>667714</td>\n",
       "      <td>WARD_PLACED</td>\n",
       "      <td>CONTROL_WARD</td>\n",
       "      <td>10</td>\n",
       "      <td>SUPP</td>\n",
       "    </tr>\n",
       "    <tr>\n",
       "      <th>29</th>\n",
       "      <td>10</td>\n",
       "      <td>769282</td>\n",
       "      <td>WARD_PLACED</td>\n",
       "      <td>YELLOW_TRINKET</td>\n",
       "      <td>10</td>\n",
       "      <td>SUPP</td>\n",
       "    </tr>\n",
       "    <tr>\n",
       "      <th>...</th>\n",
       "      <td>...</td>\n",
       "      <td>...</td>\n",
       "      <td>...</td>\n",
       "      <td>...</td>\n",
       "      <td>...</td>\n",
       "      <td>...</td>\n",
       "    </tr>\n",
       "    <tr>\n",
       "      <th>172</th>\n",
       "      <td>1</td>\n",
       "      <td>1940764</td>\n",
       "      <td>WARD_PLACED</td>\n",
       "      <td>YELLOW_TRINKET</td>\n",
       "      <td>1</td>\n",
       "      <td>JUNG</td>\n",
       "    </tr>\n",
       "    <tr>\n",
       "      <th>173</th>\n",
       "      <td>6</td>\n",
       "      <td>298759</td>\n",
       "      <td>WARD_PLACED</td>\n",
       "      <td>YELLOW_TRINKET</td>\n",
       "      <td>6</td>\n",
       "      <td>TOP</td>\n",
       "    </tr>\n",
       "    <tr>\n",
       "      <th>174</th>\n",
       "      <td>6</td>\n",
       "      <td>315966</td>\n",
       "      <td>WARD_PLACED</td>\n",
       "      <td>YELLOW_TRINKET</td>\n",
       "      <td>6</td>\n",
       "      <td>TOP</td>\n",
       "    </tr>\n",
       "    <tr>\n",
       "      <th>175</th>\n",
       "      <td>6</td>\n",
       "      <td>412715</td>\n",
       "      <td>WARD_PLACED</td>\n",
       "      <td>CONTROL_WARD</td>\n",
       "      <td>6</td>\n",
       "      <td>TOP</td>\n",
       "    </tr>\n",
       "    <tr>\n",
       "      <th>176</th>\n",
       "      <td>6</td>\n",
       "      <td>586236</td>\n",
       "      <td>WARD_PLACED</td>\n",
       "      <td>YELLOW_TRINKET</td>\n",
       "      <td>6</td>\n",
       "      <td>TOP</td>\n",
       "    </tr>\n",
       "    <tr>\n",
       "      <th>177</th>\n",
       "      <td>6</td>\n",
       "      <td>730718</td>\n",
       "      <td>WARD_PLACED</td>\n",
       "      <td>YELLOW_TRINKET</td>\n",
       "      <td>6</td>\n",
       "      <td>TOP</td>\n",
       "    </tr>\n",
       "    <tr>\n",
       "      <th>178</th>\n",
       "      <td>6</td>\n",
       "      <td>887221</td>\n",
       "      <td>WARD_PLACED</td>\n",
       "      <td>YELLOW_TRINKET</td>\n",
       "      <td>6</td>\n",
       "      <td>TOP</td>\n",
       "    </tr>\n",
       "    <tr>\n",
       "      <th>179</th>\n",
       "      <td>6</td>\n",
       "      <td>1078734</td>\n",
       "      <td>WARD_PLACED</td>\n",
       "      <td>YELLOW_TRINKET</td>\n",
       "      <td>6</td>\n",
       "      <td>TOP</td>\n",
       "    </tr>\n",
       "    <tr>\n",
       "      <th>180</th>\n",
       "      <td>6</td>\n",
       "      <td>1314034</td>\n",
       "      <td>WARD_PLACED</td>\n",
       "      <td>YELLOW_TRINKET</td>\n",
       "      <td>6</td>\n",
       "      <td>TOP</td>\n",
       "    </tr>\n",
       "    <tr>\n",
       "      <th>181</th>\n",
       "      <td>6</td>\n",
       "      <td>1491001</td>\n",
       "      <td>WARD_PLACED</td>\n",
       "      <td>YELLOW_TRINKET</td>\n",
       "      <td>6</td>\n",
       "      <td>TOP</td>\n",
       "    </tr>\n",
       "    <tr>\n",
       "      <th>182</th>\n",
       "      <td>6</td>\n",
       "      <td>1501008</td>\n",
       "      <td>WARD_PLACED</td>\n",
       "      <td>YELLOW_TRINKET</td>\n",
       "      <td>6</td>\n",
       "      <td>TOP</td>\n",
       "    </tr>\n",
       "    <tr>\n",
       "      <th>183</th>\n",
       "      <td>6</td>\n",
       "      <td>1692099</td>\n",
       "      <td>WARD_PLACED</td>\n",
       "      <td>YELLOW_TRINKET</td>\n",
       "      <td>6</td>\n",
       "      <td>TOP</td>\n",
       "    </tr>\n",
       "    <tr>\n",
       "      <th>184</th>\n",
       "      <td>6</td>\n",
       "      <td>1771457</td>\n",
       "      <td>WARD_PLACED</td>\n",
       "      <td>YELLOW_TRINKET</td>\n",
       "      <td>6</td>\n",
       "      <td>TOP</td>\n",
       "    </tr>\n",
       "    <tr>\n",
       "      <th>185</th>\n",
       "      <td>6</td>\n",
       "      <td>1787893</td>\n",
       "      <td>WARD_PLACED</td>\n",
       "      <td>CONTROL_WARD</td>\n",
       "      <td>6</td>\n",
       "      <td>TOP</td>\n",
       "    </tr>\n",
       "    <tr>\n",
       "      <th>186</th>\n",
       "      <td>6</td>\n",
       "      <td>1980457</td>\n",
       "      <td>WARD_PLACED</td>\n",
       "      <td>YELLOW_TRINKET</td>\n",
       "      <td>6</td>\n",
       "      <td>TOP</td>\n",
       "    </tr>\n",
       "    <tr>\n",
       "      <th>187</th>\n",
       "      <td>6</td>\n",
       "      <td>2083808</td>\n",
       "      <td>WARD_PLACED</td>\n",
       "      <td>YELLOW_TRINKET</td>\n",
       "      <td>6</td>\n",
       "      <td>TOP</td>\n",
       "    </tr>\n",
       "    <tr>\n",
       "      <th>188</th>\n",
       "      <td>8</td>\n",
       "      <td>471737</td>\n",
       "      <td>WARD_PLACED</td>\n",
       "      <td>YELLOW_TRINKET</td>\n",
       "      <td>8</td>\n",
       "      <td>MID</td>\n",
       "    </tr>\n",
       "    <tr>\n",
       "      <th>189</th>\n",
       "      <td>8</td>\n",
       "      <td>476062</td>\n",
       "      <td>WARD_PLACED</td>\n",
       "      <td>CONTROL_WARD</td>\n",
       "      <td>8</td>\n",
       "      <td>MID</td>\n",
       "    </tr>\n",
       "    <tr>\n",
       "      <th>190</th>\n",
       "      <td>8</td>\n",
       "      <td>610201</td>\n",
       "      <td>WARD_PLACED</td>\n",
       "      <td>YELLOW_TRINKET</td>\n",
       "      <td>8</td>\n",
       "      <td>MID</td>\n",
       "    </tr>\n",
       "    <tr>\n",
       "      <th>191</th>\n",
       "      <td>8</td>\n",
       "      <td>746112</td>\n",
       "      <td>WARD_PLACED</td>\n",
       "      <td>YELLOW_TRINKET</td>\n",
       "      <td>8</td>\n",
       "      <td>MID</td>\n",
       "    </tr>\n",
       "    <tr>\n",
       "      <th>192</th>\n",
       "      <td>8</td>\n",
       "      <td>949354</td>\n",
       "      <td>WARD_PLACED</td>\n",
       "      <td>YELLOW_TRINKET</td>\n",
       "      <td>8</td>\n",
       "      <td>MID</td>\n",
       "    </tr>\n",
       "    <tr>\n",
       "      <th>193</th>\n",
       "      <td>8</td>\n",
       "      <td>1048335</td>\n",
       "      <td>WARD_PLACED</td>\n",
       "      <td>YELLOW_TRINKET</td>\n",
       "      <td>8</td>\n",
       "      <td>MID</td>\n",
       "    </tr>\n",
       "    <tr>\n",
       "      <th>194</th>\n",
       "      <td>8</td>\n",
       "      <td>1303387</td>\n",
       "      <td>WARD_PLACED</td>\n",
       "      <td>CONTROL_WARD</td>\n",
       "      <td>8</td>\n",
       "      <td>MID</td>\n",
       "    </tr>\n",
       "    <tr>\n",
       "      <th>195</th>\n",
       "      <td>8</td>\n",
       "      <td>1330145</td>\n",
       "      <td>WARD_PLACED</td>\n",
       "      <td>YELLOW_TRINKET</td>\n",
       "      <td>8</td>\n",
       "      <td>MID</td>\n",
       "    </tr>\n",
       "    <tr>\n",
       "      <th>196</th>\n",
       "      <td>8</td>\n",
       "      <td>1500809</td>\n",
       "      <td>WARD_PLACED</td>\n",
       "      <td>CONTROL_WARD</td>\n",
       "      <td>8</td>\n",
       "      <td>MID</td>\n",
       "    </tr>\n",
       "    <tr>\n",
       "      <th>197</th>\n",
       "      <td>8</td>\n",
       "      <td>1648880</td>\n",
       "      <td>WARD_PLACED</td>\n",
       "      <td>CONTROL_WARD</td>\n",
       "      <td>8</td>\n",
       "      <td>MID</td>\n",
       "    </tr>\n",
       "    <tr>\n",
       "      <th>198</th>\n",
       "      <td>8</td>\n",
       "      <td>1707896</td>\n",
       "      <td>WARD_PLACED</td>\n",
       "      <td>BLUE_TRINKET</td>\n",
       "      <td>8</td>\n",
       "      <td>MID</td>\n",
       "    </tr>\n",
       "    <tr>\n",
       "      <th>199</th>\n",
       "      <td>8</td>\n",
       "      <td>1734575</td>\n",
       "      <td>WARD_PLACED</td>\n",
       "      <td>CONTROL_WARD</td>\n",
       "      <td>8</td>\n",
       "      <td>MID</td>\n",
       "    </tr>\n",
       "    <tr>\n",
       "      <th>200</th>\n",
       "      <td>8</td>\n",
       "      <td>1807476</td>\n",
       "      <td>WARD_PLACED</td>\n",
       "      <td>CONTROL_WARD</td>\n",
       "      <td>8</td>\n",
       "      <td>MID</td>\n",
       "    </tr>\n",
       "    <tr>\n",
       "      <th>201</th>\n",
       "      <td>8</td>\n",
       "      <td>1945821</td>\n",
       "      <td>WARD_PLACED</td>\n",
       "      <td>BLUE_TRINKET</td>\n",
       "      <td>8</td>\n",
       "      <td>MID</td>\n",
       "    </tr>\n",
       "  </tbody>\n",
       "</table>\n",
       "<p>202 rows × 6 columns</p>\n",
       "</div>"
      ],
      "text/plain": [
       "     creatorId  timestamp         type        wardType  pid     0\n",
       "0            7      70607  WARD_PLACED  YELLOW_TRINKET    7  JUNG\n",
       "1            7     274523  WARD_PLACED    CONTROL_WARD    7  JUNG\n",
       "2            7     302919  WARD_PLACED  YELLOW_TRINKET    7  JUNG\n",
       "3            7     524776  WARD_PLACED  YELLOW_TRINKET    7  JUNG\n",
       "4            7     744066  WARD_PLACED  YELLOW_TRINKET    7  JUNG\n",
       "5            7    1181498  WARD_PLACED    CONTROL_WARD    7  JUNG\n",
       "6            7    1366843  WARD_PLACED    CONTROL_WARD    7  JUNG\n",
       "7            4      72059  WARD_PLACED  YELLOW_TRINKET    4   TOP\n",
       "8            4     283698  WARD_PLACED  YELLOW_TRINKET    4   TOP\n",
       "9            4     515090  WARD_PLACED  YELLOW_TRINKET    4   TOP\n",
       "10           4     543458  WARD_PLACED    CONTROL_WARD    4   TOP\n",
       "11           4     661808  WARD_PLACED  YELLOW_TRINKET    4   TOP\n",
       "12           4     903101  WARD_PLACED  YELLOW_TRINKET    4   TOP\n",
       "13           4    1044625  WARD_PLACED  YELLOW_TRINKET    4   TOP\n",
       "14           4    1196184  WARD_PLACED  YELLOW_TRINKET    4   TOP\n",
       "15           4    1346757  WARD_PLACED    CONTROL_WARD    4   TOP\n",
       "16           4    1360414  WARD_PLACED  YELLOW_TRINKET    4   TOP\n",
       "17           4    1409535  WARD_PLACED    CONTROL_WARD    4   TOP\n",
       "18           4    1743160  WARD_PLACED  YELLOW_TRINKET    4   TOP\n",
       "19           4    1753386  WARD_PLACED  YELLOW_TRINKET    4   TOP\n",
       "20           4    1900067  WARD_PLACED    CONTROL_WARD    4   TOP\n",
       "21           4    1982912  WARD_PLACED  YELLOW_TRINKET    4   TOP\n",
       "22           4    2021754  WARD_PLACED  YELLOW_TRINKET    4   TOP\n",
       "23          10      75260  WARD_PLACED  YELLOW_TRINKET   10  SUPP\n",
       "24          10     281586  WARD_PLACED  YELLOW_TRINKET   10  SUPP\n",
       "25          10     459420  WARD_PLACED    CONTROL_WARD   10  SUPP\n",
       "26          10     486555  WARD_PLACED    CONTROL_WARD   10  SUPP\n",
       "27          10     506294  WARD_PLACED  YELLOW_TRINKET   10  SUPP\n",
       "28          10     667714  WARD_PLACED    CONTROL_WARD   10  SUPP\n",
       "29          10     769282  WARD_PLACED  YELLOW_TRINKET   10  SUPP\n",
       "..         ...        ...          ...             ...  ...   ...\n",
       "172          1    1940764  WARD_PLACED  YELLOW_TRINKET    1  JUNG\n",
       "173          6     298759  WARD_PLACED  YELLOW_TRINKET    6   TOP\n",
       "174          6     315966  WARD_PLACED  YELLOW_TRINKET    6   TOP\n",
       "175          6     412715  WARD_PLACED    CONTROL_WARD    6   TOP\n",
       "176          6     586236  WARD_PLACED  YELLOW_TRINKET    6   TOP\n",
       "177          6     730718  WARD_PLACED  YELLOW_TRINKET    6   TOP\n",
       "178          6     887221  WARD_PLACED  YELLOW_TRINKET    6   TOP\n",
       "179          6    1078734  WARD_PLACED  YELLOW_TRINKET    6   TOP\n",
       "180          6    1314034  WARD_PLACED  YELLOW_TRINKET    6   TOP\n",
       "181          6    1491001  WARD_PLACED  YELLOW_TRINKET    6   TOP\n",
       "182          6    1501008  WARD_PLACED  YELLOW_TRINKET    6   TOP\n",
       "183          6    1692099  WARD_PLACED  YELLOW_TRINKET    6   TOP\n",
       "184          6    1771457  WARD_PLACED  YELLOW_TRINKET    6   TOP\n",
       "185          6    1787893  WARD_PLACED    CONTROL_WARD    6   TOP\n",
       "186          6    1980457  WARD_PLACED  YELLOW_TRINKET    6   TOP\n",
       "187          6    2083808  WARD_PLACED  YELLOW_TRINKET    6   TOP\n",
       "188          8     471737  WARD_PLACED  YELLOW_TRINKET    8   MID\n",
       "189          8     476062  WARD_PLACED    CONTROL_WARD    8   MID\n",
       "190          8     610201  WARD_PLACED  YELLOW_TRINKET    8   MID\n",
       "191          8     746112  WARD_PLACED  YELLOW_TRINKET    8   MID\n",
       "192          8     949354  WARD_PLACED  YELLOW_TRINKET    8   MID\n",
       "193          8    1048335  WARD_PLACED  YELLOW_TRINKET    8   MID\n",
       "194          8    1303387  WARD_PLACED    CONTROL_WARD    8   MID\n",
       "195          8    1330145  WARD_PLACED  YELLOW_TRINKET    8   MID\n",
       "196          8    1500809  WARD_PLACED    CONTROL_WARD    8   MID\n",
       "197          8    1648880  WARD_PLACED    CONTROL_WARD    8   MID\n",
       "198          8    1707896  WARD_PLACED    BLUE_TRINKET    8   MID\n",
       "199          8    1734575  WARD_PLACED    CONTROL_WARD    8   MID\n",
       "200          8    1807476  WARD_PLACED    CONTROL_WARD    8   MID\n",
       "201          8    1945821  WARD_PLACED    BLUE_TRINKET    8   MID\n",
       "\n",
       "[202 rows x 6 columns]"
      ]
     },
     "execution_count": 87,
     "metadata": {},
     "output_type": "execute_result"
    }
   ],
   "source": [
    "ward_df2"
   ]
  },
  {
   "cell_type": "code",
   "execution_count": null,
   "metadata": {},
   "outputs": [],
   "source": []
  }
 ],
 "metadata": {
  "kernelspec": {
   "display_name": "Python 3",
   "language": "python",
   "name": "python3"
  },
  "language_info": {
   "codemirror_mode": {
    "name": "ipython",
    "version": 3
   },
   "file_extension": ".py",
   "mimetype": "text/x-python",
   "name": "python",
   "nbconvert_exporter": "python",
   "pygments_lexer": "ipython3",
   "version": "3.6.4"
  }
 },
 "nbformat": 4,
 "nbformat_minor": 2
}
