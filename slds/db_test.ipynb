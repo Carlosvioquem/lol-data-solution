{
 "cells": [
  {
   "cell_type": "code",
   "execution_count": 8,
   "metadata": {},
   "outputs": [],
   "source": [
    "from config.constants import MONGODB_CREDENTIALS, SQL_LEAGUES_CONN, SQL_LEAGUES_ENGINE, API_KEY\n",
    "from pymongo import MongoClient\n",
    "import pandas as pd\n",
    "from sqlalchemy import create_engine\n",
    "import pymysql\n",
    "from riotwatcher import RiotWatcher"
   ]
  },
  {
   "cell_type": "code",
   "execution_count": 10,
   "metadata": {},
   "outputs": [],
   "source": [
    "rw = RiotWatcher(API_KEY)"
   ]
  },
  {
   "cell_type": "code",
   "execution_count": 11,
   "metadata": {},
   "outputs": [],
   "source": [
    "vers = rw.static_data.versions(region='EUW1')"
   ]
  },
  {
   "cell_type": "code",
   "execution_count": 12,
   "metadata": {},
   "outputs": [
    {
     "data": {
      "text/plain": [
       "['8.9.1',\n",
       " '8.8.2',\n",
       " '8.8.1',\n",
       " '8.7.1',\n",
       " '8.6.1',\n",
       " '8.5.2',\n",
       " '8.5.1',\n",
       " '8.4.1',\n",
       " '8.3.1',\n",
       " '8.2.1',\n",
       " '8.1.1',\n",
       " '7.24.2',\n",
       " '7.24.1',\n",
       " '7.23.1',\n",
       " '7.22.1',\n",
       " '7.21.1',\n",
       " '7.20.3',\n",
       " '7.20.2',\n",
       " '7.20.1',\n",
       " '7.19.1',\n",
       " '7.18.1',\n",
       " '7.17.2',\n",
       " '7.17.1',\n",
       " '7.16.1',\n",
       " '7.15.1',\n",
       " '7.14.1',\n",
       " '7.13.1',\n",
       " '7.12.1',\n",
       " '7.11.1',\n",
       " '7.10.1',\n",
       " '7.9.2',\n",
       " '7.9.1',\n",
       " '7.8.1',\n",
       " '7.7.1',\n",
       " '7.6.1',\n",
       " '7.5.2',\n",
       " '7.5.1',\n",
       " '7.4.3',\n",
       " '7.4.2',\n",
       " '7.4.1',\n",
       " '7.3.3',\n",
       " '7.3.2',\n",
       " '7.3.1',\n",
       " '7.2.1',\n",
       " '7.1.1',\n",
       " '6.24.1',\n",
       " '6.23.1',\n",
       " '6.22.1',\n",
       " '6.21.1',\n",
       " '6.20.1',\n",
       " '6.19.1',\n",
       " '6.18.1',\n",
       " '6.17.1',\n",
       " '6.16.2',\n",
       " '6.16.1',\n",
       " '6.15.1',\n",
       " '6.14.2',\n",
       " '6.14.1',\n",
       " '6.13.1',\n",
       " '6.12.1',\n",
       " '6.11.1',\n",
       " '6.10.1',\n",
       " '6.9.1',\n",
       " '6.8.1',\n",
       " '6.7.1',\n",
       " '6.6.1',\n",
       " '6.5.1',\n",
       " '6.4.2',\n",
       " '6.4.1',\n",
       " '6.3.1',\n",
       " '6.2.1',\n",
       " '6.1.1',\n",
       " '5.24.2',\n",
       " '5.24.1',\n",
       " '5.23.1',\n",
       " '5.22.3',\n",
       " '5.22.2',\n",
       " '5.22.1',\n",
       " '5.21.1',\n",
       " '5.20.1',\n",
       " '5.19.1',\n",
       " '5.18.1',\n",
       " '5.17.1',\n",
       " '5.16.1',\n",
       " '5.15.1',\n",
       " '5.14.1',\n",
       " '5.13.1',\n",
       " '5.12.1',\n",
       " '5.11.1',\n",
       " '5.10.1',\n",
       " '5.9.1',\n",
       " '5.8.1',\n",
       " '5.7.2',\n",
       " '5.7.1',\n",
       " '5.6.2',\n",
       " '5.6.1',\n",
       " '5.5.3',\n",
       " '5.5.2',\n",
       " '5.5.1',\n",
       " '5.4.1',\n",
       " '5.3.1',\n",
       " '5.2.2',\n",
       " '5.2.1',\n",
       " '5.1.2',\n",
       " '5.1.1',\n",
       " '4.21.5',\n",
       " '4.21.4',\n",
       " '4.21.3',\n",
       " '4.21.1',\n",
       " '4.20.2',\n",
       " '4.20.1',\n",
       " '4.19.3',\n",
       " '4.19.2',\n",
       " '4.18.1',\n",
       " '4.17.1',\n",
       " '4.16.1',\n",
       " '4.15.1',\n",
       " '4.14.2',\n",
       " '4.13.1',\n",
       " '4.12.2',\n",
       " '4.12.1',\n",
       " '4.11.3',\n",
       " '4.10.7',\n",
       " '4.10.2',\n",
       " '4.9.1',\n",
       " '4.8.3',\n",
       " '4.8.2',\n",
       " '4.8.1',\n",
       " '4.7.16',\n",
       " '4.7.9',\n",
       " '4.7.8',\n",
       " '4.6.3',\n",
       " '4.5.4',\n",
       " '4.4.3',\n",
       " '4.4.2',\n",
       " '4.3.18',\n",
       " '4.3.12',\n",
       " '4.3.10',\n",
       " '4.3.4',\n",
       " '4.3.2',\n",
       " '4.2.6',\n",
       " '4.2.5',\n",
       " '4.2.1',\n",
       " '4.1.43',\n",
       " '4.1.41',\n",
       " '4.1.13',\n",
       " '4.1.9',\n",
       " '4.1.2',\n",
       " '3.15.5',\n",
       " '3.15.4',\n",
       " '3.15.2',\n",
       " '3.14.41',\n",
       " '3.14.23',\n",
       " '3.14.22',\n",
       " '3.14.20',\n",
       " '3.14.19',\n",
       " '3.14.16',\n",
       " '3.14.13',\n",
       " '3.14.12',\n",
       " '3.13.24',\n",
       " '3.13.8',\n",
       " '3.13.6',\n",
       " '3.13.1',\n",
       " '3.12.37',\n",
       " '3.12.36',\n",
       " '3.12.34',\n",
       " '3.12.33',\n",
       " '3.12.26',\n",
       " '3.12.24',\n",
       " '3.12.2',\n",
       " '3.11.4',\n",
       " '3.11.2',\n",
       " '3.10.6',\n",
       " '3.10.3',\n",
       " '3.10.2',\n",
       " '3.9.7',\n",
       " '3.9.5',\n",
       " '3.9.4',\n",
       " '3.8.5',\n",
       " '3.8.3',\n",
       " '3.8.1',\n",
       " '3.7.9',\n",
       " '3.7.2',\n",
       " '3.7.1',\n",
       " '3.6.15',\n",
       " '3.6.14',\n",
       " '0.154.3',\n",
       " '0.154.2',\n",
       " '0.153.2',\n",
       " '0.152.115',\n",
       " '0.152.108',\n",
       " '0.152.107',\n",
       " '0.152.55',\n",
       " '0.151.101',\n",
       " '0.151.2']"
      ]
     },
     "execution_count": 12,
     "metadata": {},
     "output_type": "execute_result"
    }
   ],
   "source": [
    "vers"
   ]
  },
  {
   "cell_type": "markdown",
   "metadata": {},
   "source": [
    "# MongoDB"
   ]
  },
  {
   "cell_type": "code",
   "execution_count": 13,
   "metadata": {},
   "outputs": [],
   "source": [
    "mongodb = MongoClient(MONGODB_CREDENTIALS).slds"
   ]
  },
  {
   "cell_type": "code",
   "execution_count": 14,
   "metadata": {},
   "outputs": [],
   "source": [
    "soloq_m_coll = mongodb.soloq_m\n",
    "soloq_tl_coll = mongodb.soloq_tl"
   ]
  },
  {
   "cell_type": "code",
   "execution_count": 15,
   "metadata": {},
   "outputs": [],
   "source": [
    "region = 'EUW1'"
   ]
  },
  {
   "cell_type": "markdown",
   "metadata": {},
   "source": [
    "### Regex in MongoDB with game versions"
   ]
  },
  {
   "cell_type": "code",
   "execution_count": 193,
   "metadata": {},
   "outputs": [],
   "source": [
    "patch = '8.1'"
   ]
  },
  {
   "cell_type": "code",
   "execution_count": 194,
   "metadata": {},
   "outputs": [],
   "source": [
    "rgex_patch = '^' + '{}'.format(patch).replace('.', r'\\.')"
   ]
  },
  {
   "cell_type": "code",
   "execution_count": 195,
   "metadata": {},
   "outputs": [],
   "source": [
    "gamevers = [game['gameVersion'] for game in soloq_m_coll.find({'platformId': region, 'gameVersion': {'$regex': rgex_patch}}, {'_id': 0, 'gameVersion': 1})]"
   ]
  },
  {
   "cell_type": "code",
   "execution_count": 196,
   "metadata": {},
   "outputs": [
    {
     "data": {
      "text/plain": [
       "8.1.214.5847    14\n",
       "8.1.213.4336    13\n",
       "dtype: int64"
      ]
     },
     "execution_count": 196,
     "metadata": {},
     "output_type": "execute_result"
    }
   ],
   "source": [
    "pd.Series(gamevers).value_counts()"
   ]
  },
  {
   "cell_type": "code",
   "execution_count": null,
   "metadata": {
    "collapsed": true
   },
   "outputs": [],
   "source": [
    "g = soloq_m_coll.find({'participantIdentities.player.accountId': {'$in': [23787352]}}, {'_id': 0, 'gameId': 1})"
   ]
  },
  {
   "cell_type": "code",
   "execution_count": null,
   "metadata": {
    "collapsed": true
   },
   "outputs": [],
   "source": [
    "gs = [obj['gameId'] for obj in g]"
   ]
  },
  {
   "cell_type": "code",
   "execution_count": null,
   "metadata": {
    "collapsed": true
   },
   "outputs": [],
   "source": [
    "pd.DataFrame(gs).rename(columns={0: 'game_id'})"
   ]
  },
  {
   "cell_type": "markdown",
   "metadata": {},
   "source": [
    "# SQL"
   ]
  },
  {
   "cell_type": "code",
   "execution_count": 2,
   "metadata": {
    "collapsed": true
   },
   "outputs": [],
   "source": [
    "engine = create_engine(SQL_LEAGUES_ENGINE)"
   ]
  },
  {
   "cell_type": "code",
   "execution_count": 38,
   "metadata": {
    "collapsed": true
   },
   "outputs": [],
   "source": [
    "cnx = engine.connect()"
   ]
  },
  {
   "cell_type": "code",
   "execution_count": 39,
   "metadata": {
    "collapsed": true
   },
   "outputs": [],
   "source": [
    "df1 = pd.read_sql_table(con=cnx, table_name='soloq')"
   ]
  },
  {
   "cell_type": "code",
   "execution_count": 36,
   "metadata": {
    "collapsed": true
   },
   "outputs": [],
   "source": [
    "cnx.close()"
   ]
  },
  {
   "cell_type": "code",
   "execution_count": 21,
   "metadata": {},
   "outputs": [
    {
     "data": {
      "text/plain": [
       "False"
      ]
     },
     "execution_count": 21,
     "metadata": {},
     "output_type": "execute_result"
    }
   ],
   "source": [
    "any(df1.account_id) is None"
   ]
  },
  {
   "cell_type": "code",
   "execution_count": 27,
   "metadata": {
    "collapsed": true
   },
   "outputs": [],
   "source": [
    "cnx = MongoClient(MONGODB_CREDENTIALS)"
   ]
  },
  {
   "cell_type": "code",
   "execution_count": 33,
   "metadata": {
    "collapsed": true
   },
   "outputs": [],
   "source": [
    "cnx.close()"
   ]
  },
  {
   "cell_type": "code",
   "execution_count": null,
   "metadata": {
    "collapsed": true
   },
   "outputs": [],
   "source": []
  }
 ],
 "metadata": {
  "kernelspec": {
   "display_name": "Python 3",
   "language": "python",
   "name": "python3"
  },
  "language_info": {
   "codemirror_mode": {
    "name": "ipython",
    "version": 3
   },
   "file_extension": ".py",
   "mimetype": "text/x-python",
   "name": "python",
   "nbconvert_exporter": "python",
   "pygments_lexer": "ipython3",
   "version": "3.6.4"
  }
 },
 "nbformat": 4,
 "nbformat_minor": 2
}
