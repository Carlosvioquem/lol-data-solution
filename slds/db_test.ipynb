{
 "cells": [
  {
   "cell_type": "code",
   "execution_count": 1,
   "metadata": {},
   "outputs": [],
   "source": [
    "from config.constants import MONGODB_CREDENTIALS, SQL_LEAGUES_CONN, SQL_LEAGUES_ENGINE, API_KEY\n",
    "from pymongo import MongoClient\n",
    "import pandas as pd\n",
    "from sqlalchemy import create_engine\n",
    "import pymysql\n",
    "from riotwatcher import RiotWatcher"
   ]
  },
  {
   "cell_type": "markdown",
   "metadata": {},
   "source": [
    "# MongoDB"
   ]
  },
  {
   "cell_type": "code",
   "execution_count": 2,
   "metadata": {},
   "outputs": [],
   "source": [
    "mongodb = MongoClient(MONGODB_CREDENTIALS).slds"
   ]
  },
  {
   "cell_type": "code",
   "execution_count": 3,
   "metadata": {},
   "outputs": [],
   "source": [
    "soloq_m_coll = mongodb.soloq_m\n",
    "soloq_tl_coll = mongodb.soloq_tl"
   ]
  },
  {
   "cell_type": "code",
   "execution_count": 51,
   "metadata": {},
   "outputs": [],
   "source": [
    "dict1 = {}\n",
    "# dict1['gameCreation'] = {}"
   ]
  },
  {
   "cell_type": "code",
   "execution_count": 56,
   "metadata": {},
   "outputs": [
    {
     "ename": "KeyError",
     "evalue": "'gameCreation'",
     "output_type": "error",
     "traceback": [
      "\u001b[1;31m---------------------------------------------------------------------------\u001b[0m",
      "\u001b[1;31mKeyError\u001b[0m                                  Traceback (most recent call last)",
      "\u001b[1;32m<ipython-input-56-f109452e9a75>\u001b[0m in \u001b[0;36m<module>\u001b[1;34m()\u001b[0m\n\u001b[1;32m----> 1\u001b[1;33m \u001b[0mdict1\u001b[0m\u001b[1;33m[\u001b[0m\u001b[1;34m'gameCreation'\u001b[0m\u001b[1;33m]\u001b[0m\u001b[1;33m[\u001b[0m\u001b[1;34m'$lte'\u001b[0m\u001b[1;33m]\u001b[0m \u001b[1;33m=\u001b[0m \u001b[1;34m'potatoes'\u001b[0m\u001b[1;33m\u001b[0m\u001b[0m\n\u001b[0m",
      "\u001b[1;31mKeyError\u001b[0m: 'gameCreation'"
     ]
    }
   ],
   "source": [
    "dict1['gameCreation']['$lte'] = 'potatoes'"
   ]
  },
  {
   "cell_type": "code",
   "execution_count": 54,
   "metadata": {},
   "outputs": [
    {
     "ename": "KeyError",
     "evalue": "'gameCreation'",
     "output_type": "error",
     "traceback": [
      "\u001b[1;31m---------------------------------------------------------------------------\u001b[0m",
      "\u001b[1;31mKeyError\u001b[0m                                  Traceback (most recent call last)",
      "\u001b[1;32m<ipython-input-54-9a57d5668037>\u001b[0m in \u001b[0;36m<module>\u001b[1;34m()\u001b[0m\n\u001b[1;32m----> 1\u001b[1;33m \u001b[1;32mif\u001b[0m \u001b[0mdict1\u001b[0m\u001b[1;33m[\u001b[0m\u001b[1;34m'gameCreation'\u001b[0m\u001b[1;33m]\u001b[0m\u001b[1;33m:\u001b[0m\u001b[1;33m\u001b[0m\u001b[0m\n\u001b[0m\u001b[0;32m      2\u001b[0m     \u001b[0mprint\u001b[0m\u001b[1;33m(\u001b[0m\u001b[1;34m'hello'\u001b[0m\u001b[1;33m)\u001b[0m\u001b[1;33m\u001b[0m\u001b[0m\n",
      "\u001b[1;31mKeyError\u001b[0m: 'gameCreation'"
     ]
    }
   ],
   "source": [
    "if dict1['gameCreation']:\n",
    "    print('hello')"
   ]
  },
  {
   "cell_type": "code",
   "execution_count": 48,
   "metadata": {},
   "outputs": [],
   "source": [
    "dict1['gameCreation']['$gteeee'] = 'meirae'"
   ]
  },
  {
   "cell_type": "code",
   "execution_count": 49,
   "metadata": {},
   "outputs": [
    {
     "data": {
      "text/plain": [
       "{'gameCreation': {'$gteeee': 'meirae'}}"
      ]
     },
     "execution_count": 49,
     "metadata": {},
     "output_type": "execute_result"
    }
   ],
   "source": [
    "dict1"
   ]
  },
  {
   "cell_type": "code",
   "execution_count": 31,
   "metadata": {},
   "outputs": [],
   "source": [
    "gs = soloq_m_coll.find({'gameCreation': {'$gte': 1526335200000, '$lte': 1526507999000}}, {'_id': 0, 'gameId': 1})"
   ]
  },
  {
   "cell_type": "code",
   "execution_count": 32,
   "metadata": {},
   "outputs": [],
   "source": [
    "gids = [obj['gameId'] for obj in gs]"
   ]
  },
  {
   "cell_type": "code",
   "execution_count": 33,
   "metadata": {},
   "outputs": [
    {
     "data": {
      "text/plain": [
       "356"
      ]
     },
     "execution_count": 33,
     "metadata": {},
     "output_type": "execute_result"
    }
   ],
   "source": [
    "len(gids)"
   ]
  },
  {
   "cell_type": "markdown",
   "metadata": {},
   "source": [
    "### Regex in MongoDB with game versions"
   ]
  },
  {
   "cell_type": "code",
   "execution_count": 193,
   "metadata": {},
   "outputs": [],
   "source": [
    "patch = '8.1'"
   ]
  },
  {
   "cell_type": "code",
   "execution_count": 194,
   "metadata": {},
   "outputs": [],
   "source": [
    "rgex_patch = '^' + '{}'.format(patch).replace('.', r'\\.')"
   ]
  },
  {
   "cell_type": "code",
   "execution_count": 195,
   "metadata": {},
   "outputs": [],
   "source": [
    "gamevers = [game['gameVersion'] for game in soloq_m_coll.find({'platformId': region, 'gameVersion': {'$regex': rgex_patch}}, {'_id': 0, 'gameVersion': 1})]"
   ]
  },
  {
   "cell_type": "code",
   "execution_count": 196,
   "metadata": {},
   "outputs": [
    {
     "data": {
      "text/plain": [
       "8.1.214.5847    14\n",
       "8.1.213.4336    13\n",
       "dtype: int64"
      ]
     },
     "execution_count": 196,
     "metadata": {},
     "output_type": "execute_result"
    }
   ],
   "source": [
    "pd.Series(gamevers).value_counts()"
   ]
  },
  {
   "cell_type": "code",
   "execution_count": null,
   "metadata": {
    "collapsed": true
   },
   "outputs": [],
   "source": [
    "g = soloq_m_coll.find({'participantIdentities.player.accountId': {'$in': [23787352]}}, {'_id': 0, 'gameId': 1})"
   ]
  },
  {
   "cell_type": "code",
   "execution_count": null,
   "metadata": {
    "collapsed": true
   },
   "outputs": [],
   "source": [
    "gs = [obj['gameId'] for obj in g]"
   ]
  },
  {
   "cell_type": "code",
   "execution_count": null,
   "metadata": {
    "collapsed": true
   },
   "outputs": [],
   "source": [
    "pd.DataFrame(gs).rename(columns={0: 'game_id'})"
   ]
  },
  {
   "cell_type": "markdown",
   "metadata": {},
   "source": [
    "# SQL"
   ]
  },
  {
   "cell_type": "code",
   "execution_count": 11,
   "metadata": {},
   "outputs": [],
   "source": [
    "engine = create_engine(SQL_LEAGUES_ENGINE)"
   ]
  },
  {
   "cell_type": "code",
   "execution_count": 12,
   "metadata": {},
   "outputs": [],
   "source": [
    "cnx = engine.connect()"
   ]
  },
  {
   "cell_type": "code",
   "execution_count": 14,
   "metadata": {},
   "outputs": [],
   "source": [
    "df = pd.read_csv('C:\\\\Users\\\\david\\\\Downloads\\\\players_accs.csv')"
   ]
  },
  {
   "cell_type": "code",
   "execution_count": 15,
   "metadata": {},
   "outputs": [],
   "source": [
    "df.to_sql(con=cnx, name='soloq', if_exists='replace')"
   ]
  },
  {
   "cell_type": "code",
   "execution_count": 16,
   "metadata": {},
   "outputs": [],
   "source": [
    "df1 = pd.read_sql_table(con=cnx, table_name='soloq')"
   ]
  },
  {
   "cell_type": "code",
   "execution_count": 31,
   "metadata": {},
   "outputs": [
    {
     "data": {
      "text/html": [
       "<div>\n",
       "<style scoped>\n",
       "    .dataframe tbody tr th:only-of-type {\n",
       "        vertical-align: middle;\n",
       "    }\n",
       "\n",
       "    .dataframe tbody tr th {\n",
       "        vertical-align: top;\n",
       "    }\n",
       "\n",
       "    .dataframe thead th {\n",
       "        text-align: right;\n",
       "    }\n",
       "</style>\n",
       "<table border=\"1\" class=\"dataframe\">\n",
       "  <thead>\n",
       "    <tr style=\"text-align: right;\">\n",
       "      <th></th>\n",
       "      <th>index</th>\n",
       "      <th>region</th>\n",
       "      <th>competition</th>\n",
       "      <th>competition_abbv</th>\n",
       "      <th>team_name</th>\n",
       "      <th>team_abbv</th>\n",
       "      <th>main_role</th>\n",
       "      <th>substitute</th>\n",
       "      <th>player_name</th>\n",
       "      <th>account_id</th>\n",
       "      <th>id</th>\n",
       "      <th>account_type</th>\n",
       "    </tr>\n",
       "  </thead>\n",
       "  <tbody>\n",
       "    <tr>\n",
       "      <th>127</th>\n",
       "      <td>127</td>\n",
       "      <td>EUW1</td>\n",
       "      <td>Superliga Orange</td>\n",
       "      <td>SLO</td>\n",
       "      <td>MAD Lions E.C.</td>\n",
       "      <td>MAD</td>\n",
       "      <td>ADC</td>\n",
       "      <td>0</td>\n",
       "      <td>Crownshot</td>\n",
       "      <td>23224919</td>\n",
       "      <td>20193482</td>\n",
       "      <td>1</td>\n",
       "    </tr>\n",
       "    <tr>\n",
       "      <th>128</th>\n",
       "      <td>128</td>\n",
       "      <td>EUW1</td>\n",
       "      <td>Superliga Orange</td>\n",
       "      <td>SLO</td>\n",
       "      <td>MAD Lions E.C.</td>\n",
       "      <td>MAD</td>\n",
       "      <td>ADC</td>\n",
       "      <td>0</td>\n",
       "      <td>Crownshot</td>\n",
       "      <td>35915616</td>\n",
       "      <td>32131358</td>\n",
       "      <td>2</td>\n",
       "    </tr>\n",
       "    <tr>\n",
       "      <th>129</th>\n",
       "      <td>129</td>\n",
       "      <td>EUW1</td>\n",
       "      <td>Superliga Orange</td>\n",
       "      <td>SLO</td>\n",
       "      <td>MAD Lions E.C.</td>\n",
       "      <td>MAD</td>\n",
       "      <td>JUNG</td>\n",
       "      <td>0</td>\n",
       "      <td>Selfmade</td>\n",
       "      <td>1951948717822624</td>\n",
       "      <td>111616968</td>\n",
       "      <td>2</td>\n",
       "    </tr>\n",
       "    <tr>\n",
       "      <th>130</th>\n",
       "      <td>130</td>\n",
       "      <td>EUW1</td>\n",
       "      <td>Superliga Orange</td>\n",
       "      <td>SLO</td>\n",
       "      <td>MAD Lions E.C.</td>\n",
       "      <td>MAD</td>\n",
       "      <td>JUNG</td>\n",
       "      <td>0</td>\n",
       "      <td>Selfmade</td>\n",
       "      <td>232115809</td>\n",
       "      <td>97668760</td>\n",
       "      <td>1</td>\n",
       "    </tr>\n",
       "    <tr>\n",
       "      <th>131</th>\n",
       "      <td>131</td>\n",
       "      <td>EUW1</td>\n",
       "      <td>Superliga Orange</td>\n",
       "      <td>SLO</td>\n",
       "      <td>MAD Lions E.C.</td>\n",
       "      <td>MAD</td>\n",
       "      <td>JUNG</td>\n",
       "      <td>0</td>\n",
       "      <td>Selfmade</td>\n",
       "      <td>235096257</td>\n",
       "      <td>102917373</td>\n",
       "      <td>2</td>\n",
       "    </tr>\n",
       "    <tr>\n",
       "      <th>132</th>\n",
       "      <td>132</td>\n",
       "      <td>EUW1</td>\n",
       "      <td>Superliga Orange</td>\n",
       "      <td>SLO</td>\n",
       "      <td>MAD Lions E.C.</td>\n",
       "      <td>MAD</td>\n",
       "      <td>MID</td>\n",
       "      <td>0</td>\n",
       "      <td>Nemesis</td>\n",
       "      <td>200733551</td>\n",
       "      <td>41528584</td>\n",
       "      <td>1</td>\n",
       "    </tr>\n",
       "    <tr>\n",
       "      <th>133</th>\n",
       "      <td>133</td>\n",
       "      <td>EUW1</td>\n",
       "      <td>Superliga Orange</td>\n",
       "      <td>SLO</td>\n",
       "      <td>MAD Lions E.C.</td>\n",
       "      <td>MAD</td>\n",
       "      <td>MID</td>\n",
       "      <td>0</td>\n",
       "      <td>Nemesis</td>\n",
       "      <td>228412763</td>\n",
       "      <td>88038972</td>\n",
       "      <td>2</td>\n",
       "    </tr>\n",
       "    <tr>\n",
       "      <th>134</th>\n",
       "      <td>134</td>\n",
       "      <td>EUW1</td>\n",
       "      <td>Superliga Orange</td>\n",
       "      <td>SLO</td>\n",
       "      <td>MAD Lions E.C.</td>\n",
       "      <td>MAD</td>\n",
       "      <td>MID</td>\n",
       "      <td>0</td>\n",
       "      <td>Nemesis</td>\n",
       "      <td>241526016</td>\n",
       "      <td>110526821</td>\n",
       "      <td>2</td>\n",
       "    </tr>\n",
       "    <tr>\n",
       "      <th>135</th>\n",
       "      <td>135</td>\n",
       "      <td>EUW1</td>\n",
       "      <td>Superliga Orange</td>\n",
       "      <td>SLO</td>\n",
       "      <td>MAD Lions E.C.</td>\n",
       "      <td>MAD</td>\n",
       "      <td>SUPP</td>\n",
       "      <td>0</td>\n",
       "      <td>Falco</td>\n",
       "      <td>79725</td>\n",
       "      <td>74406</td>\n",
       "      <td>1</td>\n",
       "    </tr>\n",
       "    <tr>\n",
       "      <th>136</th>\n",
       "      <td>136</td>\n",
       "      <td>EUW1</td>\n",
       "      <td>Superliga Orange</td>\n",
       "      <td>SLO</td>\n",
       "      <td>MAD Lions E.C.</td>\n",
       "      <td>MAD</td>\n",
       "      <td>SUPP</td>\n",
       "      <td>0</td>\n",
       "      <td>Falco</td>\n",
       "      <td>229426824</td>\n",
       "      <td>91058553</td>\n",
       "      <td>2</td>\n",
       "    </tr>\n",
       "    <tr>\n",
       "      <th>137</th>\n",
       "      <td>137</td>\n",
       "      <td>EUW1</td>\n",
       "      <td>Superliga Orange</td>\n",
       "      <td>SLO</td>\n",
       "      <td>MAD Lions E.C.</td>\n",
       "      <td>MAD</td>\n",
       "      <td>TOP</td>\n",
       "      <td>0</td>\n",
       "      <td>Werlyb</td>\n",
       "      <td>219693852</td>\n",
       "      <td>70028107</td>\n",
       "      <td>1</td>\n",
       "    </tr>\n",
       "    <tr>\n",
       "      <th>138</th>\n",
       "      <td>138</td>\n",
       "      <td>EUW1</td>\n",
       "      <td>Superliga Orange</td>\n",
       "      <td>SLO</td>\n",
       "      <td>MAD Lions E.C.</td>\n",
       "      <td>MAD</td>\n",
       "      <td>TOP</td>\n",
       "      <td>0</td>\n",
       "      <td>Werlyb</td>\n",
       "      <td>30080667</td>\n",
       "      <td>25948857</td>\n",
       "      <td>2</td>\n",
       "    </tr>\n",
       "  </tbody>\n",
       "</table>\n",
       "</div>"
      ],
      "text/plain": [
       "     index region       competition competition_abbv       team_name  \\\n",
       "127    127   EUW1  Superliga Orange              SLO  MAD Lions E.C.   \n",
       "128    128   EUW1  Superliga Orange              SLO  MAD Lions E.C.   \n",
       "129    129   EUW1  Superliga Orange              SLO  MAD Lions E.C.   \n",
       "130    130   EUW1  Superliga Orange              SLO  MAD Lions E.C.   \n",
       "131    131   EUW1  Superliga Orange              SLO  MAD Lions E.C.   \n",
       "132    132   EUW1  Superliga Orange              SLO  MAD Lions E.C.   \n",
       "133    133   EUW1  Superliga Orange              SLO  MAD Lions E.C.   \n",
       "134    134   EUW1  Superliga Orange              SLO  MAD Lions E.C.   \n",
       "135    135   EUW1  Superliga Orange              SLO  MAD Lions E.C.   \n",
       "136    136   EUW1  Superliga Orange              SLO  MAD Lions E.C.   \n",
       "137    137   EUW1  Superliga Orange              SLO  MAD Lions E.C.   \n",
       "138    138   EUW1  Superliga Orange              SLO  MAD Lions E.C.   \n",
       "\n",
       "    team_abbv main_role  substitute player_name        account_id         id  \\\n",
       "127       MAD       ADC           0   Crownshot          23224919   20193482   \n",
       "128       MAD       ADC           0   Crownshot          35915616   32131358   \n",
       "129       MAD      JUNG           0    Selfmade  1951948717822624  111616968   \n",
       "130       MAD      JUNG           0    Selfmade         232115809   97668760   \n",
       "131       MAD      JUNG           0    Selfmade         235096257  102917373   \n",
       "132       MAD       MID           0     Nemesis         200733551   41528584   \n",
       "133       MAD       MID           0     Nemesis         228412763   88038972   \n",
       "134       MAD       MID           0     Nemesis         241526016  110526821   \n",
       "135       MAD      SUPP           0       Falco             79725      74406   \n",
       "136       MAD      SUPP           0       Falco         229426824   91058553   \n",
       "137       MAD       TOP           0      Werlyb         219693852   70028107   \n",
       "138       MAD       TOP           0      Werlyb          30080667   25948857   \n",
       "\n",
       "     account_type  \n",
       "127             1  \n",
       "128             2  \n",
       "129             2  \n",
       "130             1  \n",
       "131             2  \n",
       "132             1  \n",
       "133             2  \n",
       "134             2  \n",
       "135             1  \n",
       "136             2  \n",
       "137             1  \n",
       "138             2  "
      ]
     },
     "execution_count": 31,
     "metadata": {},
     "output_type": "execute_result"
    }
   ],
   "source": [
    "df1.loc[df1.team_abbv == 'MAD']"
   ]
  },
  {
   "cell_type": "code",
   "execution_count": 18,
   "metadata": {},
   "outputs": [],
   "source": [
    "cnx.close()"
   ]
  },
  {
   "cell_type": "code",
   "execution_count": 21,
   "metadata": {},
   "outputs": [
    {
     "data": {
      "text/plain": [
       "False"
      ]
     },
     "execution_count": 21,
     "metadata": {},
     "output_type": "execute_result"
    }
   ],
   "source": [
    "any(df1.account_id) is None"
   ]
  },
  {
   "cell_type": "code",
   "execution_count": null,
   "metadata": {},
   "outputs": [],
   "source": []
  },
  {
   "cell_type": "code",
   "execution_count": 1,
   "metadata": {},
   "outputs": [],
   "source": [
    "from riotwatcher import RiotWatcher\n",
    "rw = RiotWatcher(api_key='RGAPI-b5bdc06a-c1de-45cb-9b6e-fbe57909daa6')"
   ]
  },
  {
   "cell_type": "code",
   "execution_count": 4,
   "metadata": {},
   "outputs": [
    {
     "ename": "TypeError",
     "evalue": "rune() missing 1 required positional argument: 'rune_id'",
     "output_type": "error",
     "traceback": [
      "\u001b[1;31m---------------------------------------------------------------------------\u001b[0m",
      "\u001b[1;31mTypeError\u001b[0m                                 Traceback (most recent call last)",
      "\u001b[1;32m<ipython-input-4-634173bc8583>\u001b[0m in \u001b[0;36m<module>\u001b[1;34m()\u001b[0m\n\u001b[1;32m----> 1\u001b[1;33m \u001b[0mrw\u001b[0m\u001b[1;33m.\u001b[0m\u001b[0mstatic_data\u001b[0m\u001b[1;33m.\u001b[0m\u001b[0mrune\u001b[0m\u001b[1;33m(\u001b[0m\u001b[0mregion\u001b[0m\u001b[1;33m=\u001b[0m\u001b[1;34m'EUW1'\u001b[0m\u001b[1;33m)\u001b[0m\u001b[1;33m\u001b[0m\u001b[0m\n\u001b[0m",
      "\u001b[1;31mTypeError\u001b[0m: rune() missing 1 required positional argument: 'rune_id'"
     ]
    }
   ],
   "source": [
    "rw.static_data."
   ]
  },
  {
   "cell_type": "code",
   "execution_count": null,
   "metadata": {},
   "outputs": [],
   "source": []
  }
 ],
 "metadata": {
  "kernelspec": {
   "display_name": "Python 3",
   "language": "python",
   "name": "python3"
  },
  "language_info": {
   "codemirror_mode": {
    "name": "ipython",
    "version": 3
   },
   "file_extension": ".py",
   "mimetype": "text/x-python",
   "name": "python",
   "nbconvert_exporter": "python",
   "pygments_lexer": "ipython3",
   "version": "3.6.4"
  }
 },
 "nbformat": 4,
 "nbformat_minor": 2
}
